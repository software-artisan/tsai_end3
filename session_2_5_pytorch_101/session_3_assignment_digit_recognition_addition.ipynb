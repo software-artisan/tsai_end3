{
  "nbformat": 4,
  "nbformat_minor": 0,
  "metadata": {
    "colab": {
      "name": "session_3_assignment_digit_recognition_addition.ipynb",
      "provenance": [],
      "collapsed_sections": [],
      "include_colab_link": true
    },
    "kernelspec": {
      "name": "python3",
      "display_name": "Python 3"
    },
    "language_info": {
      "name": "python"
    },
    "accelerator": "GPU"
  },
  "cells": [
    {
      "cell_type": "markdown",
      "metadata": {
        "id": "view-in-github",
        "colab_type": "text"
      },
      "source": [
        "<a href=\"https://colab.research.google.com/github/software-artisan/tsai_end3/blob/main/session_2_5_pytorch_101/session_3_assignment_digit_recognition_addition.ipynb\" target=\"_parent\"><img src=\"https://colab.research.google.com/assets/colab-badge.svg\" alt=\"Open In Colab\"/></a>"
      ]
    },
    {
      "cell_type": "markdown",
      "metadata": {
        "id": "jelURTVrLCkl"
      },
      "source": [
        "# Handwritten digit Recognition and adder network\n",
        "\n"
      ]
    },
    {
      "cell_type": "code",
      "metadata": {
        "id": "fdlZYQeUquvJ",
        "colab": {
          "base_uri": "https://localhost:8080/"
        },
        "outputId": "659eee20-ed77-49bd-c0fc-440e5b2fa60c"
      },
      "source": [
        "from __future__ import print_function\n",
        "import torch\n",
        "import torch.nn as nn\n",
        "import torch.nn.functional as F\n",
        "import torch.optim as optim\n",
        "from torchvision import datasets, transforms\n",
        "\n",
        "print(f\"torch.__version__={torch.__version__}; torch.cuda.get_device_name()={torch.cuda.get_device_name()}; torch.cuda.get_device_properties('cuda:0')={torch.cuda.get_device_properties('cuda:0')}\" )"
      ],
      "execution_count": 9,
      "outputs": [
        {
          "output_type": "stream",
          "name": "stdout",
          "text": [
            "torch.__version__=1.9.0+cu111; torch.cuda.get_device_name()=Tesla P100-PCIE-16GB; torch.cuda.get_device_properties('cuda:0')=_CudaDeviceProperties(name='Tesla P100-PCIE-16GB', major=6, minor=0, total_memory=16280MB, multi_processor_count=56)\n"
          ]
        }
      ]
    },
    {
      "cell_type": "code",
      "metadata": {
        "id": "h7utJRVXv7uX"
      },
      "source": [
        "once = True\n",
        "\n",
        "# this class defines the CNN or convulational neural network\n",
        "class Net(nn.Module):\n",
        "    def __init__(self):\n",
        "        super(Net, self).__init__()\n",
        "        # shown below are the definitions of the layers of the network\n",
        "\n",
        "        # input = 28x28x1 | kernels = (3x3x1)x8 | output = 28x28x8  | RF = 3x3\n",
        "        self.conv1 = nn.Conv2d(in_channels=1, out_channels=8, kernel_size=3, padding=1) #input -? OUtput? RF\n",
        "        \n",
        "        # input = 28x28x8 (padding=1) | kernels = (3x3x32)x16 | output = 28x28x16 | RF = 5x5\n",
        "        self.conv2 = nn.Conv2d(in_channels=8, out_channels=16, kernel_size=3, padding=1)\n",
        "        \n",
        "        # input = 28x28x16 | maxpool = 2x2 | output = 14x14x16 | RF = 10x10\n",
        "        self.pool1 = nn.MaxPool2d(kernel_size=2, stride=2)\n",
        "        \n",
        "        # input = 14x14x16 (padding=1) | kernels = (3x3x64)16 | output = 14x14x16 | RF = 12x12\n",
        "        self.conv3 = nn.Conv2d(in_channels=16, out_channels=16, kernel_size=3, padding=1)\n",
        "        \n",
        "        # input = 14x14x16 (padding=1) | kernels = (3x3x128)x16 | output = 14x14x16 | RF = 14x14\n",
        "        self.conv4 = nn.Conv2d(in_channels=16, out_channels=16, kernel_size=3, padding=1)\n",
        "        \n",
        "        # input = 14x14x16 | maxpool = 2x2 | output = 7x7x16 | RF = 28x28\n",
        "        self.pool2 = nn.MaxPool2d(kernel_size=2, stride=2)\n",
        "        \n",
        "        # # input = 7x7x64 | kernel = (3x3x256)x128 | output = 5x5x128 | RF=30x30\n",
        "        # self.conv5 = nn.Conv2d(in_channels=16, out_channels=16, kernel_size=3)\n",
        "        \n",
        "        # # input = 5x5x128 | kernel = (3x3x512)x256 | output = 3x3x256 | RF=32x32\n",
        "        # self.conv6 = nn.Conv2d(in_channels=16, out_channels=16, kernel_size=3)\n",
        "        \n",
        "        # # input = 3x3x256 | kernel = (3x3x1024)x10 | output = 1x1x10 | RF=34x34\n",
        "        # self.conv7 = nn.Conv2d(in_channels=16, out_channels=10, kernel_size=3)\n",
        "\n",
        "        # input = 794 | output = 30 \n",
        "        self.fc1 = nn.Linear(in_features=7*7*16 + 10, out_features=30)\n",
        "        # input = 30 | output = 30\n",
        "        self.fc2 = nn.Linear(in_features=30, out_features=30)\n",
        "\n",
        "        # this is the output layer for mnist\n",
        "        # input = 30 | output = 10\n",
        "        self.out_mnist = nn.Linear(in_features=30, out_features=10)\n",
        "\n",
        "        # this is the output layer for the adder\n",
        "        # input=30 | output=19 (max sum of two digits=18)\n",
        "        self.out_adder = nn.Linear(in_features=30, out_features=19)\n",
        "\n",
        "    def forward(self, mnist, num):\n",
        "        global once\n",
        "\n",
        "        # seems to define the forward propogation of the neural network\n",
        "        mnist = self.pool1(F.relu(self.conv2(F.relu(self.conv1(mnist)))))\n",
        "        mnist = self.pool2(F.relu(self.conv4(F.relu(self.conv3(mnist)))))\n",
        "\n",
        "        # x = F.relu(self.conv6(F.relu(self.conv5(x))))\n",
        "        # #x = F.relu(self.conv7(x))\n",
        "        # x = self.conv7(x)\n",
        "        # x = x.view(-1, 10)\n",
        "        # return F.log_softmax(x)\n",
        "\n",
        "        #if once: print(f\"mnist.shape after maxpool2={mnist.shape}\")\n",
        "        mnist = mnist.reshape(-1, 7*7*16)\n",
        "        # Concatenating one hot encoding of input2 digit to FC layer\n",
        "        mnist_and_num = torch.cat((mnist, num), dim=1) \n",
        "        #if once: print(f\"mnist_and_num.shape after torch.cat()={mnist_and_num.shape}\")\n",
        "        # hidden fc1 linear layer\n",
        "        mnist_and_num = F.relu(self.fc1(mnist_and_num))\n",
        "\n",
        "        # hidden fc2 linear layer\n",
        "        mnist_and_num = F.relu(self.fc2(mnist_and_num))\n",
        "\n",
        "        # output linear layer\n",
        "        mnist = self.out_mnist(mnist_and_num)\n",
        "        mnist_num_sum = self.out_adder(mnist_and_num)\n",
        "\n",
        "        return F.log_softmax(mnist), F.log_softmax(mnist_num_sum)\n",
        "        #return mnist, mnist_num_sum"
      ],
      "execution_count": 10,
      "outputs": []
    },
    {
      "cell_type": "code",
      "metadata": {
        "colab": {
          "base_uri": "https://localhost:8080/"
        },
        "id": "ZkepUAjwwQy7",
        "outputId": "94de5996-d2db-4a7f-d46c-34886786aa49"
      },
      "source": [
        "!pip install torchsummary\n",
        "from torchsummary import summary\n",
        "use_cuda = torch.cuda.is_available()\n",
        "device = torch.device(\"cuda\" if use_cuda else \"cpu\")\n",
        "model = Net().to(device)\n",
        "# print a summary of the model for an input of size 28x28x1 (l x w xchannels)\n",
        "#summary(model, input_size=[(1, 28, 28),(1,10)])\n",
        "print(model)"
      ],
      "execution_count": 11,
      "outputs": [
        {
          "output_type": "stream",
          "name": "stdout",
          "text": [
            "Requirement already satisfied: torchsummary in /usr/local/lib/python3.7/dist-packages (1.5.1)\n",
            "Net(\n",
            "  (conv1): Conv2d(1, 8, kernel_size=(3, 3), stride=(1, 1), padding=(1, 1))\n",
            "  (conv2): Conv2d(8, 16, kernel_size=(3, 3), stride=(1, 1), padding=(1, 1))\n",
            "  (pool1): MaxPool2d(kernel_size=2, stride=2, padding=0, dilation=1, ceil_mode=False)\n",
            "  (conv3): Conv2d(16, 16, kernel_size=(3, 3), stride=(1, 1), padding=(1, 1))\n",
            "  (conv4): Conv2d(16, 16, kernel_size=(3, 3), stride=(1, 1), padding=(1, 1))\n",
            "  (pool2): MaxPool2d(kernel_size=2, stride=2, padding=0, dilation=1, ceil_mode=False)\n",
            "  (fc1): Linear(in_features=794, out_features=30, bias=True)\n",
            "  (fc2): Linear(in_features=30, out_features=30, bias=True)\n",
            "  (out_mnist): Linear(in_features=30, out_features=10, bias=True)\n",
            "  (out_adder): Linear(in_features=30, out_features=19, bias=True)\n",
            ")\n"
          ]
        }
      ]
    },
    {
      "cell_type": "code",
      "metadata": {
        "id": "CPjIspYjwSNG"
      },
      "source": [
        "\n",
        "torch.manual_seed(1)\n",
        "batch_size = 1000\n",
        "\n",
        "kwargs = {'num_workers': 1, 'pin_memory': True} if use_cuda else {}\n",
        "# data loader for training ???.  download=True means download the dataset (training images and labels for images) if the dataset wasn't downloaded already\n",
        "train_loader = torch.utils.data.DataLoader(\n",
        "    datasets.MNIST('../data', train=True, download=True,\n",
        "                    transform=transforms.Compose([\n",
        "                        transforms.ToTensor(),\n",
        "                        transforms.Normalize((0.1307,), (0.3081,))  # need to understand why we normalize?  even without normalization, accuracy was still 97%\n",
        "                    ])),\n",
        "    batch_size=batch_size, shuffle=True, **kwargs)\n",
        "# data loader for testing???  download=True means download the dataset (training images and labels for images) if the dataset wasn't downloaded already\n",
        "test_loader = torch.utils.data.DataLoader(\n",
        "    datasets.MNIST('../data', train=False, transform=transforms.Compose([\n",
        "                        transforms.ToTensor(),\n",
        "                        transforms.Normalize((0.1307,), (0.3081,))\n",
        "                    ])),\n",
        "    batch_size=batch_size, shuffle=True, **kwargs)\n"
      ],
      "execution_count": 12,
      "outputs": []
    },
    {
      "cell_type": "code",
      "metadata": {
        "id": "TASiRqwAwazW"
      },
      "source": [
        "# Decorate an iterable object, returning an iterator which acts exactly like the original iterable, but prints a dynamically updating progressbar every time a value is requested.\n",
        "from tqdm import tqdm\n",
        "import IPython.core.debugger\n",
        "\n",
        "# this is the function that trains the specified 'model' using the 'train_loader', optimizer and others\n",
        "def train(model, device, train_loader, optimizer, epoch):\n",
        "    model.train()\n",
        "    pbar = tqdm(train_loader)\n",
        "    epoch_loss = 0; epoch_correct = 0; epoch_adder_loss=0; epoch_sum_correct = 0; epoch_mnist_loss=0; epoch_mnist_correct=0\n",
        "    for batch_idx, (data, target) in enumerate(pbar):  # target is the 'label' for this image..\n",
        "        data, target = data.to(device), target.to(device)\n",
        "\n",
        "        # generate random ints\n",
        "        # Returns a tensor filled with random integers generated uniformly between low (inclusive) and high (exclusive).\n",
        "        rand_digits = torch.randint(low=0, high=10, size=(batch_size,)) # batch_size rand ints\n",
        "        # Takes LongTensor with index values of shape (*) and returns a tensor of shape (*, num_classes) that have zeros everywhere except where the index of last dimension matches the corresponding value of the input tensor, in which case it will be 1.\n",
        "        rand_digits_one = F.one_hot(rand_digits, num_classes=10) # one hot encoding\n",
        "        rand_digits_one = rand_digits_one.to(device)\n",
        "        rand_digits = rand_digits.to(device)        \n",
        "\n",
        "        optimizer.zero_grad()  # for each batch, zero the gradient (from processing of prior batch)\n",
        "        \n",
        "        output, summation = model(data, rand_digits_one)   # predict using the model for the given data (batch); for each batch, output.shape=torch.Size([128, 10]); for last batch it is output.shape=torch.Size([96, 10])\n",
        "        \n",
        "        #if (batch_idx in (0, 468)): \n",
        "        #  print(f\"\\noutput.shape={output.shape}; prediction for first image in batch: output[0]={output[0]}\")  #print 'output' from 1st and last\n",
        "        \n",
        "        # The negative log likelihood loss.  The negative log likelihood loss. It is useful to train a classification problem with C classes. \n",
        "        # https://pytorch.org/docs/master/generated/torch.nn.functional.nll_loss.html\n",
        "        mnist_loss = F.nll_loss(output, target)  # compute the loss\n",
        "        adder_loss = F.nll_loss(summation, rand_digits + target) # Calculate Loss\n",
        "        #mnist_loss = F.cross_entropy(output, target)  # compute the loss\n",
        "        #adder_loss = F.cross_entropy(summation, rand_digits + target) # Calculate Loss\n",
        "\n",
        "        loss = mnist_loss + adder_loss\n",
        "\n",
        "        loss.backward()   # do backward propogation; update gradients of tensors in dynamic computation graph, starting from 'loss' node in the graph..\n",
        "        \n",
        "        optimizer.step()  # use the updated gradients to adjust the weight of each kernel\n",
        "        \n",
        "        pred_mnist = output.argmax(dim=1, keepdim=True)  # get the index of the max log-probability using argmax(); this index represents the predicted digit\n",
        "        #  get the correct number of predictions for this batch\n",
        "        mnist_correct = pred_mnist.eq(target.view_as(pred_mnist)).sum().item()   # tensor.eq() method: computes if one element of a tensor is equal to the corresponding element of another tensor;\n",
        "\n",
        "        pred_sum = summation.argmax(dim=1, keepdim=True) # get the index of the max log-probability using argmax(); this index represents the sum of the two numbers\n",
        "        sum_correct = pred_sum.eq((rand_digits + target).view_as(pred_sum)).sum().item()   # tensor.eq() method: computes if one element of a tensor is equal to the corresponding element of another tensor;  \n",
        "        #IPython.core.debugger.set_trace()\n",
        "\n",
        "        epoch_mnist_loss += mnist_loss\n",
        "        epoch_mnist_correct += mnist_correct\n",
        "        epoch_adder_loss += adder_loss\n",
        "        epoch_sum_correct += sum_correct\n",
        "\n",
        "        # Training phase: batch_id=59; total loss=4.909124374389648; mnist loss=2.118312358856201; adder loss=2.7908122539520264; epoch_mnist_correct=9742/60000; epoch_sum_correct=5751/60000: 100%|██████████| 60/60 [00:08<00:00,  6.82it/s]\n",
        "        pbar.set_description(desc= f'Training phase: batch_id={batch_idx}; total loss={loss.item()}; mnist loss={mnist_loss.item()}; adder loss={adder_loss.item()}; epoch_mnist_correct={epoch_mnist_correct}/{len(train_loader.dataset)}; epoch_sum_correct={epoch_sum_correct}/{len(train_loader.dataset)}')\n",
        "\n",
        "    # Training set: Average mnist loss: 0.0023; mnist Accuracy: 9742/60000   16.2367%; adder Accuracy: 5751/60000   9.5850%\n",
        "    print(f'Training set: Average mnist loss: {epoch_mnist_loss/len(train_loader.dataset):.4f}; mnist Accuracy: {epoch_mnist_correct}/{len(train_loader.dataset)}   {100. * epoch_mnist_correct / len(train_loader.dataset):.4f}%; Average adder loss: {epoch_adder_loss/len(train_loader.dataset):.4f}; adder Accuracy: {epoch_sum_correct}/{len(train_loader.dataset)}   {100. * epoch_sum_correct / len(train_loader.dataset):.4f}%')\n",
        "\n",
        "# this functions tests the trained model 'model' by comparing the predictions done by the trained model with the label for the image in the test data\n",
        "def test(model, device, test_loader):\n",
        "    model.eval()\n",
        "    test_mnist_loss = 0; test_sum_loss = 0\n",
        "    mnist_correct = 0; sum_correct = 0\n",
        "    pbar = tqdm(test_loader)\n",
        "    with torch.no_grad():   # during testing/inferencing, backprop is not needed; so disable autograd.\n",
        "        for data, target in pbar:   # target is the 'label' for this image..\n",
        "            data, target = data.to(device), target.to(device)\n",
        "\n",
        "            # generate random ints\n",
        "            # Returns a tensor filled with random integers generated uniformly between low (inclusive) and high (exclusive).\n",
        "            rand_digits = torch.randint(low=0, high=10, size=(batch_size,)) # batch_size rand ints\n",
        "            # Takes LongTensor with index values of shape (*) and returns a tensor of shape (*, num_classes) that have zeros everywhere except where the index of last dimension matches the corresponding value of the input tensor, in which case it will be 1.\n",
        "            rand_digits_one = F.one_hot(rand_digits, num_classes=10) # one hot encoding\n",
        "            rand_digits_one = rand_digits_one.to(device)\n",
        "            rand_digits = rand_digits.to(device)        \n",
        "\n",
        "            output, summation = model(data, rand_digits_one)   # make the prediction for the given test data\n",
        "            \n",
        "            test_mnist_loss += F.nll_loss(output, target, reduction='sum').item()  # sum up batch loss\n",
        "            test_sum_loss += F.nll_loss(summation, rand_digits + target, reduction='sum').item()\n",
        "\n",
        "            pred = output.argmax(dim=1, keepdim=True)  # get the index of the max log-probability using argmax(); this index represents the predicted digit\n",
        "            pred_sum = summation.argmax(dim=1, keepdim=True)  # get the index of the max log-probability using argmax(); this index represents the predicted digit\n",
        "\n",
        "            #  get the correct number of predictions for this batch\n",
        "            mnist_correct += pred.eq(target.view_as(pred)).sum().item()   # tensor.eq() method: computes if one element of a tensor is equal to the corresponding element of another tensor;\n",
        "            sum_correct += pred_sum.eq((rand_digits + target).view_as(pred_sum)).sum().item()   # tensor.eq() method: computes if one element of a tensor is equal to the corresponding element of another tensor;  \n",
        "\n",
        "            # Testing phase: total_test_loss=49033.707763671875; total_correct=4510/10000; total_sum_correct=913/10000: 100%|██████████| 10/10 [00:01<00:00,  6.98it/s]\n",
        "            pbar.set_description(desc=f'Testing phase: total_test_loss={test_mnist_loss + test_sum_loss};  total_mnist_loss={test_mnist_loss}; total_mnist_correct={mnist_correct}/{len(test_loader.dataset)};  total_adder_loss={test_sum_loss}; total_adder_correct={sum_correct}/{len(test_loader.dataset)}')\n",
        "\n",
        "    test_mnist_loss /= len(test_loader.dataset)\n",
        "\n",
        "    # Test set: Average loss: 2.0894, Accuracy: 4510/10000 (45%)\n",
        "    print(f'Test set: Average mnist loss: {test_mnist_loss:.4f}; mnist Accuracy: {mnist_correct}/{len(test_loader.dataset)} ({100. * mnist_correct / len(test_loader.dataset):.4f}%); Average adder loss: {test_sum_loss/len(test_loader.dataset):.4f}; adder Accuracy: {sum_correct}/{len(test_loader.dataset)} ({100. * sum_correct / len(test_loader.dataset):.4f}%)')\n"
      ],
      "execution_count": 13,
      "outputs": []
    },
    {
      "cell_type": "code",
      "metadata": {
        "id": "HQfJu3S2weZ2",
        "colab": {
          "base_uri": "https://localhost:8080/"
        },
        "outputId": "c2607bc3-3608-4185-e898-3400e7685c56"
      },
      "source": [
        "\n",
        "model = Net().to(device)\n",
        "optimizer = optim.SGD(model.parameters(), lr=0.01, momentum=0.9)\n",
        "#optimizer = optim.Adam(model.parameters(), lr=0.005)\n",
        "\n",
        "\n",
        "once=True\n",
        "for epoch in range(50):\n",
        "    print(f\"Epoch: {epoch+1}\" )\n",
        "    train(model, device, train_loader, optimizer, epoch)\n",
        "    test(model, device, test_loader)\n",
        "    once=False\n"
      ],
      "execution_count": 14,
      "outputs": [
        {
          "output_type": "stream",
          "name": "stdout",
          "text": [
            "Epoch: 1\n"
          ]
        },
        {
          "output_type": "stream",
          "name": "stderr",
          "text": [
            "  0%|          | 0/60 [00:00<?, ?it/s]/usr/local/lib/python3.7/dist-packages/ipykernel_launcher.py:77: UserWarning: Implicit dimension choice for log_softmax has been deprecated. Change the call to include dim=X as an argument.\n",
            "Training phase: batch_id=59; total loss=5.184051036834717; mnist loss=2.2986719608306885; adder loss=2.8853790760040283; epoch_mnist_correct=5840/60000; epoch_sum_correct=4116/60000: 100%|██████████| 60/60 [00:08<00:00,  6.68it/s]\n"
          ]
        },
        {
          "output_type": "stream",
          "name": "stdout",
          "text": [
            "Training set: Average mnist loss: 0.0023; mnist Accuracy: 5840/60000   9.7333%; Average adder loss: 0.0029; adder Accuracy: 4116/60000   6.8600%\n"
          ]
        },
        {
          "output_type": "stream",
          "name": "stderr",
          "text": [
            "Testing phase: total_test_loss=51830.55712890625;  total_mnist_loss=23015.243896484375; total_mnist_correct=958/10000;  total_adder_loss=28815.313232421875; total_adder_correct=643/10000: 100%|██████████| 10/10 [00:01<00:00,  5.84it/s]\n"
          ]
        },
        {
          "output_type": "stream",
          "name": "stdout",
          "text": [
            "Test set: Average mnist loss: 2.3015; mnist Accuracy: 958/10000 (9.5800%); Average adder loss: 2.8815; adder Accuracy: 643/10000 (6.4300%)\n",
            "Epoch: 2\n"
          ]
        },
        {
          "output_type": "stream",
          "name": "stderr",
          "text": [
            "Training phase: batch_id=59; total loss=4.909207344055176; mnist loss=2.1183931827545166; adder loss=2.7908143997192383; epoch_mnist_correct=9737/60000; epoch_sum_correct=5751/60000: 100%|██████████| 60/60 [00:09<00:00,  6.46it/s]\n"
          ]
        },
        {
          "output_type": "stream",
          "name": "stdout",
          "text": [
            "Training set: Average mnist loss: 0.0023; mnist Accuracy: 9737/60000   16.2283%; Average adder loss: 0.0028; adder Accuracy: 5751/60000   9.5850%\n"
          ]
        },
        {
          "output_type": "stream",
          "name": "stderr",
          "text": [
            "Testing phase: total_test_loss=49034.7119140625;  total_mnist_loss=20895.298828125; total_mnist_correct=4516/10000;  total_adder_loss=28139.4130859375; total_adder_correct=912/10000: 100%|██████████| 10/10 [00:01<00:00,  5.98it/s]\n"
          ]
        },
        {
          "output_type": "stream",
          "name": "stdout",
          "text": [
            "Test set: Average mnist loss: 2.0895; mnist Accuracy: 4516/10000 (45.1600%); Average adder loss: 2.8139; adder Accuracy: 912/10000 (9.1200%)\n",
            "Epoch: 3\n"
          ]
        },
        {
          "output_type": "stream",
          "name": "stderr",
          "text": [
            "Training phase: batch_id=59; total loss=3.174203634262085; mnist loss=0.5104045867919922; adder loss=2.6637990474700928; epoch_mnist_correct=41255/60000; epoch_sum_correct=5613/60000: 100%|██████████| 60/60 [00:09<00:00,  6.41it/s]\n"
          ]
        },
        {
          "output_type": "stream",
          "name": "stdout",
          "text": [
            "Training set: Average mnist loss: 0.0010; mnist Accuracy: 41255/60000   68.7583%; Average adder loss: 0.0028; adder Accuracy: 5613/60000   9.3550%\n"
          ]
        },
        {
          "output_type": "stream",
          "name": "stderr",
          "text": [
            "Testing phase: total_test_loss=31124.83367919922;  total_mnist_loss=4941.840515136719; total_mnist_correct=8464/10000;  total_adder_loss=26182.9931640625; total_adder_correct=967/10000: 100%|██████████| 10/10 [00:01<00:00,  6.40it/s]\n"
          ]
        },
        {
          "output_type": "stream",
          "name": "stdout",
          "text": [
            "Test set: Average mnist loss: 0.4942; mnist Accuracy: 8464/10000 (84.6400%); Average adder loss: 2.6183; adder Accuracy: 967/10000 (9.6700%)\n",
            "Epoch: 4\n"
          ]
        },
        {
          "output_type": "stream",
          "name": "stderr",
          "text": [
            "Training phase: batch_id=59; total loss=2.8036632537841797; mnist loss=0.29296135902404785; adder loss=2.510701894760132; epoch_mnist_correct=52916/60000; epoch_sum_correct=5933/60000: 100%|██████████| 60/60 [00:09<00:00,  6.14it/s]\n"
          ]
        },
        {
          "output_type": "stream",
          "name": "stdout",
          "text": [
            "Training set: Average mnist loss: 0.0004; mnist Accuracy: 52916/60000   88.1933%; Average adder loss: 0.0026; adder Accuracy: 5933/60000   9.8883%\n"
          ]
        },
        {
          "output_type": "stream",
          "name": "stderr",
          "text": [
            "Testing phase: total_test_loss=27911.190628051758;  total_mnist_loss=2836.830032348633; total_mnist_correct=9140/10000;  total_adder_loss=25074.360595703125; total_adder_correct=990/10000: 100%|██████████| 10/10 [00:01<00:00,  5.59it/s]\n"
          ]
        },
        {
          "output_type": "stream",
          "name": "stdout",
          "text": [
            "Test set: Average mnist loss: 0.2837; mnist Accuracy: 9140/10000 (91.4000%); Average adder loss: 2.5074; adder Accuracy: 990/10000 (9.9000%)\n",
            "Epoch: 5\n"
          ]
        },
        {
          "output_type": "stream",
          "name": "stderr",
          "text": [
            "Training phase: batch_id=59; total loss=2.6771204471588135; mnist loss=0.18823668360710144; adder loss=2.4888837337493896; epoch_mnist_correct=55598/60000; epoch_sum_correct=6191/60000: 100%|██████████| 60/60 [00:09<00:00,  6.33it/s]\n"
          ]
        },
        {
          "output_type": "stream",
          "name": "stdout",
          "text": [
            "Training set: Average mnist loss: 0.0002; mnist Accuracy: 55598/60000   92.6633%; Average adder loss: 0.0025; adder Accuracy: 6191/60000   10.3183%\n"
          ]
        },
        {
          "output_type": "stream",
          "name": "stderr",
          "text": [
            "Testing phase: total_test_loss=26491.714950561523;  total_mnist_loss=1873.3665618896484; total_mnist_correct=9425/10000;  total_adder_loss=24618.348388671875; total_adder_correct=1019/10000: 100%|██████████| 10/10 [00:01<00:00,  6.59it/s]\n"
          ]
        },
        {
          "output_type": "stream",
          "name": "stdout",
          "text": [
            "Test set: Average mnist loss: 0.1873; mnist Accuracy: 9425/10000 (94.2500%); Average adder loss: 2.4618; adder Accuracy: 1019/10000 (10.1900%)\n",
            "Epoch: 6\n"
          ]
        },
        {
          "output_type": "stream",
          "name": "stderr",
          "text": [
            "Training phase: batch_id=59; total loss=2.560527801513672; mnist loss=0.13782842457294464; adder loss=2.422699451446533; epoch_mnist_correct=57009/60000; epoch_sum_correct=6085/60000: 100%|██████████| 60/60 [00:09<00:00,  6.25it/s]\n"
          ]
        },
        {
          "output_type": "stream",
          "name": "stdout",
          "text": [
            "Training set: Average mnist loss: 0.0002; mnist Accuracy: 57009/60000   95.0150%; Average adder loss: 0.0025; adder Accuracy: 6085/60000   10.1417%\n"
          ]
        },
        {
          "output_type": "stream",
          "name": "stderr",
          "text": [
            "Testing phase: total_test_loss=25667.586044311523;  total_mnist_loss=1253.4698333740234; total_mnist_correct=9617/10000;  total_adder_loss=24414.1162109375; total_adder_correct=956/10000: 100%|██████████| 10/10 [00:01<00:00,  6.12it/s]\n"
          ]
        },
        {
          "output_type": "stream",
          "name": "stdout",
          "text": [
            "Test set: Average mnist loss: 0.1253; mnist Accuracy: 9617/10000 (96.1700%); Average adder loss: 2.4414; adder Accuracy: 956/10000 (9.5600%)\n",
            "Epoch: 7\n"
          ]
        },
        {
          "output_type": "stream",
          "name": "stderr",
          "text": [
            "Training phase: batch_id=59; total loss=2.5503227710723877; mnist loss=0.14557449519634247; adder loss=2.4047482013702393; epoch_mnist_correct=57678/60000; epoch_sum_correct=6159/60000: 100%|██████████| 60/60 [00:09<00:00,  6.07it/s]\n"
          ]
        },
        {
          "output_type": "stream",
          "name": "stdout",
          "text": [
            "Training set: Average mnist loss: 0.0001; mnist Accuracy: 57678/60000   96.1300%; Average adder loss: 0.0024; adder Accuracy: 6159/60000   10.2650%\n"
          ]
        },
        {
          "output_type": "stream",
          "name": "stderr",
          "text": [
            "Testing phase: total_test_loss=25183.825477600098;  total_mnist_loss=1050.1343154907227; total_mnist_correct=9667/10000;  total_adder_loss=24133.691162109375; total_adder_correct=1024/10000: 100%|██████████| 10/10 [00:01<00:00,  6.44it/s]\n"
          ]
        },
        {
          "output_type": "stream",
          "name": "stdout",
          "text": [
            "Test set: Average mnist loss: 0.1050; mnist Accuracy: 9667/10000 (96.6700%); Average adder loss: 2.4134; adder Accuracy: 1024/10000 (10.2400%)\n",
            "Epoch: 8\n"
          ]
        },
        {
          "output_type": "stream",
          "name": "stderr",
          "text": [
            "Training phase: batch_id=59; total loss=2.5126891136169434; mnist loss=0.10638473182916641; adder loss=2.406304359436035; epoch_mnist_correct=58100/60000; epoch_sum_correct=6215/60000: 100%|██████████| 60/60 [00:09<00:00,  6.43it/s]\n"
          ]
        },
        {
          "output_type": "stream",
          "name": "stdout",
          "text": [
            "Training set: Average mnist loss: 0.0001; mnist Accuracy: 58100/60000   96.8333%; Average adder loss: 0.0024; adder Accuracy: 6215/60000   10.3583%\n"
          ]
        },
        {
          "output_type": "stream",
          "name": "stderr",
          "text": [
            "Testing phase: total_test_loss=24915.193687438965;  total_mnist_loss=857.9226913452148; total_mnist_correct=9739/10000;  total_adder_loss=24057.27099609375; total_adder_correct=1061/10000: 100%|██████████| 10/10 [00:01<00:00,  6.68it/s]\n"
          ]
        },
        {
          "output_type": "stream",
          "name": "stdout",
          "text": [
            "Test set: Average mnist loss: 0.0858; mnist Accuracy: 9739/10000 (97.3900%); Average adder loss: 2.4057; adder Accuracy: 1061/10000 (10.6100%)\n",
            "Epoch: 9\n"
          ]
        },
        {
          "output_type": "stream",
          "name": "stderr",
          "text": [
            "Training phase: batch_id=59; total loss=2.5043656826019287; mnist loss=0.09864462912082672; adder loss=2.4057209491729736; epoch_mnist_correct=58328/60000; epoch_sum_correct=6335/60000: 100%|██████████| 60/60 [00:09<00:00,  6.32it/s]\n"
          ]
        },
        {
          "output_type": "stream",
          "name": "stdout",
          "text": [
            "Training set: Average mnist loss: 0.0001; mnist Accuracy: 58328/60000   97.2133%; Average adder loss: 0.0024; adder Accuracy: 6335/60000   10.5583%\n"
          ]
        },
        {
          "output_type": "stream",
          "name": "stderr",
          "text": [
            "Testing phase: total_test_loss=24661.05366897583;  total_mnist_loss=745.7057685852051; total_mnist_correct=9780/10000;  total_adder_loss=23915.347900390625; total_adder_correct=1063/10000: 100%|██████████| 10/10 [00:01<00:00,  6.44it/s]\n"
          ]
        },
        {
          "output_type": "stream",
          "name": "stdout",
          "text": [
            "Test set: Average mnist loss: 0.0746; mnist Accuracy: 9780/10000 (97.8000%); Average adder loss: 2.3915; adder Accuracy: 1063/10000 (10.6300%)\n",
            "Epoch: 10\n"
          ]
        },
        {
          "output_type": "stream",
          "name": "stderr",
          "text": [
            "Training phase: batch_id=59; total loss=2.409597396850586; mnist loss=0.0636339783668518; adder loss=2.345963478088379; epoch_mnist_correct=58478/60000; epoch_sum_correct=6619/60000: 100%|██████████| 60/60 [00:09<00:00,  6.46it/s]\n"
          ]
        },
        {
          "output_type": "stream",
          "name": "stdout",
          "text": [
            "Training set: Average mnist loss: 0.0001; mnist Accuracy: 58478/60000   97.4633%; Average adder loss: 0.0024; adder Accuracy: 6619/60000   11.0317%\n"
          ]
        },
        {
          "output_type": "stream",
          "name": "stderr",
          "text": [
            "Testing phase: total_test_loss=24431.371406555176;  total_mnist_loss=684.8609085083008; total_mnist_correct=9775/10000;  total_adder_loss=23746.510498046875; total_adder_correct=1066/10000: 100%|██████████| 10/10 [00:01<00:00,  5.95it/s]\n"
          ]
        },
        {
          "output_type": "stream",
          "name": "stdout",
          "text": [
            "Test set: Average mnist loss: 0.0685; mnist Accuracy: 9775/10000 (97.7500%); Average adder loss: 2.3747; adder Accuracy: 1066/10000 (10.6600%)\n",
            "Epoch: 11\n"
          ]
        },
        {
          "output_type": "stream",
          "name": "stderr",
          "text": [
            "Training phase: batch_id=59; total loss=2.417772054672241; mnist loss=0.061318229883909225; adder loss=2.3564538955688477; epoch_mnist_correct=58735/60000; epoch_sum_correct=6856/60000: 100%|██████████| 60/60 [00:09<00:00,  6.48it/s]\n"
          ]
        },
        {
          "output_type": "stream",
          "name": "stdout",
          "text": [
            "Training set: Average mnist loss: 0.0001; mnist Accuracy: 58735/60000   97.8917%; Average adder loss: 0.0024; adder Accuracy: 6856/60000   11.4267%\n"
          ]
        },
        {
          "output_type": "stream",
          "name": "stderr",
          "text": [
            "Testing phase: total_test_loss=24291.836727142334;  total_mnist_loss=639.365291595459; total_mnist_correct=9791/10000;  total_adder_loss=23652.471435546875; total_adder_correct=1135/10000: 100%|██████████| 10/10 [00:01<00:00,  5.86it/s]\n"
          ]
        },
        {
          "output_type": "stream",
          "name": "stdout",
          "text": [
            "Test set: Average mnist loss: 0.0639; mnist Accuracy: 9791/10000 (97.9100%); Average adder loss: 2.3652; adder Accuracy: 1135/10000 (11.3500%)\n",
            "Epoch: 12\n"
          ]
        },
        {
          "output_type": "stream",
          "name": "stderr",
          "text": [
            "Training phase: batch_id=59; total loss=2.386227607727051; mnist loss=0.05354053154587746; adder loss=2.3326871395111084; epoch_mnist_correct=58775/60000; epoch_sum_correct=7012/60000: 100%|██████████| 60/60 [00:09<00:00,  6.14it/s]\n"
          ]
        },
        {
          "output_type": "stream",
          "name": "stdout",
          "text": [
            "Training set: Average mnist loss: 0.0001; mnist Accuracy: 58775/60000   97.9583%; Average adder loss: 0.0024; adder Accuracy: 7012/60000   11.6867%\n"
          ]
        },
        {
          "output_type": "stream",
          "name": "stderr",
          "text": [
            "Testing phase: total_test_loss=24042.714309692383;  total_mnist_loss=586.5321807861328; total_mnist_correct=9826/10000;  total_adder_loss=23456.18212890625; total_adder_correct=1151/10000: 100%|██████████| 10/10 [00:01<00:00,  5.67it/s]\n"
          ]
        },
        {
          "output_type": "stream",
          "name": "stdout",
          "text": [
            "Test set: Average mnist loss: 0.0587; mnist Accuracy: 9826/10000 (98.2600%); Average adder loss: 2.3456; adder Accuracy: 1151/10000 (11.5100%)\n",
            "Epoch: 13\n"
          ]
        },
        {
          "output_type": "stream",
          "name": "stderr",
          "text": [
            "Training phase: batch_id=59; total loss=2.374350070953369; mnist loss=0.06001037359237671; adder loss=2.3143396377563477; epoch_mnist_correct=58850/60000; epoch_sum_correct=7486/60000: 100%|██████████| 60/60 [00:09<00:00,  6.64it/s]\n"
          ]
        },
        {
          "output_type": "stream",
          "name": "stdout",
          "text": [
            "Training set: Average mnist loss: 0.0001; mnist Accuracy: 58850/60000   98.0833%; Average adder loss: 0.0023; adder Accuracy: 7486/60000   12.4767%\n"
          ]
        },
        {
          "output_type": "stream",
          "name": "stderr",
          "text": [
            "Testing phase: total_test_loss=23713.90506362915;  total_mnist_loss=537.9360694885254; total_mnist_correct=9823/10000;  total_adder_loss=23175.968994140625; total_adder_correct=1306/10000: 100%|██████████| 10/10 [00:01<00:00,  6.33it/s]\n"
          ]
        },
        {
          "output_type": "stream",
          "name": "stdout",
          "text": [
            "Test set: Average mnist loss: 0.0538; mnist Accuracy: 9823/10000 (98.2300%); Average adder loss: 2.3176; adder Accuracy: 1306/10000 (13.0600%)\n",
            "Epoch: 14\n"
          ]
        },
        {
          "output_type": "stream",
          "name": "stderr",
          "text": [
            "Training phase: batch_id=59; total loss=2.3550615310668945; mnist loss=0.08206700533628464; adder loss=2.2729945182800293; epoch_mnist_correct=58897/60000; epoch_sum_correct=8433/60000: 100%|██████████| 60/60 [00:08<00:00,  6.70it/s]\n"
          ]
        },
        {
          "output_type": "stream",
          "name": "stdout",
          "text": [
            "Training set: Average mnist loss: 0.0001; mnist Accuracy: 58897/60000   98.1617%; Average adder loss: 0.0023; adder Accuracy: 8433/60000   14.0550%\n"
          ]
        },
        {
          "output_type": "stream",
          "name": "stderr",
          "text": [
            "Testing phase: total_test_loss=23639.27000808716;  total_mnist_loss=586.9350471496582; total_mnist_correct=9807/10000;  total_adder_loss=23052.3349609375; total_adder_correct=1282/10000: 100%|██████████| 10/10 [00:01<00:00,  6.60it/s]\n"
          ]
        },
        {
          "output_type": "stream",
          "name": "stdout",
          "text": [
            "Test set: Average mnist loss: 0.0587; mnist Accuracy: 9807/10000 (98.0700%); Average adder loss: 2.3052; adder Accuracy: 1282/10000 (12.8200%)\n",
            "Epoch: 15\n"
          ]
        },
        {
          "output_type": "stream",
          "name": "stderr",
          "text": [
            "Training phase: batch_id=59; total loss=2.200094699859619; mnist loss=0.06640171259641647; adder loss=2.133692979812622; epoch_mnist_correct=58903/60000; epoch_sum_correct=9757/60000: 100%|██████████| 60/60 [00:09<00:00,  6.48it/s]\n"
          ]
        },
        {
          "output_type": "stream",
          "name": "stdout",
          "text": [
            "Training set: Average mnist loss: 0.0001; mnist Accuracy: 58903/60000   98.1717%; Average adder loss: 0.0022; adder Accuracy: 9757/60000   16.2617%\n"
          ]
        },
        {
          "output_type": "stream",
          "name": "stderr",
          "text": [
            "Testing phase: total_test_loss=22489.752212524414;  total_mnist_loss=622.2517242431641; total_mnist_correct=9817/10000;  total_adder_loss=21867.50048828125; total_adder_correct=1618/10000: 100%|██████████| 10/10 [00:01<00:00,  6.74it/s]\n"
          ]
        },
        {
          "output_type": "stream",
          "name": "stdout",
          "text": [
            "Test set: Average mnist loss: 0.0622; mnist Accuracy: 9817/10000 (98.1700%); Average adder loss: 2.1868; adder Accuracy: 1618/10000 (16.1800%)\n",
            "Epoch: 16\n"
          ]
        },
        {
          "output_type": "stream",
          "name": "stderr",
          "text": [
            "Training phase: batch_id=59; total loss=2.149722099304199; mnist loss=0.11508166044950485; adder loss=2.0346405506134033; epoch_mnist_correct=58626/60000; epoch_sum_correct=11865/60000: 100%|██████████| 60/60 [00:08<00:00,  6.90it/s]\n"
          ]
        },
        {
          "output_type": "stream",
          "name": "stdout",
          "text": [
            "Training set: Average mnist loss: 0.0001; mnist Accuracy: 58626/60000   97.7100%; Average adder loss: 0.0021; adder Accuracy: 11865/60000   19.7750%\n"
          ]
        },
        {
          "output_type": "stream",
          "name": "stderr",
          "text": [
            "Testing phase: total_test_loss=21815.70997619629;  total_mnist_loss=993.0881500244141; total_mnist_correct=9715/10000;  total_adder_loss=20822.621826171875; total_adder_correct=1983/10000: 100%|██████████| 10/10 [00:01<00:00,  5.82it/s]\n"
          ]
        },
        {
          "output_type": "stream",
          "name": "stdout",
          "text": [
            "Test set: Average mnist loss: 0.0993; mnist Accuracy: 9715/10000 (97.1500%); Average adder loss: 2.0823; adder Accuracy: 1983/10000 (19.8300%)\n",
            "Epoch: 17\n"
          ]
        },
        {
          "output_type": "stream",
          "name": "stderr",
          "text": [
            "Training phase: batch_id=59; total loss=1.9608771800994873; mnist loss=0.0909506231546402; adder loss=1.8699265718460083; epoch_mnist_correct=58554/60000; epoch_sum_correct=14555/60000: 100%|██████████| 60/60 [00:09<00:00,  6.56it/s]\n"
          ]
        },
        {
          "output_type": "stream",
          "name": "stdout",
          "text": [
            "Training set: Average mnist loss: 0.0001; mnist Accuracy: 58554/60000   97.5900%; Average adder loss: 0.0020; adder Accuracy: 14555/60000   24.2583%\n"
          ]
        },
        {
          "output_type": "stream",
          "name": "stderr",
          "text": [
            "Testing phase: total_test_loss=20073.202449798584;  total_mnist_loss=874.2203941345215; total_mnist_correct=9747/10000;  total_adder_loss=19198.982055664062; total_adder_correct=2373/10000: 100%|██████████| 10/10 [00:01<00:00,  6.61it/s]\n"
          ]
        },
        {
          "output_type": "stream",
          "name": "stdout",
          "text": [
            "Test set: Average mnist loss: 0.0874; mnist Accuracy: 9747/10000 (97.4700%); Average adder loss: 1.9199; adder Accuracy: 2373/10000 (23.7300%)\n",
            "Epoch: 18\n"
          ]
        },
        {
          "output_type": "stream",
          "name": "stderr",
          "text": [
            "Training phase: batch_id=59; total loss=1.8171823024749756; mnist loss=0.05390578880906105; adder loss=1.76327645778656; epoch_mnist_correct=58556/60000; epoch_sum_correct=16673/60000: 100%|██████████| 60/60 [00:08<00:00,  6.77it/s]\n"
          ]
        },
        {
          "output_type": "stream",
          "name": "stdout",
          "text": [
            "Training set: Average mnist loss: 0.0001; mnist Accuracy: 58556/60000   97.5933%; Average adder loss: 0.0018; adder Accuracy: 16673/60000   27.7883%\n"
          ]
        },
        {
          "output_type": "stream",
          "name": "stderr",
          "text": [
            "Testing phase: total_test_loss=17578.501152038574;  total_mnist_loss=636.7257614135742; total_mnist_correct=9801/10000;  total_adder_loss=16941.775390625; total_adder_correct=3358/10000: 100%|██████████| 10/10 [00:01<00:00,  6.32it/s]\n"
          ]
        },
        {
          "output_type": "stream",
          "name": "stdout",
          "text": [
            "Test set: Average mnist loss: 0.0637; mnist Accuracy: 9801/10000 (98.0100%); Average adder loss: 1.6942; adder Accuracy: 3358/10000 (33.5800%)\n",
            "Epoch: 19\n"
          ]
        },
        {
          "output_type": "stream",
          "name": "stderr",
          "text": [
            "Training phase: batch_id=59; total loss=1.7051624059677124; mnist loss=0.0700368583202362; adder loss=1.6351255178451538; epoch_mnist_correct=58790/60000; epoch_sum_correct=19742/60000: 100%|██████████| 60/60 [00:09<00:00,  6.39it/s]\n"
          ]
        },
        {
          "output_type": "stream",
          "name": "stdout",
          "text": [
            "Training set: Average mnist loss: 0.0001; mnist Accuracy: 58790/60000   97.9833%; Average adder loss: 0.0017; adder Accuracy: 19742/60000   32.9033%\n"
          ]
        },
        {
          "output_type": "stream",
          "name": "stderr",
          "text": [
            "Testing phase: total_test_loss=16797.773990631104;  total_mnist_loss=678.434024810791; total_mnist_correct=9808/10000;  total_adder_loss=16119.339965820312; total_adder_correct=3742/10000: 100%|██████████| 10/10 [00:01<00:00,  6.21it/s]\n"
          ]
        },
        {
          "output_type": "stream",
          "name": "stdout",
          "text": [
            "Test set: Average mnist loss: 0.0678; mnist Accuracy: 9808/10000 (98.0800%); Average adder loss: 1.6119; adder Accuracy: 3742/10000 (37.4200%)\n",
            "Epoch: 20\n"
          ]
        },
        {
          "output_type": "stream",
          "name": "stderr",
          "text": [
            "Training phase: batch_id=59; total loss=1.552656888961792; mnist loss=0.06341449171304703; adder loss=1.489242434501648; epoch_mnist_correct=58935/60000; epoch_sum_correct=22516/60000: 100%|██████████| 60/60 [00:08<00:00,  6.94it/s]\n"
          ]
        },
        {
          "output_type": "stream",
          "name": "stdout",
          "text": [
            "Training set: Average mnist loss: 0.0001; mnist Accuracy: 58935/60000   98.2250%; Average adder loss: 0.0016; adder Accuracy: 22516/60000   37.5267%\n"
          ]
        },
        {
          "output_type": "stream",
          "name": "stderr",
          "text": [
            "Testing phase: total_test_loss=15486.573684692383;  total_mnist_loss=516.4322052001953; total_mnist_correct=9839/10000;  total_adder_loss=14970.141479492188; total_adder_correct=4084/10000: 100%|██████████| 10/10 [00:01<00:00,  6.30it/s]\n"
          ]
        },
        {
          "output_type": "stream",
          "name": "stdout",
          "text": [
            "Test set: Average mnist loss: 0.0516; mnist Accuracy: 9839/10000 (98.3900%); Average adder loss: 1.4970; adder Accuracy: 4084/10000 (40.8400%)\n",
            "Epoch: 21\n"
          ]
        },
        {
          "output_type": "stream",
          "name": "stderr",
          "text": [
            "Training phase: batch_id=59; total loss=1.5140256881713867; mnist loss=0.07184037566184998; adder loss=1.4421852827072144; epoch_mnist_correct=59025/60000; epoch_sum_correct=24999/60000: 100%|██████████| 60/60 [00:09<00:00,  6.35it/s]\n"
          ]
        },
        {
          "output_type": "stream",
          "name": "stdout",
          "text": [
            "Training set: Average mnist loss: 0.0001; mnist Accuracy: 59025/60000   98.3750%; Average adder loss: 0.0015; adder Accuracy: 24999/60000   41.6650%\n"
          ]
        },
        {
          "output_type": "stream",
          "name": "stderr",
          "text": [
            "Testing phase: total_test_loss=14910.643287658691;  total_mnist_loss=465.4102554321289; total_mnist_correct=9850/10000;  total_adder_loss=14445.233032226562; total_adder_correct=4244/10000: 100%|██████████| 10/10 [00:01<00:00,  6.44it/s]\n"
          ]
        },
        {
          "output_type": "stream",
          "name": "stdout",
          "text": [
            "Test set: Average mnist loss: 0.0465; mnist Accuracy: 9850/10000 (98.5000%); Average adder loss: 1.4445; adder Accuracy: 4244/10000 (42.4400%)\n",
            "Epoch: 22\n"
          ]
        },
        {
          "output_type": "stream",
          "name": "stderr",
          "text": [
            "Training phase: batch_id=59; total loss=1.3928016424179077; mnist loss=0.06247270852327347; adder loss=1.3303289413452148; epoch_mnist_correct=59015/60000; epoch_sum_correct=26105/60000: 100%|██████████| 60/60 [00:08<00:00,  6.76it/s]\n"
          ]
        },
        {
          "output_type": "stream",
          "name": "stdout",
          "text": [
            "Training set: Average mnist loss: 0.0001; mnist Accuracy: 59015/60000   98.3583%; Average adder loss: 0.0014; adder Accuracy: 26105/60000   43.5083%\n"
          ]
        },
        {
          "output_type": "stream",
          "name": "stderr",
          "text": [
            "Testing phase: total_test_loss=13972.417808532715;  total_mnist_loss=439.76009368896484; total_mnist_correct=9867/10000;  total_adder_loss=13532.65771484375; total_adder_correct=4735/10000: 100%|██████████| 10/10 [00:01<00:00,  6.54it/s]\n"
          ]
        },
        {
          "output_type": "stream",
          "name": "stdout",
          "text": [
            "Test set: Average mnist loss: 0.0440; mnist Accuracy: 9867/10000 (98.6700%); Average adder loss: 1.3533; adder Accuracy: 4735/10000 (47.3500%)\n",
            "Epoch: 23\n"
          ]
        },
        {
          "output_type": "stream",
          "name": "stderr",
          "text": [
            "Training phase: batch_id=59; total loss=1.3409504890441895; mnist loss=0.05799146369099617; adder loss=1.282958984375; epoch_mnist_correct=59075/60000; epoch_sum_correct=28474/60000: 100%|██████████| 60/60 [00:09<00:00,  6.52it/s]\n"
          ]
        },
        {
          "output_type": "stream",
          "name": "stdout",
          "text": [
            "Training set: Average mnist loss: 0.0001; mnist Accuracy: 59075/60000   98.4583%; Average adder loss: 0.0013; adder Accuracy: 28474/60000   47.4567%\n"
          ]
        },
        {
          "output_type": "stream",
          "name": "stderr",
          "text": [
            "Testing phase: total_test_loss=13162.124298095703;  total_mnist_loss=427.7331848144531; total_mnist_correct=9867/10000;  total_adder_loss=12734.39111328125; total_adder_correct=5387/10000: 100%|██████████| 10/10 [00:01<00:00,  6.51it/s]\n"
          ]
        },
        {
          "output_type": "stream",
          "name": "stdout",
          "text": [
            "Test set: Average mnist loss: 0.0428; mnist Accuracy: 9867/10000 (98.6700%); Average adder loss: 1.2734; adder Accuracy: 5387/10000 (53.8700%)\n",
            "Epoch: 24\n"
          ]
        },
        {
          "output_type": "stream",
          "name": "stderr",
          "text": [
            "Training phase: batch_id=59; total loss=1.4035860300064087; mnist loss=0.06010664254426956; adder loss=1.3434793949127197; epoch_mnist_correct=59092/60000; epoch_sum_correct=29568/60000: 100%|██████████| 60/60 [00:09<00:00,  6.51it/s]\n"
          ]
        },
        {
          "output_type": "stream",
          "name": "stdout",
          "text": [
            "Training set: Average mnist loss: 0.0001; mnist Accuracy: 59092/60000   98.4867%; Average adder loss: 0.0013; adder Accuracy: 29568/60000   49.2800%\n"
          ]
        },
        {
          "output_type": "stream",
          "name": "stderr",
          "text": [
            "Testing phase: total_test_loss=12671.375328063965;  total_mnist_loss=388.15120697021484; total_mnist_correct=9877/10000;  total_adder_loss=12283.22412109375; total_adder_correct=5558/10000: 100%|██████████| 10/10 [00:01<00:00,  6.24it/s]\n"
          ]
        },
        {
          "output_type": "stream",
          "name": "stdout",
          "text": [
            "Test set: Average mnist loss: 0.0388; mnist Accuracy: 9877/10000 (98.7700%); Average adder loss: 1.2283; adder Accuracy: 5558/10000 (55.5800%)\n",
            "Epoch: 25\n"
          ]
        },
        {
          "output_type": "stream",
          "name": "stderr",
          "text": [
            "Training phase: batch_id=59; total loss=1.277275562286377; mnist loss=0.04745737090706825; adder loss=1.2298182249069214; epoch_mnist_correct=59140/60000; epoch_sum_correct=31630/60000: 100%|██████████| 60/60 [00:08<00:00,  6.93it/s]\n"
          ]
        },
        {
          "output_type": "stream",
          "name": "stdout",
          "text": [
            "Training set: Average mnist loss: 0.0000; mnist Accuracy: 59140/60000   98.5667%; Average adder loss: 0.0012; adder Accuracy: 31630/60000   52.7167%\n"
          ]
        },
        {
          "output_type": "stream",
          "name": "stderr",
          "text": [
            "Testing phase: total_test_loss=12250.808582305908;  total_mnist_loss=410.3331184387207; total_mnist_correct=9872/10000;  total_adder_loss=11840.475463867188; total_adder_correct=5866/10000: 100%|██████████| 10/10 [00:01<00:00,  6.60it/s]\n"
          ]
        },
        {
          "output_type": "stream",
          "name": "stdout",
          "text": [
            "Test set: Average mnist loss: 0.0410; mnist Accuracy: 9872/10000 (98.7200%); Average adder loss: 1.1840; adder Accuracy: 5866/10000 (58.6600%)\n",
            "Epoch: 26\n"
          ]
        },
        {
          "output_type": "stream",
          "name": "stderr",
          "text": [
            "Training phase: batch_id=59; total loss=1.8630828857421875; mnist loss=0.030399365350604057; adder loss=1.8326835632324219; epoch_mnist_correct=59132/60000; epoch_sum_correct=32592/60000: 100%|██████████| 60/60 [00:09<00:00,  6.64it/s]\n"
          ]
        },
        {
          "output_type": "stream",
          "name": "stdout",
          "text": [
            "Training set: Average mnist loss: 0.0000; mnist Accuracy: 59132/60000   98.5533%; Average adder loss: 0.0012; adder Accuracy: 32592/60000   54.3200%\n"
          ]
        },
        {
          "output_type": "stream",
          "name": "stderr",
          "text": [
            "Testing phase: total_test_loss=16133.081466674805;  total_mnist_loss=506.5980682373047; total_mnist_correct=9860/10000;  total_adder_loss=15626.4833984375; total_adder_correct=3056/10000: 100%|██████████| 10/10 [00:01<00:00,  6.44it/s]\n"
          ]
        },
        {
          "output_type": "stream",
          "name": "stdout",
          "text": [
            "Test set: Average mnist loss: 0.0507; mnist Accuracy: 9860/10000 (98.6000%); Average adder loss: 1.5626; adder Accuracy: 3056/10000 (30.5600%)\n",
            "Epoch: 27\n"
          ]
        },
        {
          "output_type": "stream",
          "name": "stderr",
          "text": [
            "Training phase: batch_id=59; total loss=1.2342045307159424; mnist loss=0.05752885714173317; adder loss=1.1766756772994995; epoch_mnist_correct=59054/60000; epoch_sum_correct=32199/60000: 100%|██████████| 60/60 [00:08<00:00,  6.67it/s]\n"
          ]
        },
        {
          "output_type": "stream",
          "name": "stdout",
          "text": [
            "Training set: Average mnist loss: 0.0001; mnist Accuracy: 59054/60000   98.4233%; Average adder loss: 0.0012; adder Accuracy: 32199/60000   53.6650%\n"
          ]
        },
        {
          "output_type": "stream",
          "name": "stderr",
          "text": [
            "Testing phase: total_test_loss=11649.383777618408;  total_mnist_loss=368.1331672668457; total_mnist_correct=9889/10000;  total_adder_loss=11281.250610351562; total_adder_correct=5821/10000: 100%|██████████| 10/10 [00:01<00:00,  6.04it/s]\n"
          ]
        },
        {
          "output_type": "stream",
          "name": "stdout",
          "text": [
            "Test set: Average mnist loss: 0.0368; mnist Accuracy: 9889/10000 (98.8900%); Average adder loss: 1.1281; adder Accuracy: 5821/10000 (58.2100%)\n",
            "Epoch: 28\n"
          ]
        },
        {
          "output_type": "stream",
          "name": "stderr",
          "text": [
            "Training phase: batch_id=59; total loss=1.1414960622787476; mnist loss=0.038210973143577576; adder loss=1.1032850742340088; epoch_mnist_correct=59236/60000; epoch_sum_correct=35797/60000: 100%|██████████| 60/60 [00:08<00:00,  6.69it/s]\n"
          ]
        },
        {
          "output_type": "stream",
          "name": "stdout",
          "text": [
            "Training set: Average mnist loss: 0.0000; mnist Accuracy: 59236/60000   98.7267%; Average adder loss: 0.0011; adder Accuracy: 35797/60000   59.6617%\n"
          ]
        },
        {
          "output_type": "stream",
          "name": "stderr",
          "text": [
            "Testing phase: total_test_loss=11412.088907241821;  total_mnist_loss=342.9916172027588; total_mnist_correct=9894/10000;  total_adder_loss=11069.097290039062; total_adder_correct=5670/10000: 100%|██████████| 10/10 [00:01<00:00,  6.44it/s]\n"
          ]
        },
        {
          "output_type": "stream",
          "name": "stdout",
          "text": [
            "Test set: Average mnist loss: 0.0343; mnist Accuracy: 9894/10000 (98.9400%); Average adder loss: 1.1069; adder Accuracy: 5670/10000 (56.7000%)\n",
            "Epoch: 29\n"
          ]
        },
        {
          "output_type": "stream",
          "name": "stderr",
          "text": [
            "Training phase: batch_id=59; total loss=1.1180741786956787; mnist loss=0.017631560564041138; adder loss=1.10044264793396; epoch_mnist_correct=59239/60000; epoch_sum_correct=35843/60000: 100%|██████████| 60/60 [00:09<00:00,  6.53it/s]\n"
          ]
        },
        {
          "output_type": "stream",
          "name": "stdout",
          "text": [
            "Training set: Average mnist loss: 0.0000; mnist Accuracy: 59239/60000   98.7317%; Average adder loss: 0.0011; adder Accuracy: 35843/60000   59.7383%\n"
          ]
        },
        {
          "output_type": "stream",
          "name": "stderr",
          "text": [
            "Testing phase: total_test_loss=11625.94213294983;  total_mnist_loss=343.9669132232666; total_mnist_correct=9887/10000;  total_adder_loss=11281.975219726562; total_adder_correct=5532/10000: 100%|██████████| 10/10 [00:01<00:00,  5.95it/s]\n"
          ]
        },
        {
          "output_type": "stream",
          "name": "stdout",
          "text": [
            "Test set: Average mnist loss: 0.0344; mnist Accuracy: 9887/10000 (98.8700%); Average adder loss: 1.1282; adder Accuracy: 5532/10000 (55.3200%)\n",
            "Epoch: 30\n"
          ]
        },
        {
          "output_type": "stream",
          "name": "stderr",
          "text": [
            "Training phase: batch_id=59; total loss=1.0137314796447754; mnist loss=0.023005466908216476; adder loss=0.9907260537147522; epoch_mnist_correct=59263/60000; epoch_sum_correct=36455/60000: 100%|██████████| 60/60 [00:09<00:00,  6.49it/s]\n"
          ]
        },
        {
          "output_type": "stream",
          "name": "stdout",
          "text": [
            "Training set: Average mnist loss: 0.0000; mnist Accuracy: 59263/60000   98.7717%; Average adder loss: 0.0011; adder Accuracy: 36455/60000   60.7583%\n"
          ]
        },
        {
          "output_type": "stream",
          "name": "stderr",
          "text": [
            "Testing phase: total_test_loss=10381.956775665283;  total_mnist_loss=330.6484260559082; total_mnist_correct=9898/10000;  total_adder_loss=10051.308349609375; total_adder_correct=6675/10000: 100%|██████████| 10/10 [00:01<00:00,  6.60it/s]\n"
          ]
        },
        {
          "output_type": "stream",
          "name": "stdout",
          "text": [
            "Test set: Average mnist loss: 0.0331; mnist Accuracy: 9898/10000 (98.9800%); Average adder loss: 1.0051; adder Accuracy: 6675/10000 (66.7500%)\n",
            "Epoch: 31\n"
          ]
        },
        {
          "output_type": "stream",
          "name": "stderr",
          "text": [
            "Training phase: batch_id=59; total loss=1.1460481882095337; mnist loss=0.043918292969465256; adder loss=1.1021299362182617; epoch_mnist_correct=59304/60000; epoch_sum_correct=38648/60000: 100%|██████████| 60/60 [00:09<00:00,  6.66it/s]\n"
          ]
        },
        {
          "output_type": "stream",
          "name": "stdout",
          "text": [
            "Training set: Average mnist loss: 0.0000; mnist Accuracy: 59304/60000   98.8400%; Average adder loss: 0.0010; adder Accuracy: 38648/60000   64.4133%\n"
          ]
        },
        {
          "output_type": "stream",
          "name": "stderr",
          "text": [
            "Testing phase: total_test_loss=11116.460968017578;  total_mnist_loss=334.6087951660156; total_mnist_correct=9891/10000;  total_adder_loss=10781.852172851562; total_adder_correct=5878/10000: 100%|██████████| 10/10 [00:01<00:00,  5.87it/s]\n"
          ]
        },
        {
          "output_type": "stream",
          "name": "stdout",
          "text": [
            "Test set: Average mnist loss: 0.0335; mnist Accuracy: 9891/10000 (98.9100%); Average adder loss: 1.0782; adder Accuracy: 5878/10000 (58.7800%)\n",
            "Epoch: 32\n"
          ]
        },
        {
          "output_type": "stream",
          "name": "stderr",
          "text": [
            "Training phase: batch_id=59; total loss=0.9734448790550232; mnist loss=0.01638774946331978; adder loss=0.9570571184158325; epoch_mnist_correct=59308/60000; epoch_sum_correct=38041/60000: 100%|██████████| 60/60 [00:09<00:00,  6.46it/s]\n"
          ]
        },
        {
          "output_type": "stream",
          "name": "stdout",
          "text": [
            "Training set: Average mnist loss: 0.0000; mnist Accuracy: 59308/60000   98.8467%; Average adder loss: 0.0010; adder Accuracy: 38041/60000   63.4017%\n"
          ]
        },
        {
          "output_type": "stream",
          "name": "stderr",
          "text": [
            "Testing phase: total_test_loss=12653.237453460693;  total_mnist_loss=348.81814193725586; total_mnist_correct=9887/10000;  total_adder_loss=12304.419311523438; total_adder_correct=4678/10000: 100%|██████████| 10/10 [00:01<00:00,  6.45it/s]\n"
          ]
        },
        {
          "output_type": "stream",
          "name": "stdout",
          "text": [
            "Test set: Average mnist loss: 0.0349; mnist Accuracy: 9887/10000 (98.8700%); Average adder loss: 1.2304; adder Accuracy: 4678/10000 (46.7800%)\n",
            "Epoch: 33\n"
          ]
        },
        {
          "output_type": "stream",
          "name": "stderr",
          "text": [
            "Training phase: batch_id=59; total loss=1.0666038990020752; mnist loss=0.03925323486328125; adder loss=1.027350664138794; epoch_mnist_correct=59332/60000; epoch_sum_correct=39916/60000: 100%|██████████| 60/60 [00:08<00:00,  6.97it/s]\n"
          ]
        },
        {
          "output_type": "stream",
          "name": "stdout",
          "text": [
            "Training set: Average mnist loss: 0.0000; mnist Accuracy: 59332/60000   98.8867%; Average adder loss: 0.0010; adder Accuracy: 39916/60000   66.5267%\n"
          ]
        },
        {
          "output_type": "stream",
          "name": "stderr",
          "text": [
            "Testing phase: total_test_loss=10002.945657730103;  total_mnist_loss=332.9537754058838; total_mnist_correct=9892/10000;  total_adder_loss=9669.991882324219; total_adder_correct=6658/10000: 100%|██████████| 10/10 [00:01<00:00,  5.89it/s]\n"
          ]
        },
        {
          "output_type": "stream",
          "name": "stdout",
          "text": [
            "Test set: Average mnist loss: 0.0333; mnist Accuracy: 9892/10000 (98.9200%); Average adder loss: 0.9670; adder Accuracy: 6658/10000 (66.5800%)\n",
            "Epoch: 34\n"
          ]
        },
        {
          "output_type": "stream",
          "name": "stderr",
          "text": [
            "Training phase: batch_id=59; total loss=1.0123298168182373; mnist loss=0.040190909057855606; adder loss=0.9721388816833496; epoch_mnist_correct=59357/60000; epoch_sum_correct=41128/60000: 100%|██████████| 60/60 [00:08<00:00,  6.81it/s]\n"
          ]
        },
        {
          "output_type": "stream",
          "name": "stdout",
          "text": [
            "Training set: Average mnist loss: 0.0000; mnist Accuracy: 59357/60000   98.9283%; Average adder loss: 0.0009; adder Accuracy: 41128/60000   68.5467%\n"
          ]
        },
        {
          "output_type": "stream",
          "name": "stderr",
          "text": [
            "Testing phase: total_test_loss=10639.547527313232;  total_mnist_loss=315.5802421569824; total_mnist_correct=9903/10000;  total_adder_loss=10323.96728515625; total_adder_correct=5973/10000: 100%|██████████| 10/10 [00:01<00:00,  6.57it/s]\n"
          ]
        },
        {
          "output_type": "stream",
          "name": "stdout",
          "text": [
            "Test set: Average mnist loss: 0.0316; mnist Accuracy: 9903/10000 (99.0300%); Average adder loss: 1.0324; adder Accuracy: 5973/10000 (59.7300%)\n",
            "Epoch: 35\n"
          ]
        },
        {
          "output_type": "stream",
          "name": "stderr",
          "text": [
            "Training phase: batch_id=59; total loss=1.012112021446228; mnist loss=0.0467274934053421; adder loss=0.9653844833374023; epoch_mnist_correct=59298/60000; epoch_sum_correct=39381/60000: 100%|██████████| 60/60 [00:09<00:00,  6.64it/s]\n"
          ]
        },
        {
          "output_type": "stream",
          "name": "stdout",
          "text": [
            "Training set: Average mnist loss: 0.0000; mnist Accuracy: 59298/60000   98.8300%; Average adder loss: 0.0010; adder Accuracy: 39381/60000   65.6350%\n"
          ]
        },
        {
          "output_type": "stream",
          "name": "stderr",
          "text": [
            "Testing phase: total_test_loss=9452.298286437988;  total_mnist_loss=313.69666290283203; total_mnist_correct=9897/10000;  total_adder_loss=9138.601623535156; total_adder_correct=7187/10000: 100%|██████████| 10/10 [00:01<00:00,  6.49it/s]\n"
          ]
        },
        {
          "output_type": "stream",
          "name": "stdout",
          "text": [
            "Test set: Average mnist loss: 0.0314; mnist Accuracy: 9897/10000 (98.9700%); Average adder loss: 0.9139; adder Accuracy: 7187/10000 (71.8700%)\n",
            "Epoch: 36\n"
          ]
        },
        {
          "output_type": "stream",
          "name": "stderr",
          "text": [
            "Training phase: batch_id=59; total loss=0.9597331285476685; mnist loss=0.02392958104610443; adder loss=0.9358035326004028; epoch_mnist_correct=59373/60000; epoch_sum_correct=42264/60000: 100%|██████████| 60/60 [00:08<00:00,  6.67it/s]\n"
          ]
        },
        {
          "output_type": "stream",
          "name": "stdout",
          "text": [
            "Training set: Average mnist loss: 0.0000; mnist Accuracy: 59373/60000   98.9550%; Average adder loss: 0.0009; adder Accuracy: 42264/60000   70.4400%\n"
          ]
        },
        {
          "output_type": "stream",
          "name": "stderr",
          "text": [
            "Testing phase: total_test_loss=11229.186674118042;  total_mnist_loss=324.873441696167; total_mnist_correct=9902/10000;  total_adder_loss=10904.313232421875; total_adder_correct=5238/10000: 100%|██████████| 10/10 [00:01<00:00,  6.54it/s]\n"
          ]
        },
        {
          "output_type": "stream",
          "name": "stdout",
          "text": [
            "Test set: Average mnist loss: 0.0325; mnist Accuracy: 9902/10000 (99.0200%); Average adder loss: 1.0904; adder Accuracy: 5238/10000 (52.3800%)\n",
            "Epoch: 37\n"
          ]
        },
        {
          "output_type": "stream",
          "name": "stderr",
          "text": [
            "Training phase: batch_id=59; total loss=0.865993082523346; mnist loss=0.022387592121958733; adder loss=0.8436055183410645; epoch_mnist_correct=59392/60000; epoch_sum_correct=42122/60000: 100%|██████████| 60/60 [00:09<00:00,  6.55it/s]\n"
          ]
        },
        {
          "output_type": "stream",
          "name": "stdout",
          "text": [
            "Training set: Average mnist loss: 0.0000; mnist Accuracy: 59392/60000   98.9867%; Average adder loss: 0.0009; adder Accuracy: 42122/60000   70.2033%\n"
          ]
        },
        {
          "output_type": "stream",
          "name": "stderr",
          "text": [
            "Testing phase: total_test_loss=8761.22617149353;  total_mnist_loss=296.3738765716553; total_mnist_correct=9915/10000;  total_adder_loss=8464.852294921875; total_adder_correct=7561/10000: 100%|██████████| 10/10 [00:01<00:00,  6.80it/s]\n"
          ]
        },
        {
          "output_type": "stream",
          "name": "stdout",
          "text": [
            "Test set: Average mnist loss: 0.0296; mnist Accuracy: 9915/10000 (99.1500%); Average adder loss: 0.8465; adder Accuracy: 7561/10000 (75.6100%)\n",
            "Epoch: 38\n"
          ]
        },
        {
          "output_type": "stream",
          "name": "stderr",
          "text": [
            "Training phase: batch_id=59; total loss=0.8722804188728333; mnist loss=0.038396790623664856; adder loss=0.8338836431503296; epoch_mnist_correct=59397/60000; epoch_sum_correct=42812/60000: 100%|██████████| 60/60 [00:09<00:00,  6.46it/s]\n"
          ]
        },
        {
          "output_type": "stream",
          "name": "stdout",
          "text": [
            "Training set: Average mnist loss: 0.0000; mnist Accuracy: 59397/60000   98.9950%; Average adder loss: 0.0009; adder Accuracy: 42812/60000   71.3533%\n"
          ]
        },
        {
          "output_type": "stream",
          "name": "stderr",
          "text": [
            "Testing phase: total_test_loss=9109.670412063599;  total_mnist_loss=302.71313667297363; total_mnist_correct=9898/10000;  total_adder_loss=8806.957275390625; total_adder_correct=6935/10000: 100%|██████████| 10/10 [00:01<00:00,  6.16it/s]\n"
          ]
        },
        {
          "output_type": "stream",
          "name": "stdout",
          "text": [
            "Test set: Average mnist loss: 0.0303; mnist Accuracy: 9898/10000 (98.9800%); Average adder loss: 0.8807; adder Accuracy: 6935/10000 (69.3500%)\n",
            "Epoch: 39\n"
          ]
        },
        {
          "output_type": "stream",
          "name": "stderr",
          "text": [
            "Training phase: batch_id=59; total loss=0.8564057946205139; mnist loss=0.024094581604003906; adder loss=0.83231121301651; epoch_mnist_correct=59391/60000; epoch_sum_correct=44490/60000: 100%|██████████| 60/60 [00:09<00:00,  6.64it/s]\n"
          ]
        },
        {
          "output_type": "stream",
          "name": "stdout",
          "text": [
            "Training set: Average mnist loss: 0.0000; mnist Accuracy: 59391/60000   98.9850%; Average adder loss: 0.0008; adder Accuracy: 44490/60000   74.1500%\n"
          ]
        },
        {
          "output_type": "stream",
          "name": "stderr",
          "text": [
            "Testing phase: total_test_loss=8596.37498664856;  total_mnist_loss=288.3276844024658; total_mnist_correct=9917/10000;  total_adder_loss=8308.047302246094; total_adder_correct=7517/10000: 100%|██████████| 10/10 [00:01<00:00,  6.56it/s]\n"
          ]
        },
        {
          "output_type": "stream",
          "name": "stdout",
          "text": [
            "Test set: Average mnist loss: 0.0288; mnist Accuracy: 9917/10000 (99.1700%); Average adder loss: 0.8308; adder Accuracy: 7517/10000 (75.1700%)\n",
            "Epoch: 40\n"
          ]
        },
        {
          "output_type": "stream",
          "name": "stderr",
          "text": [
            "Training phase: batch_id=59; total loss=0.8519848585128784; mnist loss=0.04148233309388161; adder loss=0.8105025291442871; epoch_mnist_correct=59415/60000; epoch_sum_correct=43818/60000: 100%|██████████| 60/60 [00:09<00:00,  6.17it/s]\n"
          ]
        },
        {
          "output_type": "stream",
          "name": "stdout",
          "text": [
            "Training set: Average mnist loss: 0.0000; mnist Accuracy: 59415/60000   99.0250%; Average adder loss: 0.0008; adder Accuracy: 43818/60000   73.0300%\n"
          ]
        },
        {
          "output_type": "stream",
          "name": "stderr",
          "text": [
            "Testing phase: total_test_loss=8480.948709487915;  total_mnist_loss=283.14072608947754; total_mnist_correct=9913/10000;  total_adder_loss=8197.807983398438; total_adder_correct=7239/10000: 100%|██████████| 10/10 [00:01<00:00,  6.63it/s]\n"
          ]
        },
        {
          "output_type": "stream",
          "name": "stdout",
          "text": [
            "Test set: Average mnist loss: 0.0283; mnist Accuracy: 9913/10000 (99.1300%); Average adder loss: 0.8198; adder Accuracy: 7239/10000 (72.3900%)\n",
            "Epoch: 41\n"
          ]
        },
        {
          "output_type": "stream",
          "name": "stderr",
          "text": [
            "Training phase: batch_id=59; total loss=0.8499963283538818; mnist loss=0.02304745838046074; adder loss=0.826948881149292; epoch_mnist_correct=59425/60000; epoch_sum_correct=45291/60000: 100%|██████████| 60/60 [00:09<00:00,  6.60it/s]\n"
          ]
        },
        {
          "output_type": "stream",
          "name": "stdout",
          "text": [
            "Training set: Average mnist loss: 0.0000; mnist Accuracy: 59425/60000   99.0417%; Average adder loss: 0.0008; adder Accuracy: 45291/60000   75.4850%\n"
          ]
        },
        {
          "output_type": "stream",
          "name": "stderr",
          "text": [
            "Testing phase: total_test_loss=8164.491656303406;  total_mnist_loss=289.8722105026245; total_mnist_correct=9909/10000;  total_adder_loss=7874.619445800781; total_adder_correct=7679/10000: 100%|██████████| 10/10 [00:01<00:00,  6.36it/s]\n"
          ]
        },
        {
          "output_type": "stream",
          "name": "stdout",
          "text": [
            "Test set: Average mnist loss: 0.0290; mnist Accuracy: 9909/10000 (99.0900%); Average adder loss: 0.7875; adder Accuracy: 7679/10000 (76.7900%)\n",
            "Epoch: 42\n"
          ]
        },
        {
          "output_type": "stream",
          "name": "stderr",
          "text": [
            "Training phase: batch_id=59; total loss=0.7870301604270935; mnist loss=0.04726644977927208; adder loss=0.7397637367248535; epoch_mnist_correct=59445/60000; epoch_sum_correct=45617/60000: 100%|██████████| 60/60 [00:09<00:00,  6.59it/s]\n"
          ]
        },
        {
          "output_type": "stream",
          "name": "stdout",
          "text": [
            "Training set: Average mnist loss: 0.0000; mnist Accuracy: 59445/60000   99.0750%; Average adder loss: 0.0008; adder Accuracy: 45617/60000   76.0283%\n"
          ]
        },
        {
          "output_type": "stream",
          "name": "stderr",
          "text": [
            "Testing phase: total_test_loss=7986.898141860962;  total_mnist_loss=298.43299293518066; total_mnist_correct=9915/10000;  total_adder_loss=7688.465148925781; total_adder_correct=7857/10000: 100%|██████████| 10/10 [00:01<00:00,  6.54it/s]\n"
          ]
        },
        {
          "output_type": "stream",
          "name": "stdout",
          "text": [
            "Test set: Average mnist loss: 0.0298; mnist Accuracy: 9915/10000 (99.1500%); Average adder loss: 0.7688; adder Accuracy: 7857/10000 (78.5700%)\n",
            "Epoch: 43\n"
          ]
        },
        {
          "output_type": "stream",
          "name": "stderr",
          "text": [
            "Training phase: batch_id=59; total loss=0.9781551957130432; mnist loss=0.027422240003943443; adder loss=0.950732946395874; epoch_mnist_correct=59445/60000; epoch_sum_correct=46984/60000: 100%|██████████| 60/60 [00:08<00:00,  6.74it/s]\n"
          ]
        },
        {
          "output_type": "stream",
          "name": "stdout",
          "text": [
            "Training set: Average mnist loss: 0.0000; mnist Accuracy: 59445/60000   99.0750%; Average adder loss: 0.0007; adder Accuracy: 46984/60000   78.3067%\n"
          ]
        },
        {
          "output_type": "stream",
          "name": "stderr",
          "text": [
            "Testing phase: total_test_loss=9900.858739852905;  total_mnist_loss=277.3002681732178; total_mnist_correct=9914/10000;  total_adder_loss=9623.558471679688; total_adder_correct=5681/10000: 100%|██████████| 10/10 [00:01<00:00,  5.59it/s]\n"
          ]
        },
        {
          "output_type": "stream",
          "name": "stdout",
          "text": [
            "Test set: Average mnist loss: 0.0277; mnist Accuracy: 9914/10000 (99.1400%); Average adder loss: 0.9624; adder Accuracy: 5681/10000 (56.8100%)\n",
            "Epoch: 44\n"
          ]
        },
        {
          "output_type": "stream",
          "name": "stderr",
          "text": [
            "Training phase: batch_id=59; total loss=0.6993211507797241; mnist loss=0.031112998723983765; adder loss=0.6682081818580627; epoch_mnist_correct=59471/60000; epoch_sum_correct=46136/60000: 100%|██████████| 60/60 [00:09<00:00,  6.61it/s]\n"
          ]
        },
        {
          "output_type": "stream",
          "name": "stdout",
          "text": [
            "Training set: Average mnist loss: 0.0000; mnist Accuracy: 59471/60000   99.1183%; Average adder loss: 0.0007; adder Accuracy: 46136/60000   76.8933%\n"
          ]
        },
        {
          "output_type": "stream",
          "name": "stderr",
          "text": [
            "Testing phase: total_test_loss=7375.669033050537;  total_mnist_loss=293.3149070739746; total_mnist_correct=9912/10000;  total_adder_loss=7082.3541259765625; total_adder_correct=8154/10000: 100%|██████████| 10/10 [00:01<00:00,  5.78it/s]\n"
          ]
        },
        {
          "output_type": "stream",
          "name": "stdout",
          "text": [
            "Test set: Average mnist loss: 0.0293; mnist Accuracy: 9912/10000 (99.1200%); Average adder loss: 0.7082; adder Accuracy: 8154/10000 (81.5400%)\n",
            "Epoch: 45\n"
          ]
        },
        {
          "output_type": "stream",
          "name": "stderr",
          "text": [
            "Training phase: batch_id=59; total loss=0.7269266843795776; mnist loss=0.02640809491276741; adder loss=0.7005186080932617; epoch_mnist_correct=59492/60000; epoch_sum_correct=46704/60000: 100%|██████████| 60/60 [00:09<00:00,  6.60it/s]\n"
          ]
        },
        {
          "output_type": "stream",
          "name": "stdout",
          "text": [
            "Training set: Average mnist loss: 0.0000; mnist Accuracy: 59492/60000   99.1533%; Average adder loss: 0.0007; adder Accuracy: 46704/60000   77.8400%\n"
          ]
        },
        {
          "output_type": "stream",
          "name": "stderr",
          "text": [
            "Testing phase: total_test_loss=7299.730217933655;  total_mnist_loss=293.2921075820923; total_mnist_correct=9912/10000;  total_adder_loss=7006.4381103515625; total_adder_correct=8162/10000: 100%|██████████| 10/10 [00:01<00:00,  6.52it/s]\n"
          ]
        },
        {
          "output_type": "stream",
          "name": "stdout",
          "text": [
            "Test set: Average mnist loss: 0.0293; mnist Accuracy: 9912/10000 (99.1200%); Average adder loss: 0.7006; adder Accuracy: 8162/10000 (81.6200%)\n",
            "Epoch: 46\n"
          ]
        },
        {
          "output_type": "stream",
          "name": "stderr",
          "text": [
            "Training phase: batch_id=59; total loss=0.6935956478118896; mnist loss=0.026198046281933784; adder loss=0.6673976182937622; epoch_mnist_correct=59496/60000; epoch_sum_correct=46876/60000: 100%|██████████| 60/60 [00:09<00:00,  6.32it/s]\n"
          ]
        },
        {
          "output_type": "stream",
          "name": "stdout",
          "text": [
            "Training set: Average mnist loss: 0.0000; mnist Accuracy: 59496/60000   99.1600%; Average adder loss: 0.0007; adder Accuracy: 46876/60000   78.1267%\n"
          ]
        },
        {
          "output_type": "stream",
          "name": "stderr",
          "text": [
            "Testing phase: total_test_loss=7977.943380355835;  total_mnist_loss=296.2183437347412; total_mnist_correct=9915/10000;  total_adder_loss=7681.725036621094; total_adder_correct=7440/10000: 100%|██████████| 10/10 [00:01<00:00,  6.32it/s]\n"
          ]
        },
        {
          "output_type": "stream",
          "name": "stdout",
          "text": [
            "Test set: Average mnist loss: 0.0296; mnist Accuracy: 9915/10000 (99.1500%); Average adder loss: 0.7682; adder Accuracy: 7440/10000 (74.4000%)\n",
            "Epoch: 47\n"
          ]
        },
        {
          "output_type": "stream",
          "name": "stderr",
          "text": [
            "Training phase: batch_id=59; total loss=0.6970016360282898; mnist loss=0.0246108565479517; adder loss=0.6723907589912415; epoch_mnist_correct=59481/60000; epoch_sum_correct=47941/60000: 100%|██████████| 60/60 [00:09<00:00,  6.29it/s]\n"
          ]
        },
        {
          "output_type": "stream",
          "name": "stdout",
          "text": [
            "Training set: Average mnist loss: 0.0000; mnist Accuracy: 59481/60000   99.1350%; Average adder loss: 0.0007; adder Accuracy: 47941/60000   79.9017%\n"
          ]
        },
        {
          "output_type": "stream",
          "name": "stderr",
          "text": [
            "Testing phase: total_test_loss=6970.340476989746;  total_mnist_loss=305.96321868896484; total_mnist_correct=9915/10000;  total_adder_loss=6664.377258300781; total_adder_correct=8351/10000: 100%|██████████| 10/10 [00:01<00:00,  5.95it/s]\n"
          ]
        },
        {
          "output_type": "stream",
          "name": "stdout",
          "text": [
            "Test set: Average mnist loss: 0.0306; mnist Accuracy: 9915/10000 (99.1500%); Average adder loss: 0.6664; adder Accuracy: 8351/10000 (83.5100%)\n",
            "Epoch: 48\n"
          ]
        },
        {
          "output_type": "stream",
          "name": "stderr",
          "text": [
            "Training phase: batch_id=59; total loss=0.7443302273750305; mnist loss=0.019104812294244766; adder loss=0.7252253890037537; epoch_mnist_correct=59507/60000; epoch_sum_correct=48240/60000: 100%|██████████| 60/60 [00:09<00:00,  6.48it/s]\n"
          ]
        },
        {
          "output_type": "stream",
          "name": "stdout",
          "text": [
            "Training set: Average mnist loss: 0.0000; mnist Accuracy: 59507/60000   99.1783%; Average adder loss: 0.0007; adder Accuracy: 48240/60000   80.4000%\n"
          ]
        },
        {
          "output_type": "stream",
          "name": "stderr",
          "text": [
            "Testing phase: total_test_loss=7325.697885513306;  total_mnist_loss=285.5006809234619; total_mnist_correct=9918/10000;  total_adder_loss=7040.197204589844; total_adder_correct=7913/10000: 100%|██████████| 10/10 [00:01<00:00,  6.53it/s]\n"
          ]
        },
        {
          "output_type": "stream",
          "name": "stdout",
          "text": [
            "Test set: Average mnist loss: 0.0286; mnist Accuracy: 9918/10000 (99.1800%); Average adder loss: 0.7040; adder Accuracy: 7913/10000 (79.1300%)\n",
            "Epoch: 49\n"
          ]
        },
        {
          "output_type": "stream",
          "name": "stderr",
          "text": [
            "Training phase: batch_id=59; total loss=0.6240031719207764; mnist loss=0.0273855309933424; adder loss=0.5966176390647888; epoch_mnist_correct=59515/60000; epoch_sum_correct=49791/60000: 100%|██████████| 60/60 [00:09<00:00,  6.13it/s]\n"
          ]
        },
        {
          "output_type": "stream",
          "name": "stdout",
          "text": [
            "Training set: Average mnist loss: 0.0000; mnist Accuracy: 59515/60000   99.1917%; Average adder loss: 0.0006; adder Accuracy: 49791/60000   82.9850%\n"
          ]
        },
        {
          "output_type": "stream",
          "name": "stderr",
          "text": [
            "Testing phase: total_test_loss=6392.253681182861;  total_mnist_loss=279.1161689758301; total_mnist_correct=9911/10000;  total_adder_loss=6113.137512207031; total_adder_correct=8473/10000: 100%|██████████| 10/10 [00:01<00:00,  5.71it/s]\n"
          ]
        },
        {
          "output_type": "stream",
          "name": "stdout",
          "text": [
            "Test set: Average mnist loss: 0.0279; mnist Accuracy: 9911/10000 (99.1100%); Average adder loss: 0.6113; adder Accuracy: 8473/10000 (84.7300%)\n",
            "Epoch: 50\n"
          ]
        },
        {
          "output_type": "stream",
          "name": "stderr",
          "text": [
            "Training phase: batch_id=59; total loss=0.6561468839645386; mnist loss=0.027134407311677933; adder loss=0.6290124654769897; epoch_mnist_correct=59528/60000; epoch_sum_correct=49962/60000: 100%|██████████| 60/60 [00:08<00:00,  6.69it/s]\n"
          ]
        },
        {
          "output_type": "stream",
          "name": "stdout",
          "text": [
            "Training set: Average mnist loss: 0.0000; mnist Accuracy: 59528/60000   99.2133%; Average adder loss: 0.0006; adder Accuracy: 49962/60000   83.2700%\n"
          ]
        },
        {
          "output_type": "stream",
          "name": "stderr",
          "text": [
            "Testing phase: total_test_loss=6411.119770050049;  total_mnist_loss=297.4601631164551; total_mnist_correct=9915/10000;  total_adder_loss=6113.659606933594; total_adder_correct=8635/10000: 100%|██████████| 10/10 [00:01<00:00,  6.48it/s]"
          ]
        },
        {
          "output_type": "stream",
          "name": "stdout",
          "text": [
            "Test set: Average mnist loss: 0.0297; mnist Accuracy: 9915/10000 (99.1500%); Average adder loss: 0.6114; adder Accuracy: 8635/10000 (86.3500%)\n"
          ]
        },
        {
          "output_type": "stream",
          "name": "stderr",
          "text": [
            "\n"
          ]
        }
      ]
    }
  ]
}