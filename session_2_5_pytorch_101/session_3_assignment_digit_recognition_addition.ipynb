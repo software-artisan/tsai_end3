{
  "nbformat": 4,
  "nbformat_minor": 0,
  "metadata": {
    "colab": {
      "name": "session_3_assignment_digit_recognition_addition.ipynb",
      "provenance": [],
      "collapsed_sections": [],
      "include_colab_link": true
    },
    "kernelspec": {
      "name": "python3",
      "display_name": "Python 3"
    },
    "language_info": {
      "name": "python"
    },
    "widgets": {
      "application/vnd.jupyter.widget-state+json": {
        "bed9ba24432d48eba69bb5d3220d8e3c": {
          "model_module": "@jupyter-widgets/controls",
          "model_name": "HBoxModel",
          "model_module_version": "1.5.0",
          "state": {
            "_view_name": "HBoxView",
            "_dom_classes": [],
            "_model_name": "HBoxModel",
            "_view_module": "@jupyter-widgets/controls",
            "_model_module_version": "1.5.0",
            "_view_count": null,
            "_view_module_version": "1.5.0",
            "box_style": "",
            "layout": "IPY_MODEL_0cef791efa484d19afcbf89ada911234",
            "_model_module": "@jupyter-widgets/controls",
            "children": [
              "IPY_MODEL_a8531764dc9d44aeaa79428fef758cab",
              "IPY_MODEL_c0f798405a194acb9fe9b5fac4050865",
              "IPY_MODEL_e47d5b1158a641eb94a7b96cde69750f"
            ]
          }
        },
        "0cef791efa484d19afcbf89ada911234": {
          "model_module": "@jupyter-widgets/base",
          "model_name": "LayoutModel",
          "model_module_version": "1.2.0",
          "state": {
            "_view_name": "LayoutView",
            "grid_template_rows": null,
            "right": null,
            "justify_content": null,
            "_view_module": "@jupyter-widgets/base",
            "overflow": null,
            "_model_module_version": "1.2.0",
            "_view_count": null,
            "flex_flow": null,
            "width": null,
            "min_width": null,
            "border": null,
            "align_items": null,
            "bottom": null,
            "_model_module": "@jupyter-widgets/base",
            "top": null,
            "grid_column": null,
            "overflow_y": null,
            "overflow_x": null,
            "grid_auto_flow": null,
            "grid_area": null,
            "grid_template_columns": null,
            "flex": null,
            "_model_name": "LayoutModel",
            "justify_items": null,
            "grid_row": null,
            "max_height": null,
            "align_content": null,
            "visibility": null,
            "align_self": null,
            "height": null,
            "min_height": null,
            "padding": null,
            "grid_auto_rows": null,
            "grid_gap": null,
            "max_width": null,
            "order": null,
            "_view_module_version": "1.2.0",
            "grid_template_areas": null,
            "object_position": null,
            "object_fit": null,
            "grid_auto_columns": null,
            "margin": null,
            "display": null,
            "left": null
          }
        },
        "a8531764dc9d44aeaa79428fef758cab": {
          "model_module": "@jupyter-widgets/controls",
          "model_name": "HTMLModel",
          "model_module_version": "1.5.0",
          "state": {
            "_view_name": "HTMLView",
            "style": "IPY_MODEL_f16479a3ba3d4d4e899fa85e32795eeb",
            "_dom_classes": [],
            "description": "",
            "_model_name": "HTMLModel",
            "placeholder": "​",
            "_view_module": "@jupyter-widgets/controls",
            "_model_module_version": "1.5.0",
            "value": "",
            "_view_count": null,
            "_view_module_version": "1.5.0",
            "description_tooltip": null,
            "_model_module": "@jupyter-widgets/controls",
            "layout": "IPY_MODEL_7967be6f7d914febae1c2362c10d34bc"
          }
        },
        "c0f798405a194acb9fe9b5fac4050865": {
          "model_module": "@jupyter-widgets/controls",
          "model_name": "FloatProgressModel",
          "model_module_version": "1.5.0",
          "state": {
            "_view_name": "ProgressView",
            "style": "IPY_MODEL_31b2d648b1f641a08bfcf5959d3c87c4",
            "_dom_classes": [],
            "description": "",
            "_model_name": "FloatProgressModel",
            "bar_style": "success",
            "max": 9912422,
            "_view_module": "@jupyter-widgets/controls",
            "_model_module_version": "1.5.0",
            "value": 9912422,
            "_view_count": null,
            "_view_module_version": "1.5.0",
            "orientation": "horizontal",
            "min": 0,
            "description_tooltip": null,
            "_model_module": "@jupyter-widgets/controls",
            "layout": "IPY_MODEL_563128b456514e2c9139e0c1b011ecb9"
          }
        },
        "e47d5b1158a641eb94a7b96cde69750f": {
          "model_module": "@jupyter-widgets/controls",
          "model_name": "HTMLModel",
          "model_module_version": "1.5.0",
          "state": {
            "_view_name": "HTMLView",
            "style": "IPY_MODEL_9a2357ff69194b439fe4ccf9c50c40f4",
            "_dom_classes": [],
            "description": "",
            "_model_name": "HTMLModel",
            "placeholder": "​",
            "_view_module": "@jupyter-widgets/controls",
            "_model_module_version": "1.5.0",
            "value": " 9913344/? [00:04&lt;00:00, 2460293.83it/s]",
            "_view_count": null,
            "_view_module_version": "1.5.0",
            "description_tooltip": null,
            "_model_module": "@jupyter-widgets/controls",
            "layout": "IPY_MODEL_0bb2f8b8f8e541ff86a1ba514f376c99"
          }
        },
        "f16479a3ba3d4d4e899fa85e32795eeb": {
          "model_module": "@jupyter-widgets/controls",
          "model_name": "DescriptionStyleModel",
          "model_module_version": "1.5.0",
          "state": {
            "_view_name": "StyleView",
            "_model_name": "DescriptionStyleModel",
            "description_width": "",
            "_view_module": "@jupyter-widgets/base",
            "_model_module_version": "1.5.0",
            "_view_count": null,
            "_view_module_version": "1.2.0",
            "_model_module": "@jupyter-widgets/controls"
          }
        },
        "7967be6f7d914febae1c2362c10d34bc": {
          "model_module": "@jupyter-widgets/base",
          "model_name": "LayoutModel",
          "model_module_version": "1.2.0",
          "state": {
            "_view_name": "LayoutView",
            "grid_template_rows": null,
            "right": null,
            "justify_content": null,
            "_view_module": "@jupyter-widgets/base",
            "overflow": null,
            "_model_module_version": "1.2.0",
            "_view_count": null,
            "flex_flow": null,
            "width": null,
            "min_width": null,
            "border": null,
            "align_items": null,
            "bottom": null,
            "_model_module": "@jupyter-widgets/base",
            "top": null,
            "grid_column": null,
            "overflow_y": null,
            "overflow_x": null,
            "grid_auto_flow": null,
            "grid_area": null,
            "grid_template_columns": null,
            "flex": null,
            "_model_name": "LayoutModel",
            "justify_items": null,
            "grid_row": null,
            "max_height": null,
            "align_content": null,
            "visibility": null,
            "align_self": null,
            "height": null,
            "min_height": null,
            "padding": null,
            "grid_auto_rows": null,
            "grid_gap": null,
            "max_width": null,
            "order": null,
            "_view_module_version": "1.2.0",
            "grid_template_areas": null,
            "object_position": null,
            "object_fit": null,
            "grid_auto_columns": null,
            "margin": null,
            "display": null,
            "left": null
          }
        },
        "31b2d648b1f641a08bfcf5959d3c87c4": {
          "model_module": "@jupyter-widgets/controls",
          "model_name": "ProgressStyleModel",
          "model_module_version": "1.5.0",
          "state": {
            "_view_name": "StyleView",
            "_model_name": "ProgressStyleModel",
            "description_width": "",
            "_view_module": "@jupyter-widgets/base",
            "_model_module_version": "1.5.0",
            "_view_count": null,
            "_view_module_version": "1.2.0",
            "bar_color": null,
            "_model_module": "@jupyter-widgets/controls"
          }
        },
        "563128b456514e2c9139e0c1b011ecb9": {
          "model_module": "@jupyter-widgets/base",
          "model_name": "LayoutModel",
          "model_module_version": "1.2.0",
          "state": {
            "_view_name": "LayoutView",
            "grid_template_rows": null,
            "right": null,
            "justify_content": null,
            "_view_module": "@jupyter-widgets/base",
            "overflow": null,
            "_model_module_version": "1.2.0",
            "_view_count": null,
            "flex_flow": null,
            "width": null,
            "min_width": null,
            "border": null,
            "align_items": null,
            "bottom": null,
            "_model_module": "@jupyter-widgets/base",
            "top": null,
            "grid_column": null,
            "overflow_y": null,
            "overflow_x": null,
            "grid_auto_flow": null,
            "grid_area": null,
            "grid_template_columns": null,
            "flex": null,
            "_model_name": "LayoutModel",
            "justify_items": null,
            "grid_row": null,
            "max_height": null,
            "align_content": null,
            "visibility": null,
            "align_self": null,
            "height": null,
            "min_height": null,
            "padding": null,
            "grid_auto_rows": null,
            "grid_gap": null,
            "max_width": null,
            "order": null,
            "_view_module_version": "1.2.0",
            "grid_template_areas": null,
            "object_position": null,
            "object_fit": null,
            "grid_auto_columns": null,
            "margin": null,
            "display": null,
            "left": null
          }
        },
        "9a2357ff69194b439fe4ccf9c50c40f4": {
          "model_module": "@jupyter-widgets/controls",
          "model_name": "DescriptionStyleModel",
          "model_module_version": "1.5.0",
          "state": {
            "_view_name": "StyleView",
            "_model_name": "DescriptionStyleModel",
            "description_width": "",
            "_view_module": "@jupyter-widgets/base",
            "_model_module_version": "1.5.0",
            "_view_count": null,
            "_view_module_version": "1.2.0",
            "_model_module": "@jupyter-widgets/controls"
          }
        },
        "0bb2f8b8f8e541ff86a1ba514f376c99": {
          "model_module": "@jupyter-widgets/base",
          "model_name": "LayoutModel",
          "model_module_version": "1.2.0",
          "state": {
            "_view_name": "LayoutView",
            "grid_template_rows": null,
            "right": null,
            "justify_content": null,
            "_view_module": "@jupyter-widgets/base",
            "overflow": null,
            "_model_module_version": "1.2.0",
            "_view_count": null,
            "flex_flow": null,
            "width": null,
            "min_width": null,
            "border": null,
            "align_items": null,
            "bottom": null,
            "_model_module": "@jupyter-widgets/base",
            "top": null,
            "grid_column": null,
            "overflow_y": null,
            "overflow_x": null,
            "grid_auto_flow": null,
            "grid_area": null,
            "grid_template_columns": null,
            "flex": null,
            "_model_name": "LayoutModel",
            "justify_items": null,
            "grid_row": null,
            "max_height": null,
            "align_content": null,
            "visibility": null,
            "align_self": null,
            "height": null,
            "min_height": null,
            "padding": null,
            "grid_auto_rows": null,
            "grid_gap": null,
            "max_width": null,
            "order": null,
            "_view_module_version": "1.2.0",
            "grid_template_areas": null,
            "object_position": null,
            "object_fit": null,
            "grid_auto_columns": null,
            "margin": null,
            "display": null,
            "left": null
          }
        },
        "94e6365057ae43b5a0c6c9810e527f66": {
          "model_module": "@jupyter-widgets/controls",
          "model_name": "HBoxModel",
          "model_module_version": "1.5.0",
          "state": {
            "_view_name": "HBoxView",
            "_dom_classes": [],
            "_model_name": "HBoxModel",
            "_view_module": "@jupyter-widgets/controls",
            "_model_module_version": "1.5.0",
            "_view_count": null,
            "_view_module_version": "1.5.0",
            "box_style": "",
            "layout": "IPY_MODEL_6140c510eb0e4445b32a540f64200457",
            "_model_module": "@jupyter-widgets/controls",
            "children": [
              "IPY_MODEL_dc99739ffe42498f90d7145f6b0c4d7c",
              "IPY_MODEL_82620559265c48fdbfcbf3b78c9c9221",
              "IPY_MODEL_5cb688fee82348c2ad460bb9b0f2442a"
            ]
          }
        },
        "6140c510eb0e4445b32a540f64200457": {
          "model_module": "@jupyter-widgets/base",
          "model_name": "LayoutModel",
          "model_module_version": "1.2.0",
          "state": {
            "_view_name": "LayoutView",
            "grid_template_rows": null,
            "right": null,
            "justify_content": null,
            "_view_module": "@jupyter-widgets/base",
            "overflow": null,
            "_model_module_version": "1.2.0",
            "_view_count": null,
            "flex_flow": null,
            "width": null,
            "min_width": null,
            "border": null,
            "align_items": null,
            "bottom": null,
            "_model_module": "@jupyter-widgets/base",
            "top": null,
            "grid_column": null,
            "overflow_y": null,
            "overflow_x": null,
            "grid_auto_flow": null,
            "grid_area": null,
            "grid_template_columns": null,
            "flex": null,
            "_model_name": "LayoutModel",
            "justify_items": null,
            "grid_row": null,
            "max_height": null,
            "align_content": null,
            "visibility": null,
            "align_self": null,
            "height": null,
            "min_height": null,
            "padding": null,
            "grid_auto_rows": null,
            "grid_gap": null,
            "max_width": null,
            "order": null,
            "_view_module_version": "1.2.0",
            "grid_template_areas": null,
            "object_position": null,
            "object_fit": null,
            "grid_auto_columns": null,
            "margin": null,
            "display": null,
            "left": null
          }
        },
        "dc99739ffe42498f90d7145f6b0c4d7c": {
          "model_module": "@jupyter-widgets/controls",
          "model_name": "HTMLModel",
          "model_module_version": "1.5.0",
          "state": {
            "_view_name": "HTMLView",
            "style": "IPY_MODEL_d1309dc133de431fbf236e586c18c248",
            "_dom_classes": [],
            "description": "",
            "_model_name": "HTMLModel",
            "placeholder": "​",
            "_view_module": "@jupyter-widgets/controls",
            "_model_module_version": "1.5.0",
            "value": "",
            "_view_count": null,
            "_view_module_version": "1.5.0",
            "description_tooltip": null,
            "_model_module": "@jupyter-widgets/controls",
            "layout": "IPY_MODEL_8f9751e21d7a4805bd973709d53e08d3"
          }
        },
        "82620559265c48fdbfcbf3b78c9c9221": {
          "model_module": "@jupyter-widgets/controls",
          "model_name": "FloatProgressModel",
          "model_module_version": "1.5.0",
          "state": {
            "_view_name": "ProgressView",
            "style": "IPY_MODEL_ba545a749b99405aaabf201d82136323",
            "_dom_classes": [],
            "description": "",
            "_model_name": "FloatProgressModel",
            "bar_style": "success",
            "max": 28881,
            "_view_module": "@jupyter-widgets/controls",
            "_model_module_version": "1.5.0",
            "value": 28881,
            "_view_count": null,
            "_view_module_version": "1.5.0",
            "orientation": "horizontal",
            "min": 0,
            "description_tooltip": null,
            "_model_module": "@jupyter-widgets/controls",
            "layout": "IPY_MODEL_de5cc3c684bf4b88acf75b47a02cf3e6"
          }
        },
        "5cb688fee82348c2ad460bb9b0f2442a": {
          "model_module": "@jupyter-widgets/controls",
          "model_name": "HTMLModel",
          "model_module_version": "1.5.0",
          "state": {
            "_view_name": "HTMLView",
            "style": "IPY_MODEL_22397816801f465b82704a364c883527",
            "_dom_classes": [],
            "description": "",
            "_model_name": "HTMLModel",
            "placeholder": "​",
            "_view_module": "@jupyter-widgets/controls",
            "_model_module_version": "1.5.0",
            "value": " 29696/? [00:00&lt;00:00, 836725.03it/s]",
            "_view_count": null,
            "_view_module_version": "1.5.0",
            "description_tooltip": null,
            "_model_module": "@jupyter-widgets/controls",
            "layout": "IPY_MODEL_3fed00c669194aa6a4812cc5602c06b1"
          }
        },
        "d1309dc133de431fbf236e586c18c248": {
          "model_module": "@jupyter-widgets/controls",
          "model_name": "DescriptionStyleModel",
          "model_module_version": "1.5.0",
          "state": {
            "_view_name": "StyleView",
            "_model_name": "DescriptionStyleModel",
            "description_width": "",
            "_view_module": "@jupyter-widgets/base",
            "_model_module_version": "1.5.0",
            "_view_count": null,
            "_view_module_version": "1.2.0",
            "_model_module": "@jupyter-widgets/controls"
          }
        },
        "8f9751e21d7a4805bd973709d53e08d3": {
          "model_module": "@jupyter-widgets/base",
          "model_name": "LayoutModel",
          "model_module_version": "1.2.0",
          "state": {
            "_view_name": "LayoutView",
            "grid_template_rows": null,
            "right": null,
            "justify_content": null,
            "_view_module": "@jupyter-widgets/base",
            "overflow": null,
            "_model_module_version": "1.2.0",
            "_view_count": null,
            "flex_flow": null,
            "width": null,
            "min_width": null,
            "border": null,
            "align_items": null,
            "bottom": null,
            "_model_module": "@jupyter-widgets/base",
            "top": null,
            "grid_column": null,
            "overflow_y": null,
            "overflow_x": null,
            "grid_auto_flow": null,
            "grid_area": null,
            "grid_template_columns": null,
            "flex": null,
            "_model_name": "LayoutModel",
            "justify_items": null,
            "grid_row": null,
            "max_height": null,
            "align_content": null,
            "visibility": null,
            "align_self": null,
            "height": null,
            "min_height": null,
            "padding": null,
            "grid_auto_rows": null,
            "grid_gap": null,
            "max_width": null,
            "order": null,
            "_view_module_version": "1.2.0",
            "grid_template_areas": null,
            "object_position": null,
            "object_fit": null,
            "grid_auto_columns": null,
            "margin": null,
            "display": null,
            "left": null
          }
        },
        "ba545a749b99405aaabf201d82136323": {
          "model_module": "@jupyter-widgets/controls",
          "model_name": "ProgressStyleModel",
          "model_module_version": "1.5.0",
          "state": {
            "_view_name": "StyleView",
            "_model_name": "ProgressStyleModel",
            "description_width": "",
            "_view_module": "@jupyter-widgets/base",
            "_model_module_version": "1.5.0",
            "_view_count": null,
            "_view_module_version": "1.2.0",
            "bar_color": null,
            "_model_module": "@jupyter-widgets/controls"
          }
        },
        "de5cc3c684bf4b88acf75b47a02cf3e6": {
          "model_module": "@jupyter-widgets/base",
          "model_name": "LayoutModel",
          "model_module_version": "1.2.0",
          "state": {
            "_view_name": "LayoutView",
            "grid_template_rows": null,
            "right": null,
            "justify_content": null,
            "_view_module": "@jupyter-widgets/base",
            "overflow": null,
            "_model_module_version": "1.2.0",
            "_view_count": null,
            "flex_flow": null,
            "width": null,
            "min_width": null,
            "border": null,
            "align_items": null,
            "bottom": null,
            "_model_module": "@jupyter-widgets/base",
            "top": null,
            "grid_column": null,
            "overflow_y": null,
            "overflow_x": null,
            "grid_auto_flow": null,
            "grid_area": null,
            "grid_template_columns": null,
            "flex": null,
            "_model_name": "LayoutModel",
            "justify_items": null,
            "grid_row": null,
            "max_height": null,
            "align_content": null,
            "visibility": null,
            "align_self": null,
            "height": null,
            "min_height": null,
            "padding": null,
            "grid_auto_rows": null,
            "grid_gap": null,
            "max_width": null,
            "order": null,
            "_view_module_version": "1.2.0",
            "grid_template_areas": null,
            "object_position": null,
            "object_fit": null,
            "grid_auto_columns": null,
            "margin": null,
            "display": null,
            "left": null
          }
        },
        "22397816801f465b82704a364c883527": {
          "model_module": "@jupyter-widgets/controls",
          "model_name": "DescriptionStyleModel",
          "model_module_version": "1.5.0",
          "state": {
            "_view_name": "StyleView",
            "_model_name": "DescriptionStyleModel",
            "description_width": "",
            "_view_module": "@jupyter-widgets/base",
            "_model_module_version": "1.5.0",
            "_view_count": null,
            "_view_module_version": "1.2.0",
            "_model_module": "@jupyter-widgets/controls"
          }
        },
        "3fed00c669194aa6a4812cc5602c06b1": {
          "model_module": "@jupyter-widgets/base",
          "model_name": "LayoutModel",
          "model_module_version": "1.2.0",
          "state": {
            "_view_name": "LayoutView",
            "grid_template_rows": null,
            "right": null,
            "justify_content": null,
            "_view_module": "@jupyter-widgets/base",
            "overflow": null,
            "_model_module_version": "1.2.0",
            "_view_count": null,
            "flex_flow": null,
            "width": null,
            "min_width": null,
            "border": null,
            "align_items": null,
            "bottom": null,
            "_model_module": "@jupyter-widgets/base",
            "top": null,
            "grid_column": null,
            "overflow_y": null,
            "overflow_x": null,
            "grid_auto_flow": null,
            "grid_area": null,
            "grid_template_columns": null,
            "flex": null,
            "_model_name": "LayoutModel",
            "justify_items": null,
            "grid_row": null,
            "max_height": null,
            "align_content": null,
            "visibility": null,
            "align_self": null,
            "height": null,
            "min_height": null,
            "padding": null,
            "grid_auto_rows": null,
            "grid_gap": null,
            "max_width": null,
            "order": null,
            "_view_module_version": "1.2.0",
            "grid_template_areas": null,
            "object_position": null,
            "object_fit": null,
            "grid_auto_columns": null,
            "margin": null,
            "display": null,
            "left": null
          }
        },
        "800b18c7c5734caf8163c0d61f18b7bb": {
          "model_module": "@jupyter-widgets/controls",
          "model_name": "HBoxModel",
          "model_module_version": "1.5.0",
          "state": {
            "_view_name": "HBoxView",
            "_dom_classes": [],
            "_model_name": "HBoxModel",
            "_view_module": "@jupyter-widgets/controls",
            "_model_module_version": "1.5.0",
            "_view_count": null,
            "_view_module_version": "1.5.0",
            "box_style": "",
            "layout": "IPY_MODEL_10a2469b781045c6b38e9b2e8c1038a8",
            "_model_module": "@jupyter-widgets/controls",
            "children": [
              "IPY_MODEL_6eeebdf972fb4fc0b60441d2cb2390f0",
              "IPY_MODEL_18c57bc3b84849acbe5a41eb3cf8b70a",
              "IPY_MODEL_cc30c02892e64b93b573a8907050079d"
            ]
          }
        },
        "10a2469b781045c6b38e9b2e8c1038a8": {
          "model_module": "@jupyter-widgets/base",
          "model_name": "LayoutModel",
          "model_module_version": "1.2.0",
          "state": {
            "_view_name": "LayoutView",
            "grid_template_rows": null,
            "right": null,
            "justify_content": null,
            "_view_module": "@jupyter-widgets/base",
            "overflow": null,
            "_model_module_version": "1.2.0",
            "_view_count": null,
            "flex_flow": null,
            "width": null,
            "min_width": null,
            "border": null,
            "align_items": null,
            "bottom": null,
            "_model_module": "@jupyter-widgets/base",
            "top": null,
            "grid_column": null,
            "overflow_y": null,
            "overflow_x": null,
            "grid_auto_flow": null,
            "grid_area": null,
            "grid_template_columns": null,
            "flex": null,
            "_model_name": "LayoutModel",
            "justify_items": null,
            "grid_row": null,
            "max_height": null,
            "align_content": null,
            "visibility": null,
            "align_self": null,
            "height": null,
            "min_height": null,
            "padding": null,
            "grid_auto_rows": null,
            "grid_gap": null,
            "max_width": null,
            "order": null,
            "_view_module_version": "1.2.0",
            "grid_template_areas": null,
            "object_position": null,
            "object_fit": null,
            "grid_auto_columns": null,
            "margin": null,
            "display": null,
            "left": null
          }
        },
        "6eeebdf972fb4fc0b60441d2cb2390f0": {
          "model_module": "@jupyter-widgets/controls",
          "model_name": "HTMLModel",
          "model_module_version": "1.5.0",
          "state": {
            "_view_name": "HTMLView",
            "style": "IPY_MODEL_c65a5e4ffa084bb7beda7ea46575a49d",
            "_dom_classes": [],
            "description": "",
            "_model_name": "HTMLModel",
            "placeholder": "​",
            "_view_module": "@jupyter-widgets/controls",
            "_model_module_version": "1.5.0",
            "value": "",
            "_view_count": null,
            "_view_module_version": "1.5.0",
            "description_tooltip": null,
            "_model_module": "@jupyter-widgets/controls",
            "layout": "IPY_MODEL_0e4be59974294b50b8da977b96527c29"
          }
        },
        "18c57bc3b84849acbe5a41eb3cf8b70a": {
          "model_module": "@jupyter-widgets/controls",
          "model_name": "FloatProgressModel",
          "model_module_version": "1.5.0",
          "state": {
            "_view_name": "ProgressView",
            "style": "IPY_MODEL_adff8c3f6ad540d0999806000abd546f",
            "_dom_classes": [],
            "description": "",
            "_model_name": "FloatProgressModel",
            "bar_style": "success",
            "max": 1648877,
            "_view_module": "@jupyter-widgets/controls",
            "_model_module_version": "1.5.0",
            "value": 1648877,
            "_view_count": null,
            "_view_module_version": "1.5.0",
            "orientation": "horizontal",
            "min": 0,
            "description_tooltip": null,
            "_model_module": "@jupyter-widgets/controls",
            "layout": "IPY_MODEL_da6ca6c9aaa64abdaae36ad179b809e7"
          }
        },
        "cc30c02892e64b93b573a8907050079d": {
          "model_module": "@jupyter-widgets/controls",
          "model_name": "HTMLModel",
          "model_module_version": "1.5.0",
          "state": {
            "_view_name": "HTMLView",
            "style": "IPY_MODEL_35af19da90a14c24bb6363bf5d5789b0",
            "_dom_classes": [],
            "description": "",
            "_model_name": "HTMLModel",
            "placeholder": "​",
            "_view_module": "@jupyter-widgets/controls",
            "_model_module_version": "1.5.0",
            "value": " 1649664/? [00:00&lt;00:00, 2534848.86it/s]",
            "_view_count": null,
            "_view_module_version": "1.5.0",
            "description_tooltip": null,
            "_model_module": "@jupyter-widgets/controls",
            "layout": "IPY_MODEL_9e577cf3b5d7433687796fedd1e8951b"
          }
        },
        "c65a5e4ffa084bb7beda7ea46575a49d": {
          "model_module": "@jupyter-widgets/controls",
          "model_name": "DescriptionStyleModel",
          "model_module_version": "1.5.0",
          "state": {
            "_view_name": "StyleView",
            "_model_name": "DescriptionStyleModel",
            "description_width": "",
            "_view_module": "@jupyter-widgets/base",
            "_model_module_version": "1.5.0",
            "_view_count": null,
            "_view_module_version": "1.2.0",
            "_model_module": "@jupyter-widgets/controls"
          }
        },
        "0e4be59974294b50b8da977b96527c29": {
          "model_module": "@jupyter-widgets/base",
          "model_name": "LayoutModel",
          "model_module_version": "1.2.0",
          "state": {
            "_view_name": "LayoutView",
            "grid_template_rows": null,
            "right": null,
            "justify_content": null,
            "_view_module": "@jupyter-widgets/base",
            "overflow": null,
            "_model_module_version": "1.2.0",
            "_view_count": null,
            "flex_flow": null,
            "width": null,
            "min_width": null,
            "border": null,
            "align_items": null,
            "bottom": null,
            "_model_module": "@jupyter-widgets/base",
            "top": null,
            "grid_column": null,
            "overflow_y": null,
            "overflow_x": null,
            "grid_auto_flow": null,
            "grid_area": null,
            "grid_template_columns": null,
            "flex": null,
            "_model_name": "LayoutModel",
            "justify_items": null,
            "grid_row": null,
            "max_height": null,
            "align_content": null,
            "visibility": null,
            "align_self": null,
            "height": null,
            "min_height": null,
            "padding": null,
            "grid_auto_rows": null,
            "grid_gap": null,
            "max_width": null,
            "order": null,
            "_view_module_version": "1.2.0",
            "grid_template_areas": null,
            "object_position": null,
            "object_fit": null,
            "grid_auto_columns": null,
            "margin": null,
            "display": null,
            "left": null
          }
        },
        "adff8c3f6ad540d0999806000abd546f": {
          "model_module": "@jupyter-widgets/controls",
          "model_name": "ProgressStyleModel",
          "model_module_version": "1.5.0",
          "state": {
            "_view_name": "StyleView",
            "_model_name": "ProgressStyleModel",
            "description_width": "",
            "_view_module": "@jupyter-widgets/base",
            "_model_module_version": "1.5.0",
            "_view_count": null,
            "_view_module_version": "1.2.0",
            "bar_color": null,
            "_model_module": "@jupyter-widgets/controls"
          }
        },
        "da6ca6c9aaa64abdaae36ad179b809e7": {
          "model_module": "@jupyter-widgets/base",
          "model_name": "LayoutModel",
          "model_module_version": "1.2.0",
          "state": {
            "_view_name": "LayoutView",
            "grid_template_rows": null,
            "right": null,
            "justify_content": null,
            "_view_module": "@jupyter-widgets/base",
            "overflow": null,
            "_model_module_version": "1.2.0",
            "_view_count": null,
            "flex_flow": null,
            "width": null,
            "min_width": null,
            "border": null,
            "align_items": null,
            "bottom": null,
            "_model_module": "@jupyter-widgets/base",
            "top": null,
            "grid_column": null,
            "overflow_y": null,
            "overflow_x": null,
            "grid_auto_flow": null,
            "grid_area": null,
            "grid_template_columns": null,
            "flex": null,
            "_model_name": "LayoutModel",
            "justify_items": null,
            "grid_row": null,
            "max_height": null,
            "align_content": null,
            "visibility": null,
            "align_self": null,
            "height": null,
            "min_height": null,
            "padding": null,
            "grid_auto_rows": null,
            "grid_gap": null,
            "max_width": null,
            "order": null,
            "_view_module_version": "1.2.0",
            "grid_template_areas": null,
            "object_position": null,
            "object_fit": null,
            "grid_auto_columns": null,
            "margin": null,
            "display": null,
            "left": null
          }
        },
        "35af19da90a14c24bb6363bf5d5789b0": {
          "model_module": "@jupyter-widgets/controls",
          "model_name": "DescriptionStyleModel",
          "model_module_version": "1.5.0",
          "state": {
            "_view_name": "StyleView",
            "_model_name": "DescriptionStyleModel",
            "description_width": "",
            "_view_module": "@jupyter-widgets/base",
            "_model_module_version": "1.5.0",
            "_view_count": null,
            "_view_module_version": "1.2.0",
            "_model_module": "@jupyter-widgets/controls"
          }
        },
        "9e577cf3b5d7433687796fedd1e8951b": {
          "model_module": "@jupyter-widgets/base",
          "model_name": "LayoutModel",
          "model_module_version": "1.2.0",
          "state": {
            "_view_name": "LayoutView",
            "grid_template_rows": null,
            "right": null,
            "justify_content": null,
            "_view_module": "@jupyter-widgets/base",
            "overflow": null,
            "_model_module_version": "1.2.0",
            "_view_count": null,
            "flex_flow": null,
            "width": null,
            "min_width": null,
            "border": null,
            "align_items": null,
            "bottom": null,
            "_model_module": "@jupyter-widgets/base",
            "top": null,
            "grid_column": null,
            "overflow_y": null,
            "overflow_x": null,
            "grid_auto_flow": null,
            "grid_area": null,
            "grid_template_columns": null,
            "flex": null,
            "_model_name": "LayoutModel",
            "justify_items": null,
            "grid_row": null,
            "max_height": null,
            "align_content": null,
            "visibility": null,
            "align_self": null,
            "height": null,
            "min_height": null,
            "padding": null,
            "grid_auto_rows": null,
            "grid_gap": null,
            "max_width": null,
            "order": null,
            "_view_module_version": "1.2.0",
            "grid_template_areas": null,
            "object_position": null,
            "object_fit": null,
            "grid_auto_columns": null,
            "margin": null,
            "display": null,
            "left": null
          }
        },
        "ffd38596554447c6a6d148006edbfd8e": {
          "model_module": "@jupyter-widgets/controls",
          "model_name": "HBoxModel",
          "model_module_version": "1.5.0",
          "state": {
            "_view_name": "HBoxView",
            "_dom_classes": [],
            "_model_name": "HBoxModel",
            "_view_module": "@jupyter-widgets/controls",
            "_model_module_version": "1.5.0",
            "_view_count": null,
            "_view_module_version": "1.5.0",
            "box_style": "",
            "layout": "IPY_MODEL_4eed241e62ca4fab823cb94caf6a607f",
            "_model_module": "@jupyter-widgets/controls",
            "children": [
              "IPY_MODEL_6410b19a05f34e2bb8e0d7f68eae9475",
              "IPY_MODEL_b849cfa49b744591b783bbda3dd27aa5",
              "IPY_MODEL_aef7dd23488347eba7450c13e19b3b1f"
            ]
          }
        },
        "4eed241e62ca4fab823cb94caf6a607f": {
          "model_module": "@jupyter-widgets/base",
          "model_name": "LayoutModel",
          "model_module_version": "1.2.0",
          "state": {
            "_view_name": "LayoutView",
            "grid_template_rows": null,
            "right": null,
            "justify_content": null,
            "_view_module": "@jupyter-widgets/base",
            "overflow": null,
            "_model_module_version": "1.2.0",
            "_view_count": null,
            "flex_flow": null,
            "width": null,
            "min_width": null,
            "border": null,
            "align_items": null,
            "bottom": null,
            "_model_module": "@jupyter-widgets/base",
            "top": null,
            "grid_column": null,
            "overflow_y": null,
            "overflow_x": null,
            "grid_auto_flow": null,
            "grid_area": null,
            "grid_template_columns": null,
            "flex": null,
            "_model_name": "LayoutModel",
            "justify_items": null,
            "grid_row": null,
            "max_height": null,
            "align_content": null,
            "visibility": null,
            "align_self": null,
            "height": null,
            "min_height": null,
            "padding": null,
            "grid_auto_rows": null,
            "grid_gap": null,
            "max_width": null,
            "order": null,
            "_view_module_version": "1.2.0",
            "grid_template_areas": null,
            "object_position": null,
            "object_fit": null,
            "grid_auto_columns": null,
            "margin": null,
            "display": null,
            "left": null
          }
        },
        "6410b19a05f34e2bb8e0d7f68eae9475": {
          "model_module": "@jupyter-widgets/controls",
          "model_name": "HTMLModel",
          "model_module_version": "1.5.0",
          "state": {
            "_view_name": "HTMLView",
            "style": "IPY_MODEL_779ee281da864cd4ac14e2bceb29fe92",
            "_dom_classes": [],
            "description": "",
            "_model_name": "HTMLModel",
            "placeholder": "​",
            "_view_module": "@jupyter-widgets/controls",
            "_model_module_version": "1.5.0",
            "value": "",
            "_view_count": null,
            "_view_module_version": "1.5.0",
            "description_tooltip": null,
            "_model_module": "@jupyter-widgets/controls",
            "layout": "IPY_MODEL_fc650f370b6e4c4bb440a3955e931f68"
          }
        },
        "b849cfa49b744591b783bbda3dd27aa5": {
          "model_module": "@jupyter-widgets/controls",
          "model_name": "FloatProgressModel",
          "model_module_version": "1.5.0",
          "state": {
            "_view_name": "ProgressView",
            "style": "IPY_MODEL_3c0b7ba17fff44a688e7edbb62136d31",
            "_dom_classes": [],
            "description": "",
            "_model_name": "FloatProgressModel",
            "bar_style": "success",
            "max": 4542,
            "_view_module": "@jupyter-widgets/controls",
            "_model_module_version": "1.5.0",
            "value": 4542,
            "_view_count": null,
            "_view_module_version": "1.5.0",
            "orientation": "horizontal",
            "min": 0,
            "description_tooltip": null,
            "_model_module": "@jupyter-widgets/controls",
            "layout": "IPY_MODEL_8b63010aaf2c4a73956b0f7dabfec24f"
          }
        },
        "aef7dd23488347eba7450c13e19b3b1f": {
          "model_module": "@jupyter-widgets/controls",
          "model_name": "HTMLModel",
          "model_module_version": "1.5.0",
          "state": {
            "_view_name": "HTMLView",
            "style": "IPY_MODEL_71bf47fc1c56411fbacdc991a988c4b3",
            "_dom_classes": [],
            "description": "",
            "_model_name": "HTMLModel",
            "placeholder": "​",
            "_view_module": "@jupyter-widgets/controls",
            "_model_module_version": "1.5.0",
            "value": " 5120/? [00:00&lt;00:00, 189841.20it/s]",
            "_view_count": null,
            "_view_module_version": "1.5.0",
            "description_tooltip": null,
            "_model_module": "@jupyter-widgets/controls",
            "layout": "IPY_MODEL_9e75185253f94c148539b6c528c56a0e"
          }
        },
        "779ee281da864cd4ac14e2bceb29fe92": {
          "model_module": "@jupyter-widgets/controls",
          "model_name": "DescriptionStyleModel",
          "model_module_version": "1.5.0",
          "state": {
            "_view_name": "StyleView",
            "_model_name": "DescriptionStyleModel",
            "description_width": "",
            "_view_module": "@jupyter-widgets/base",
            "_model_module_version": "1.5.0",
            "_view_count": null,
            "_view_module_version": "1.2.0",
            "_model_module": "@jupyter-widgets/controls"
          }
        },
        "fc650f370b6e4c4bb440a3955e931f68": {
          "model_module": "@jupyter-widgets/base",
          "model_name": "LayoutModel",
          "model_module_version": "1.2.0",
          "state": {
            "_view_name": "LayoutView",
            "grid_template_rows": null,
            "right": null,
            "justify_content": null,
            "_view_module": "@jupyter-widgets/base",
            "overflow": null,
            "_model_module_version": "1.2.0",
            "_view_count": null,
            "flex_flow": null,
            "width": null,
            "min_width": null,
            "border": null,
            "align_items": null,
            "bottom": null,
            "_model_module": "@jupyter-widgets/base",
            "top": null,
            "grid_column": null,
            "overflow_y": null,
            "overflow_x": null,
            "grid_auto_flow": null,
            "grid_area": null,
            "grid_template_columns": null,
            "flex": null,
            "_model_name": "LayoutModel",
            "justify_items": null,
            "grid_row": null,
            "max_height": null,
            "align_content": null,
            "visibility": null,
            "align_self": null,
            "height": null,
            "min_height": null,
            "padding": null,
            "grid_auto_rows": null,
            "grid_gap": null,
            "max_width": null,
            "order": null,
            "_view_module_version": "1.2.0",
            "grid_template_areas": null,
            "object_position": null,
            "object_fit": null,
            "grid_auto_columns": null,
            "margin": null,
            "display": null,
            "left": null
          }
        },
        "3c0b7ba17fff44a688e7edbb62136d31": {
          "model_module": "@jupyter-widgets/controls",
          "model_name": "ProgressStyleModel",
          "model_module_version": "1.5.0",
          "state": {
            "_view_name": "StyleView",
            "_model_name": "ProgressStyleModel",
            "description_width": "",
            "_view_module": "@jupyter-widgets/base",
            "_model_module_version": "1.5.0",
            "_view_count": null,
            "_view_module_version": "1.2.0",
            "bar_color": null,
            "_model_module": "@jupyter-widgets/controls"
          }
        },
        "8b63010aaf2c4a73956b0f7dabfec24f": {
          "model_module": "@jupyter-widgets/base",
          "model_name": "LayoutModel",
          "model_module_version": "1.2.0",
          "state": {
            "_view_name": "LayoutView",
            "grid_template_rows": null,
            "right": null,
            "justify_content": null,
            "_view_module": "@jupyter-widgets/base",
            "overflow": null,
            "_model_module_version": "1.2.0",
            "_view_count": null,
            "flex_flow": null,
            "width": null,
            "min_width": null,
            "border": null,
            "align_items": null,
            "bottom": null,
            "_model_module": "@jupyter-widgets/base",
            "top": null,
            "grid_column": null,
            "overflow_y": null,
            "overflow_x": null,
            "grid_auto_flow": null,
            "grid_area": null,
            "grid_template_columns": null,
            "flex": null,
            "_model_name": "LayoutModel",
            "justify_items": null,
            "grid_row": null,
            "max_height": null,
            "align_content": null,
            "visibility": null,
            "align_self": null,
            "height": null,
            "min_height": null,
            "padding": null,
            "grid_auto_rows": null,
            "grid_gap": null,
            "max_width": null,
            "order": null,
            "_view_module_version": "1.2.0",
            "grid_template_areas": null,
            "object_position": null,
            "object_fit": null,
            "grid_auto_columns": null,
            "margin": null,
            "display": null,
            "left": null
          }
        },
        "71bf47fc1c56411fbacdc991a988c4b3": {
          "model_module": "@jupyter-widgets/controls",
          "model_name": "DescriptionStyleModel",
          "model_module_version": "1.5.0",
          "state": {
            "_view_name": "StyleView",
            "_model_name": "DescriptionStyleModel",
            "description_width": "",
            "_view_module": "@jupyter-widgets/base",
            "_model_module_version": "1.5.0",
            "_view_count": null,
            "_view_module_version": "1.2.0",
            "_model_module": "@jupyter-widgets/controls"
          }
        },
        "9e75185253f94c148539b6c528c56a0e": {
          "model_module": "@jupyter-widgets/base",
          "model_name": "LayoutModel",
          "model_module_version": "1.2.0",
          "state": {
            "_view_name": "LayoutView",
            "grid_template_rows": null,
            "right": null,
            "justify_content": null,
            "_view_module": "@jupyter-widgets/base",
            "overflow": null,
            "_model_module_version": "1.2.0",
            "_view_count": null,
            "flex_flow": null,
            "width": null,
            "min_width": null,
            "border": null,
            "align_items": null,
            "bottom": null,
            "_model_module": "@jupyter-widgets/base",
            "top": null,
            "grid_column": null,
            "overflow_y": null,
            "overflow_x": null,
            "grid_auto_flow": null,
            "grid_area": null,
            "grid_template_columns": null,
            "flex": null,
            "_model_name": "LayoutModel",
            "justify_items": null,
            "grid_row": null,
            "max_height": null,
            "align_content": null,
            "visibility": null,
            "align_self": null,
            "height": null,
            "min_height": null,
            "padding": null,
            "grid_auto_rows": null,
            "grid_gap": null,
            "max_width": null,
            "order": null,
            "_view_module_version": "1.2.0",
            "grid_template_areas": null,
            "object_position": null,
            "object_fit": null,
            "grid_auto_columns": null,
            "margin": null,
            "display": null,
            "left": null
          }
        }
      }
    },
    "accelerator": "GPU"
  },
  "cells": [
    {
      "cell_type": "markdown",
      "metadata": {
        "id": "view-in-github",
        "colab_type": "text"
      },
      "source": [
        "<a href=\"https://colab.research.google.com/github/software-artisan/tsai_end3/blob/main/session_2_5_pytorch_101/session_3_assignment_digit_recognition_addition.ipynb\" target=\"_parent\"><img src=\"https://colab.research.google.com/assets/colab-badge.svg\" alt=\"Open In Colab\"/></a>"
      ]
    },
    {
      "cell_type": "markdown",
      "metadata": {
        "id": "jelURTVrLCkl"
      },
      "source": [
        "# Handwritten digit Recognition and adder network\n",
        "\n"
      ]
    },
    {
      "cell_type": "code",
      "metadata": {
        "id": "fdlZYQeUquvJ",
        "colab": {
          "base_uri": "https://localhost:8080/"
        },
        "outputId": "1669a733-32be-4246-a62d-6a052292925e"
      },
      "source": [
        "from __future__ import print_function\n",
        "import torch\n",
        "import torch.nn as nn\n",
        "import torch.nn.functional as F\n",
        "import torch.optim as optim\n",
        "from torchvision import datasets, transforms\n",
        "\n",
        "print(f\"torch.__version__={torch.__version__}; torch.cuda.get_device_name()={torch.cuda.get_device_name()}; torch.cuda.get_device_properties('cuda:0')={torch.cuda.get_device_properties('cuda:0')}\" )"
      ],
      "execution_count": 8,
      "outputs": [
        {
          "output_type": "stream",
          "name": "stdout",
          "text": [
            "torch.__version__=1.9.0+cu111; torch.cuda.get_device_name()=Tesla P100-PCIE-16GB; torch.cuda.get_device_properties('cuda:0')=_CudaDeviceProperties(name='Tesla P100-PCIE-16GB', major=6, minor=0, total_memory=16280MB, multi_processor_count=56)\n"
          ]
        }
      ]
    },
    {
      "cell_type": "code",
      "metadata": {
        "id": "h7utJRVXv7uX"
      },
      "source": [
        "once = True\n",
        "\n",
        "# this class defines the CNN or convulational neural network\n",
        "class Net(nn.Module):\n",
        "    def __init__(self):\n",
        "        super(Net, self).__init__()\n",
        "        # shown below are the definitions of the layers of the network\n",
        "\n",
        "        # input = 28x28x1 | kernels = (3x3x1)x8 | output = 28x28x8  | RF = 3x3\n",
        "        self.conv1 = nn.Conv2d(in_channels=1, out_channels=8, kernel_size=3, padding=1) #input -? OUtput? RF\n",
        "        \n",
        "        # input = 28x28x8 (padding=1) | kernels = (3x3x32)x16 | output = 28x28x16 | RF = 5x5\n",
        "        self.conv2 = nn.Conv2d(in_channels=8, out_channels=16, kernel_size=3, padding=1)\n",
        "        \n",
        "        # input = 28x28x16 | maxpool = 2x2 | output = 14x14x16 | RF = 10x10\n",
        "        self.pool1 = nn.MaxPool2d(kernel_size=2, stride=2)\n",
        "        \n",
        "        # input = 14x14x16 (padding=1) | kernels = (3x3x64)16 | output = 14x14x16 | RF = 12x12\n",
        "        self.conv3 = nn.Conv2d(in_channels=16, out_channels=16, kernel_size=3, padding=1)\n",
        "        \n",
        "        # input = 14x14x16 (padding=1) | kernels = (3x3x128)x16 | output = 14x14x16 | RF = 14x14\n",
        "        self.conv4 = nn.Conv2d(in_channels=16, out_channels=16, kernel_size=3, padding=1)\n",
        "        \n",
        "        # input = 14x14x16 | maxpool = 2x2 | output = 7x7x16 | RF = 28x28\n",
        "        self.pool2 = nn.MaxPool2d(kernel_size=2, stride=2)\n",
        "        \n",
        "        # # input = 7x7x64 | kernel = (3x3x256)x128 | output = 5x5x128 | RF=30x30\n",
        "        # self.conv5 = nn.Conv2d(in_channels=16, out_channels=16, kernel_size=3)\n",
        "        \n",
        "        # # input = 5x5x128 | kernel = (3x3x512)x256 | output = 3x3x256 | RF=32x32\n",
        "        # self.conv6 = nn.Conv2d(in_channels=16, out_channels=16, kernel_size=3)\n",
        "        \n",
        "        # # input = 3x3x256 | kernel = (3x3x1024)x10 | output = 1x1x10 | RF=34x34\n",
        "        # self.conv7 = nn.Conv2d(in_channels=16, out_channels=10, kernel_size=3)\n",
        "\n",
        "        # input = 794 | output = 30 \n",
        "        self.fc1 = nn.Linear(in_features=7*7*16 + 10, out_features=30)\n",
        "        # input = 30 | output = 30\n",
        "        self.fc2 = nn.Linear(in_features=30, out_features=30)\n",
        "\n",
        "        # this is the output layer for mnist\n",
        "        # input = 30 | output = 10\n",
        "        self.out_mnist = nn.Linear(in_features=30, out_features=10)\n",
        "\n",
        "        # this is the output layer for the adder\n",
        "        # input=30 | output=19 (max sum of two digits=18)\n",
        "        self.out_adder = nn.Linear(in_features=30, out_features=19)\n",
        "\n",
        "    def forward(self, mnist, num):\n",
        "        global once\n",
        "\n",
        "        # seems to define the forward propogation of the neural network\n",
        "        mnist = self.pool1(F.relu(self.conv2(F.relu(self.conv1(mnist)))))\n",
        "        mnist = self.pool2(F.relu(self.conv4(F.relu(self.conv3(mnist)))))\n",
        "\n",
        "        # x = F.relu(self.conv6(F.relu(self.conv5(x))))\n",
        "        # #x = F.relu(self.conv7(x))\n",
        "        # x = self.conv7(x)\n",
        "        # x = x.view(-1, 10)\n",
        "        # return F.log_softmax(x)\n",
        "\n",
        "        #if once: print(f\"mnist.shape after maxpool2={mnist.shape}\")\n",
        "        mnist = mnist.reshape(-1, 7*7*16)\n",
        "        # Concatenating one hot encoding of input2 digit to FC layer\n",
        "        mnist_and_num = torch.cat((mnist, num), dim=1) \n",
        "        #if once: print(f\"mnist_and_num.shape after torch.cat()={mnist_and_num.shape}\")\n",
        "        # hidden fc1 linear layer\n",
        "        mnist_and_num = F.relu(self.fc1(mnist_and_num))\n",
        "\n",
        "        # hidden fc2 linear layer\n",
        "        mnist_and_num = F.relu(self.fc2(mnist_and_num))\n",
        "\n",
        "        # output linear layer\n",
        "        mnist = self.out_mnist(mnist_and_num)\n",
        "        mnist_num_sum = self.out_adder(mnist_and_num)\n",
        "\n",
        "        return F.log_softmax(mnist), F.log_softmax(mnist_num_sum)\n",
        "        #return mnist, mnist_num_sum"
      ],
      "execution_count": 3,
      "outputs": []
    },
    {
      "cell_type": "code",
      "metadata": {
        "colab": {
          "base_uri": "https://localhost:8080/"
        },
        "id": "ZkepUAjwwQy7",
        "outputId": "dbfe6bb6-7e53-4c25-cea6-92210a8003fe"
      },
      "source": [
        "!pip install torchsummary\n",
        "from torchsummary import summary\n",
        "use_cuda = torch.cuda.is_available()\n",
        "device = torch.device(\"cuda\" if use_cuda else \"cpu\")\n",
        "model = Net().to(device)\n",
        "# print a summary of the model for an input of size 28x28x1 (l x w xchannels)\n",
        "#summary(model, input_size=[(1, 28, 28),(1,10)])\n",
        "print(model)"
      ],
      "execution_count": 4,
      "outputs": [
        {
          "output_type": "stream",
          "name": "stdout",
          "text": [
            "Requirement already satisfied: torchsummary in /usr/local/lib/python3.7/dist-packages (1.5.1)\n",
            "Net(\n",
            "  (conv1): Conv2d(1, 8, kernel_size=(3, 3), stride=(1, 1), padding=(1, 1))\n",
            "  (conv2): Conv2d(8, 16, kernel_size=(3, 3), stride=(1, 1), padding=(1, 1))\n",
            "  (pool1): MaxPool2d(kernel_size=2, stride=2, padding=0, dilation=1, ceil_mode=False)\n",
            "  (conv3): Conv2d(16, 16, kernel_size=(3, 3), stride=(1, 1), padding=(1, 1))\n",
            "  (conv4): Conv2d(16, 16, kernel_size=(3, 3), stride=(1, 1), padding=(1, 1))\n",
            "  (pool2): MaxPool2d(kernel_size=2, stride=2, padding=0, dilation=1, ceil_mode=False)\n",
            "  (fc1): Linear(in_features=794, out_features=30, bias=True)\n",
            "  (fc2): Linear(in_features=30, out_features=30, bias=True)\n",
            "  (out_mnist): Linear(in_features=30, out_features=10, bias=True)\n",
            "  (out_adder): Linear(in_features=30, out_features=19, bias=True)\n",
            ")\n"
          ]
        }
      ]
    },
    {
      "cell_type": "code",
      "metadata": {
        "id": "CPjIspYjwSNG",
        "colab": {
          "base_uri": "https://localhost:8080/",
          "height": 471,
          "referenced_widgets": [
            "bed9ba24432d48eba69bb5d3220d8e3c",
            "0cef791efa484d19afcbf89ada911234",
            "a8531764dc9d44aeaa79428fef758cab",
            "c0f798405a194acb9fe9b5fac4050865",
            "e47d5b1158a641eb94a7b96cde69750f",
            "f16479a3ba3d4d4e899fa85e32795eeb",
            "7967be6f7d914febae1c2362c10d34bc",
            "31b2d648b1f641a08bfcf5959d3c87c4",
            "563128b456514e2c9139e0c1b011ecb9",
            "9a2357ff69194b439fe4ccf9c50c40f4",
            "0bb2f8b8f8e541ff86a1ba514f376c99",
            "94e6365057ae43b5a0c6c9810e527f66",
            "6140c510eb0e4445b32a540f64200457",
            "dc99739ffe42498f90d7145f6b0c4d7c",
            "82620559265c48fdbfcbf3b78c9c9221",
            "5cb688fee82348c2ad460bb9b0f2442a",
            "d1309dc133de431fbf236e586c18c248",
            "8f9751e21d7a4805bd973709d53e08d3",
            "ba545a749b99405aaabf201d82136323",
            "de5cc3c684bf4b88acf75b47a02cf3e6",
            "22397816801f465b82704a364c883527",
            "3fed00c669194aa6a4812cc5602c06b1",
            "800b18c7c5734caf8163c0d61f18b7bb",
            "10a2469b781045c6b38e9b2e8c1038a8",
            "6eeebdf972fb4fc0b60441d2cb2390f0",
            "18c57bc3b84849acbe5a41eb3cf8b70a",
            "cc30c02892e64b93b573a8907050079d",
            "c65a5e4ffa084bb7beda7ea46575a49d",
            "0e4be59974294b50b8da977b96527c29",
            "adff8c3f6ad540d0999806000abd546f",
            "da6ca6c9aaa64abdaae36ad179b809e7",
            "35af19da90a14c24bb6363bf5d5789b0",
            "9e577cf3b5d7433687796fedd1e8951b",
            "ffd38596554447c6a6d148006edbfd8e",
            "4eed241e62ca4fab823cb94caf6a607f",
            "6410b19a05f34e2bb8e0d7f68eae9475",
            "b849cfa49b744591b783bbda3dd27aa5",
            "aef7dd23488347eba7450c13e19b3b1f",
            "779ee281da864cd4ac14e2bceb29fe92",
            "fc650f370b6e4c4bb440a3955e931f68",
            "3c0b7ba17fff44a688e7edbb62136d31",
            "8b63010aaf2c4a73956b0f7dabfec24f",
            "71bf47fc1c56411fbacdc991a988c4b3",
            "9e75185253f94c148539b6c528c56a0e"
          ]
        },
        "outputId": "e057e4e7-96ca-40b5-efed-02e69ca5dd8f"
      },
      "source": [
        "\n",
        "torch.manual_seed(1)\n",
        "batch_size = 1000\n",
        "\n",
        "kwargs = {'num_workers': 1, 'pin_memory': True} if use_cuda else {}\n",
        "# data loader for training ???.  download=True means download the dataset (training images and labels for images) if the dataset wasn't downloaded already\n",
        "train_loader = torch.utils.data.DataLoader(\n",
        "    datasets.MNIST('../data', train=True, download=True,\n",
        "                    transform=transforms.Compose([\n",
        "                        transforms.ToTensor(),\n",
        "                        transforms.Normalize((0.1307,), (0.3081,))  # need to understand why we normalize?  even without normalization, accuracy was still 97%\n",
        "                    ])),\n",
        "    batch_size=batch_size, shuffle=True, **kwargs)\n",
        "# data loader for testing???  download=True means download the dataset (training images and labels for images) if the dataset wasn't downloaded already\n",
        "test_loader = torch.utils.data.DataLoader(\n",
        "    datasets.MNIST('../data', train=False, transform=transforms.Compose([\n",
        "                        transforms.ToTensor(),\n",
        "                        transforms.Normalize((0.1307,), (0.3081,))\n",
        "                    ])),\n",
        "    batch_size=batch_size, shuffle=True, **kwargs)\n"
      ],
      "execution_count": 5,
      "outputs": [
        {
          "output_type": "stream",
          "name": "stdout",
          "text": [
            "Downloading http://yann.lecun.com/exdb/mnist/train-images-idx3-ubyte.gz\n",
            "Downloading http://yann.lecun.com/exdb/mnist/train-images-idx3-ubyte.gz to ../data/MNIST/raw/train-images-idx3-ubyte.gz\n"
          ]
        },
        {
          "output_type": "display_data",
          "data": {
            "application/vnd.jupyter.widget-view+json": {
              "model_id": "bed9ba24432d48eba69bb5d3220d8e3c",
              "version_minor": 0,
              "version_major": 2
            },
            "text/plain": [
              "  0%|          | 0/9912422 [00:00<?, ?it/s]"
            ]
          },
          "metadata": {}
        },
        {
          "output_type": "stream",
          "name": "stdout",
          "text": [
            "Extracting ../data/MNIST/raw/train-images-idx3-ubyte.gz to ../data/MNIST/raw\n",
            "\n",
            "Downloading http://yann.lecun.com/exdb/mnist/train-labels-idx1-ubyte.gz\n",
            "Downloading http://yann.lecun.com/exdb/mnist/train-labels-idx1-ubyte.gz to ../data/MNIST/raw/train-labels-idx1-ubyte.gz\n"
          ]
        },
        {
          "output_type": "display_data",
          "data": {
            "application/vnd.jupyter.widget-view+json": {
              "model_id": "94e6365057ae43b5a0c6c9810e527f66",
              "version_minor": 0,
              "version_major": 2
            },
            "text/plain": [
              "  0%|          | 0/28881 [00:00<?, ?it/s]"
            ]
          },
          "metadata": {}
        },
        {
          "output_type": "stream",
          "name": "stdout",
          "text": [
            "Extracting ../data/MNIST/raw/train-labels-idx1-ubyte.gz to ../data/MNIST/raw\n",
            "\n",
            "Downloading http://yann.lecun.com/exdb/mnist/t10k-images-idx3-ubyte.gz\n",
            "Downloading http://yann.lecun.com/exdb/mnist/t10k-images-idx3-ubyte.gz to ../data/MNIST/raw/t10k-images-idx3-ubyte.gz\n"
          ]
        },
        {
          "output_type": "display_data",
          "data": {
            "application/vnd.jupyter.widget-view+json": {
              "model_id": "800b18c7c5734caf8163c0d61f18b7bb",
              "version_minor": 0,
              "version_major": 2
            },
            "text/plain": [
              "  0%|          | 0/1648877 [00:00<?, ?it/s]"
            ]
          },
          "metadata": {}
        },
        {
          "output_type": "stream",
          "name": "stdout",
          "text": [
            "Extracting ../data/MNIST/raw/t10k-images-idx3-ubyte.gz to ../data/MNIST/raw\n",
            "\n",
            "Downloading http://yann.lecun.com/exdb/mnist/t10k-labels-idx1-ubyte.gz\n",
            "Downloading http://yann.lecun.com/exdb/mnist/t10k-labels-idx1-ubyte.gz to ../data/MNIST/raw/t10k-labels-idx1-ubyte.gz\n"
          ]
        },
        {
          "output_type": "display_data",
          "data": {
            "application/vnd.jupyter.widget-view+json": {
              "model_id": "ffd38596554447c6a6d148006edbfd8e",
              "version_minor": 0,
              "version_major": 2
            },
            "text/plain": [
              "  0%|          | 0/4542 [00:00<?, ?it/s]"
            ]
          },
          "metadata": {}
        },
        {
          "output_type": "stream",
          "name": "stdout",
          "text": [
            "Extracting ../data/MNIST/raw/t10k-labels-idx1-ubyte.gz to ../data/MNIST/raw\n",
            "\n"
          ]
        },
        {
          "output_type": "stream",
          "name": "stderr",
          "text": [
            "/usr/local/lib/python3.7/dist-packages/torchvision/datasets/mnist.py:498: UserWarning: The given NumPy array is not writeable, and PyTorch does not support non-writeable tensors. This means you can write to the underlying (supposedly non-writeable) NumPy array using the tensor. You may want to copy the array to protect its data or make it writeable before converting it to a tensor. This type of warning will be suppressed for the rest of this program. (Triggered internally at  /pytorch/torch/csrc/utils/tensor_numpy.cpp:180.)\n",
            "  return torch.from_numpy(parsed.astype(m[2], copy=False)).view(*s)\n"
          ]
        }
      ]
    },
    {
      "cell_type": "code",
      "metadata": {
        "id": "TASiRqwAwazW"
      },
      "source": [
        "# Decorate an iterable object, returning an iterator which acts exactly like the original iterable, but prints a dynamically updating progressbar every time a value is requested.\n",
        "from tqdm import tqdm\n",
        "import IPython.core.debugger\n",
        "\n",
        "# this is the function that trains the specified 'model' using the 'train_loader', optimizer and others\n",
        "def train(model, device, train_loader, optimizer, epoch):\n",
        "    model.train()\n",
        "    pbar = tqdm(train_loader)\n",
        "    epoch_loss = 0; epoch_correct = 0; epoch_adder_loss=0; epoch_sum_correct = 0; epoch_mnist_loss=0; epoch_mnist_correct=0\n",
        "    for batch_idx, (data, target) in enumerate(pbar):  # target is the 'label' for this image..\n",
        "        data, target = data.to(device), target.to(device)\n",
        "\n",
        "        # generate random ints\n",
        "        # Returns a tensor filled with random integers generated uniformly between low (inclusive) and high (exclusive).\n",
        "        rand_digits = torch.randint(low=0, high=10, size=(batch_size,)) # batch_size rand ints\n",
        "        # Takes LongTensor with index values of shape (*) and returns a tensor of shape (*, num_classes) that have zeros everywhere except where the index of last dimension matches the corresponding value of the input tensor, in which case it will be 1.\n",
        "        rand_digits_one = F.one_hot(rand_digits, num_classes=10) # one hot encoding\n",
        "        rand_digits_one = rand_digits_one.to(device)\n",
        "        rand_digits = rand_digits.to(device)        \n",
        "\n",
        "        optimizer.zero_grad()  # for each batch, zero the gradient (from processing of prior batch)\n",
        "        \n",
        "        output, summation = model(data, rand_digits_one)   # predict using the model for the given data (batch); for each batch, output.shape=torch.Size([128, 10]); for last batch it is output.shape=torch.Size([96, 10])\n",
        "        \n",
        "        #if (batch_idx in (0, 468)): \n",
        "        #  print(f\"\\noutput.shape={output.shape}; prediction for first image in batch: output[0]={output[0]}\")  #print 'output' from 1st and last\n",
        "        \n",
        "        # The negative log likelihood loss.  The negative log likelihood loss. It is useful to train a classification problem with C classes. \n",
        "        # https://pytorch.org/docs/master/generated/torch.nn.functional.nll_loss.html\n",
        "        mnist_loss = F.nll_loss(output, target)  # compute the loss\n",
        "        adder_loss = F.nll_loss(summation, rand_digits + target) # Calculate Loss\n",
        "        #mnist_loss = F.cross_entropy(output, target)  # compute the loss\n",
        "        #adder_loss = F.cross_entropy(summation, rand_digits + target) # Calculate Loss\n",
        "\n",
        "        loss = mnist_loss + adder_loss\n",
        "\n",
        "        loss.backward()   # do backward propogation; update gradients of tensors in dynamic computation graph, starting from 'loss' node in the graph..\n",
        "        \n",
        "        optimizer.step()  # use the updated gradients to adjust the weight of each kernel\n",
        "        \n",
        "        pred_mnist = output.argmax(dim=1, keepdim=True)  # get the index of the max log-probability using argmax(); this index represents the predicted digit\n",
        "        #  get the correct number of predictions for this batch\n",
        "        mnist_correct = pred_mnist.eq(target.view_as(pred_mnist)).sum().item()   # tensor.eq() method: computes if one element of a tensor is equal to the corresponding element of another tensor;\n",
        "\n",
        "        pred_sum = summation.argmax(dim=1, keepdim=True) # get the index of the max log-probability using argmax(); this index represents the sum of the two numbers\n",
        "        sum_correct = pred_sum.eq((rand_digits + target).view_as(pred_sum)).sum().item()   # tensor.eq() method: computes if one element of a tensor is equal to the corresponding element of another tensor;  \n",
        "        #IPython.core.debugger.set_trace()\n",
        "\n",
        "        epoch_mnist_loss += mnist_loss\n",
        "        epoch_mnist_correct += mnist_correct\n",
        "        epoch_adder_loss += adder_loss\n",
        "        epoch_sum_correct += sum_correct\n",
        "\n",
        "        pbar.set_description(desc= f'Training phase: batch_id={batch_idx}; total loss={loss.item()}; mnist loss={mnist_loss.item()}; adder loss={adder_loss.item()}; epoch_mnist_correct={epoch_mnist_correct}/{len(train_loader.dataset)}; epoch_sum_correct={epoch_sum_correct}/{len(train_loader.dataset)}')\n",
        "\n",
        "    print(f'Training set: Average mnist loss: {epoch_mnist_loss/len(train_loader.dataset):.4f}; mnist Accuracy: {epoch_mnist_correct}/{len(train_loader.dataset)}   {100. * epoch_mnist_correct / len(train_loader.dataset):.4f}%; adder Accuracy: {epoch_sum_correct}/{len(train_loader.dataset)}   {100. * epoch_sum_correct / len(train_loader.dataset):.4f}%')\n",
        "\n",
        "# this functions tests the trained model 'model' by comparing the predictions done by the trained model with the label for the image in the test data\n",
        "def test(model, device, test_loader):\n",
        "    model.eval()\n",
        "    test_loss = 0; test_sum_loss = 0\n",
        "    correct = 0; sum_correct = 0\n",
        "    pbar = tqdm(test_loader)\n",
        "    with torch.no_grad():   # during testing/inferencing, backprop is not needed; so disable autograd.\n",
        "        for data, target in pbar:   # target is the 'label' for this image..\n",
        "            data, target = data.to(device), target.to(device)\n",
        "\n",
        "            # generate random ints\n",
        "            # Returns a tensor filled with random integers generated uniformly between low (inclusive) and high (exclusive).\n",
        "            rand_digits = torch.randint(low=0, high=10, size=(batch_size,)) # batch_size rand ints\n",
        "            # Takes LongTensor with index values of shape (*) and returns a tensor of shape (*, num_classes) that have zeros everywhere except where the index of last dimension matches the corresponding value of the input tensor, in which case it will be 1.\n",
        "            rand_digits_one = F.one_hot(rand_digits, num_classes=10) # one hot encoding\n",
        "            rand_digits_one = rand_digits_one.to(device)\n",
        "            rand_digits = rand_digits.to(device)        \n",
        "\n",
        "            output, summation = model(data, rand_digits_one)   # make the prediction for the given test data\n",
        "            \n",
        "            test_loss += F.nll_loss(output, target, reduction='sum').item()  # sum up batch loss\n",
        "            test_sum_loss += F.nll_loss(summation, rand_digits + target, reduction='sum').item()\n",
        "\n",
        "            pred = output.argmax(dim=1, keepdim=True)  # get the index of the max log-probability using argmax(); this index represents the predicted digit\n",
        "            pred_sum = summation.argmax(dim=1, keepdim=True)  # get the index of the max log-probability using argmax(); this index represents the predicted digit\n",
        "\n",
        "            #  get the correct number of predictions for this batch\n",
        "            correct += pred.eq(target.view_as(pred)).sum().item()   # tensor.eq() method: computes if one element of a tensor is equal to the corresponding element of another tensor;\n",
        "            sum_correct += pred_sum.eq((rand_digits + target).view_as(pred_sum)).sum().item()   # tensor.eq() method: computes if one element of a tensor is equal to the corresponding element of another tensor;  \n",
        "\n",
        "            pbar.set_description(desc=f'Testing phase: total_test_loss={test_loss + test_sum_loss}; total_correct={correct}/{len(test_loader.dataset)}; total_sum_correct={sum_correct}/{len(test_loader.dataset)}')\n",
        "\n",
        "    test_loss /= len(test_loader.dataset)\n",
        "\n",
        "    print('Test set: Average loss: {:.4f}, Accuracy: {}/{} ({:.0f}%)\\n'.format(\n",
        "        test_loss, correct, len(test_loader.dataset),\n",
        "        100. * correct / len(test_loader.dataset)))"
      ],
      "execution_count": 6,
      "outputs": []
    },
    {
      "cell_type": "code",
      "metadata": {
        "id": "HQfJu3S2weZ2",
        "colab": {
          "base_uri": "https://localhost:8080/"
        },
        "outputId": "b4fc5658-cfca-4c8c-9e11-866f215c9a76"
      },
      "source": [
        "\n",
        "model = Net().to(device)\n",
        "optimizer = optim.SGD(model.parameters(), lr=0.01, momentum=0.9)\n",
        "#optimizer = optim.Adam(model.parameters(), lr=0.005)\n",
        "\n",
        "\n",
        "once=True\n",
        "for epoch in range(50):\n",
        "    print(f\"Epoch: {epoch+1}\" )\n",
        "    train(model, device, train_loader, optimizer, epoch)\n",
        "    test(model, device, test_loader)\n",
        "    once=False\n"
      ],
      "execution_count": 7,
      "outputs": [
        {
          "output_type": "stream",
          "name": "stdout",
          "text": [
            "Epoch: 1\n"
          ]
        },
        {
          "output_type": "stream",
          "name": "stderr",
          "text": [
            "  0%|          | 0/60 [00:00<?, ?it/s]/usr/local/lib/python3.7/dist-packages/torch/nn/functional.py:718: UserWarning: Named tensors and all their associated APIs are an experimental feature and subject to change. Please do not use them for anything important until they are released as stable. (Triggered internally at  /pytorch/c10/core/TensorImpl.h:1156.)\n",
            "  return torch.max_pool2d(input, kernel_size, stride, padding, dilation, ceil_mode)\n",
            "/usr/local/lib/python3.7/dist-packages/ipykernel_launcher.py:77: UserWarning: Implicit dimension choice for log_softmax has been deprecated. Change the call to include dim=X as an argument.\n",
            "Training phase: batch_id=59; total loss=5.184051036834717; mnist loss=2.2986719608306885; adder loss=2.8853790760040283; epoch_mnist_correct=5840/60000; epoch_sum_correct=4116/60000: 100%|██████████| 60/60 [00:09<00:00,  6.38it/s]\n"
          ]
        },
        {
          "output_type": "stream",
          "name": "stdout",
          "text": [
            "Training set: Average mnist loss: 0.0023; mnist Accuracy: 5840/60000   9.7333%; adder Accuracy: 4116/60000   6.8600%\n"
          ]
        },
        {
          "output_type": "stream",
          "name": "stderr",
          "text": [
            "Testing phase: total_test_loss=51830.55810546875; total_correct=958/10000; total_sum_correct=643/10000: 100%|██████████| 10/10 [00:01<00:00,  7.06it/s]\n"
          ]
        },
        {
          "output_type": "stream",
          "name": "stdout",
          "text": [
            "Test set: Average loss: 2.3015, Accuracy: 958/10000 (10%)\n",
            "\n",
            "Epoch: 2\n"
          ]
        },
        {
          "output_type": "stream",
          "name": "stderr",
          "text": [
            "Training phase: batch_id=59; total loss=4.909124374389648; mnist loss=2.118312358856201; adder loss=2.7908122539520264; epoch_mnist_correct=9742/60000; epoch_sum_correct=5751/60000: 100%|██████████| 60/60 [00:08<00:00,  6.82it/s]\n"
          ]
        },
        {
          "output_type": "stream",
          "name": "stdout",
          "text": [
            "Training set: Average mnist loss: 0.0023; mnist Accuracy: 9742/60000   16.2367%; adder Accuracy: 5751/60000   9.5850%\n"
          ]
        },
        {
          "output_type": "stream",
          "name": "stderr",
          "text": [
            "Testing phase: total_test_loss=49033.707763671875; total_correct=4510/10000; total_sum_correct=913/10000: 100%|██████████| 10/10 [00:01<00:00,  6.98it/s]\n"
          ]
        },
        {
          "output_type": "stream",
          "name": "stdout",
          "text": [
            "Test set: Average loss: 2.0894, Accuracy: 4510/10000 (45%)\n",
            "\n",
            "Epoch: 3\n"
          ]
        },
        {
          "output_type": "stream",
          "name": "stderr",
          "text": [
            "Training phase: batch_id=59; total loss=3.1585566997528076; mnist loss=0.5051405429840088; adder loss=2.653416156768799; epoch_mnist_correct=41355/60000; epoch_sum_correct=5587/60000: 100%|██████████| 60/60 [00:08<00:00,  7.20it/s]\n"
          ]
        },
        {
          "output_type": "stream",
          "name": "stdout",
          "text": [
            "Training set: Average mnist loss: 0.0010; mnist Accuracy: 41355/60000   68.9250%; adder Accuracy: 5587/60000   9.3117%\n"
          ]
        },
        {
          "output_type": "stream",
          "name": "stderr",
          "text": [
            "Testing phase: total_test_loss=31135.207458496094; total_correct=8446/10000; total_sum_correct=999/10000: 100%|██████████| 10/10 [00:01<00:00,  6.33it/s]\n"
          ]
        },
        {
          "output_type": "stream",
          "name": "stdout",
          "text": [
            "Test set: Average loss: 0.4964, Accuracy: 8446/10000 (84%)\n",
            "\n",
            "Epoch: 4\n"
          ]
        },
        {
          "output_type": "stream",
          "name": "stderr",
          "text": [
            "Training phase: batch_id=59; total loss=2.8121931552886963; mnist loss=0.29162830114364624; adder loss=2.5205647945404053; epoch_mnist_correct=52869/60000; epoch_sum_correct=5987/60000: 100%|██████████| 60/60 [00:08<00:00,  6.93it/s]\n"
          ]
        },
        {
          "output_type": "stream",
          "name": "stdout",
          "text": [
            "Training set: Average mnist loss: 0.0004; mnist Accuracy: 52869/60000   88.1150%; adder Accuracy: 5987/60000   9.9783%\n"
          ]
        },
        {
          "output_type": "stream",
          "name": "stderr",
          "text": [
            "Testing phase: total_test_loss=27879.850021362305; total_correct=9142/10000; total_sum_correct=984/10000: 100%|██████████| 10/10 [00:01<00:00,  6.64it/s]\n"
          ]
        },
        {
          "output_type": "stream",
          "name": "stdout",
          "text": [
            "Test set: Average loss: 0.2802, Accuracy: 9142/10000 (91%)\n",
            "\n",
            "Epoch: 5\n"
          ]
        },
        {
          "output_type": "stream",
          "name": "stderr",
          "text": [
            "Training phase: batch_id=59; total loss=2.6676766872406006; mnist loss=0.18400458991527557; adder loss=2.4836721420288086; epoch_mnist_correct=55608/60000; epoch_sum_correct=6110/60000: 100%|██████████| 60/60 [00:08<00:00,  6.85it/s]\n"
          ]
        },
        {
          "output_type": "stream",
          "name": "stdout",
          "text": [
            "Training set: Average mnist loss: 0.0002; mnist Accuracy: 55608/60000   92.6800%; adder Accuracy: 6110/60000   10.1833%\n"
          ]
        },
        {
          "output_type": "stream",
          "name": "stderr",
          "text": [
            "Testing phase: total_test_loss=26510.64826965332; total_correct=9419/10000; total_sum_correct=1034/10000: 100%|██████████| 10/10 [00:01<00:00,  7.22it/s]\n"
          ]
        },
        {
          "output_type": "stream",
          "name": "stdout",
          "text": [
            "Test set: Average loss: 0.1885, Accuracy: 9419/10000 (94%)\n",
            "\n",
            "Epoch: 6\n"
          ]
        },
        {
          "output_type": "stream",
          "name": "stderr",
          "text": [
            "Training phase: batch_id=59; total loss=2.548738479614258; mnist loss=0.13324137032032013; adder loss=2.415497064590454; epoch_mnist_correct=57015/60000; epoch_sum_correct=6174/60000: 100%|██████████| 60/60 [00:08<00:00,  7.07it/s]\n"
          ]
        },
        {
          "output_type": "stream",
          "name": "stdout",
          "text": [
            "Training set: Average mnist loss: 0.0002; mnist Accuracy: 57015/60000   95.0250%; adder Accuracy: 6174/60000   10.2900%\n"
          ]
        },
        {
          "output_type": "stream",
          "name": "stderr",
          "text": [
            "Testing phase: total_test_loss=25713.395263671875; total_correct=9591/10000; total_sum_correct=951/10000: 100%|██████████| 10/10 [00:01<00:00,  6.89it/s]\n"
          ]
        },
        {
          "output_type": "stream",
          "name": "stdout",
          "text": [
            "Test set: Average loss: 0.1313, Accuracy: 9591/10000 (96%)\n",
            "\n",
            "Epoch: 7\n"
          ]
        },
        {
          "output_type": "stream",
          "name": "stderr",
          "text": [
            "Training phase: batch_id=59; total loss=2.552345037460327; mnist loss=0.14514869451522827; adder loss=2.407196283340454; epoch_mnist_correct=57676/60000; epoch_sum_correct=6084/60000: 100%|██████████| 60/60 [00:08<00:00,  6.99it/s]\n"
          ]
        },
        {
          "output_type": "stream",
          "name": "stdout",
          "text": [
            "Training set: Average mnist loss: 0.0001; mnist Accuracy: 57676/60000   96.1267%; adder Accuracy: 6084/60000   10.1400%\n"
          ]
        },
        {
          "output_type": "stream",
          "name": "stderr",
          "text": [
            "Testing phase: total_test_loss=25153.94937133789; total_correct=9674/10000; total_sum_correct=1062/10000: 100%|██████████| 10/10 [00:01<00:00,  7.04it/s]\n"
          ]
        },
        {
          "output_type": "stream",
          "name": "stdout",
          "text": [
            "Test set: Average loss: 0.1061, Accuracy: 9674/10000 (97%)\n",
            "\n",
            "Epoch: 8\n"
          ]
        },
        {
          "output_type": "stream",
          "name": "stderr",
          "text": [
            "Training phase: batch_id=59; total loss=2.5123655796051025; mnist loss=0.10951539874076843; adder loss=2.4028501510620117; epoch_mnist_correct=58067/60000; epoch_sum_correct=6289/60000: 100%|██████████| 60/60 [00:09<00:00,  6.43it/s]\n"
          ]
        },
        {
          "output_type": "stream",
          "name": "stdout",
          "text": [
            "Training set: Average mnist loss: 0.0001; mnist Accuracy: 58067/60000   96.7783%; adder Accuracy: 6289/60000   10.4817%\n"
          ]
        },
        {
          "output_type": "stream",
          "name": "stderr",
          "text": [
            "Testing phase: total_test_loss=24881.404579162598; total_correct=9736/10000; total_sum_correct=1072/10000: 100%|██████████| 10/10 [00:01<00:00,  6.34it/s]\n"
          ]
        },
        {
          "output_type": "stream",
          "name": "stdout",
          "text": [
            "Test set: Average loss: 0.0865, Accuracy: 9736/10000 (97%)\n",
            "\n",
            "Epoch: 9\n"
          ]
        },
        {
          "output_type": "stream",
          "name": "stderr",
          "text": [
            "Training phase: batch_id=59; total loss=2.497952461242676; mnist loss=0.0977812111377716; adder loss=2.4001712799072266; epoch_mnist_correct=58322/60000; epoch_sum_correct=6244/60000: 100%|██████████| 60/60 [00:09<00:00,  6.54it/s]\n"
          ]
        },
        {
          "output_type": "stream",
          "name": "stdout",
          "text": [
            "Training set: Average mnist loss: 0.0001; mnist Accuracy: 58322/60000   97.2033%; adder Accuracy: 6244/60000   10.4067%\n"
          ]
        },
        {
          "output_type": "stream",
          "name": "stderr",
          "text": [
            "Testing phase: total_test_loss=24678.670978546143; total_correct=9782/10000; total_sum_correct=1099/10000: 100%|██████████| 10/10 [00:01<00:00,  6.16it/s]\n"
          ]
        },
        {
          "output_type": "stream",
          "name": "stdout",
          "text": [
            "Test set: Average loss: 0.0760, Accuracy: 9782/10000 (98%)\n",
            "\n",
            "Epoch: 10\n"
          ]
        },
        {
          "output_type": "stream",
          "name": "stderr",
          "text": [
            "Training phase: batch_id=59; total loss=2.409794330596924; mnist loss=0.0648408830165863; adder loss=2.3449535369873047; epoch_mnist_correct=58433/60000; epoch_sum_correct=6544/60000: 100%|██████████| 60/60 [00:08<00:00,  6.72it/s]\n"
          ]
        },
        {
          "output_type": "stream",
          "name": "stdout",
          "text": [
            "Training set: Average mnist loss: 0.0001; mnist Accuracy: 58433/60000   97.3883%; adder Accuracy: 6544/60000   10.9067%\n"
          ]
        },
        {
          "output_type": "stream",
          "name": "stderr",
          "text": [
            "Testing phase: total_test_loss=24460.80100631714; total_correct=9779/10000; total_sum_correct=1050/10000: 100%|██████████| 10/10 [00:01<00:00,  6.68it/s]\n"
          ]
        },
        {
          "output_type": "stream",
          "name": "stdout",
          "text": [
            "Test set: Average loss: 0.0705, Accuracy: 9779/10000 (98%)\n",
            "\n",
            "Epoch: 11\n"
          ]
        },
        {
          "output_type": "stream",
          "name": "stderr",
          "text": [
            "Training phase: batch_id=59; total loss=2.428570032119751; mnist loss=0.06826309114694595; adder loss=2.360306978225708; epoch_mnist_correct=58695/60000; epoch_sum_correct=6841/60000: 100%|██████████| 60/60 [00:08<00:00,  6.68it/s]\n"
          ]
        },
        {
          "output_type": "stream",
          "name": "stdout",
          "text": [
            "Training set: Average mnist loss: 0.0001; mnist Accuracy: 58695/60000   97.8250%; adder Accuracy: 6841/60000   11.4017%\n"
          ]
        },
        {
          "output_type": "stream",
          "name": "stderr",
          "text": [
            "Testing phase: total_test_loss=24383.564819335938; total_correct=9797/10000; total_sum_correct=1142/10000: 100%|██████████| 10/10 [00:01<00:00,  7.21it/s]\n"
          ]
        },
        {
          "output_type": "stream",
          "name": "stdout",
          "text": [
            "Test set: Average loss: 0.0648, Accuracy: 9797/10000 (98%)\n",
            "\n",
            "Epoch: 12\n"
          ]
        },
        {
          "output_type": "stream",
          "name": "stderr",
          "text": [
            "Training phase: batch_id=59; total loss=2.3945553302764893; mnist loss=0.054780833423137665; adder loss=2.3397746086120605; epoch_mnist_correct=58750/60000; epoch_sum_correct=6757/60000: 100%|██████████| 60/60 [00:08<00:00,  6.78it/s]\n"
          ]
        },
        {
          "output_type": "stream",
          "name": "stdout",
          "text": [
            "Training set: Average mnist loss: 0.0001; mnist Accuracy: 58750/60000   97.9167%; adder Accuracy: 6757/60000   11.2617%\n"
          ]
        },
        {
          "output_type": "stream",
          "name": "stderr",
          "text": [
            "Testing phase: total_test_loss=24081.619815826416; total_correct=9823/10000; total_sum_correct=1072/10000: 100%|██████████| 10/10 [00:01<00:00,  7.16it/s]\n"
          ]
        },
        {
          "output_type": "stream",
          "name": "stdout",
          "text": [
            "Test set: Average loss: 0.0578, Accuracy: 9823/10000 (98%)\n",
            "\n",
            "Epoch: 13\n"
          ]
        },
        {
          "output_type": "stream",
          "name": "stderr",
          "text": [
            "Training phase: batch_id=59; total loss=2.3793251514434814; mnist loss=0.05544991046190262; adder loss=2.3238751888275146; epoch_mnist_correct=58838/60000; epoch_sum_correct=7220/60000: 100%|██████████| 60/60 [00:08<00:00,  6.68it/s]\n"
          ]
        },
        {
          "output_type": "stream",
          "name": "stdout",
          "text": [
            "Training set: Average mnist loss: 0.0001; mnist Accuracy: 58838/60000   98.0633%; adder Accuracy: 7220/60000   12.0333%\n"
          ]
        },
        {
          "output_type": "stream",
          "name": "stderr",
          "text": [
            "Testing phase: total_test_loss=23792.703033447266; total_correct=9840/10000; total_sum_correct=1306/10000: 100%|██████████| 10/10 [00:01<00:00,  7.11it/s]\n"
          ]
        },
        {
          "output_type": "stream",
          "name": "stdout",
          "text": [
            "Test set: Average loss: 0.0561, Accuracy: 9840/10000 (98%)\n",
            "\n",
            "Epoch: 14\n"
          ]
        },
        {
          "output_type": "stream",
          "name": "stderr",
          "text": [
            "Training phase: batch_id=59; total loss=2.3960459232330322; mnist loss=0.08371257036924362; adder loss=2.312333345413208; epoch_mnist_correct=58897/60000; epoch_sum_correct=8073/60000: 100%|██████████| 60/60 [00:08<00:00,  6.86it/s]\n"
          ]
        },
        {
          "output_type": "stream",
          "name": "stdout",
          "text": [
            "Training set: Average mnist loss: 0.0001; mnist Accuracy: 58897/60000   98.1617%; adder Accuracy: 8073/60000   13.4550%\n"
          ]
        },
        {
          "output_type": "stream",
          "name": "stderr",
          "text": [
            "Testing phase: total_test_loss=23512.255031585693; total_correct=9825/10000; total_sum_correct=1365/10000: 100%|██████████| 10/10 [00:01<00:00,  6.45it/s]\n"
          ]
        },
        {
          "output_type": "stream",
          "name": "stdout",
          "text": [
            "Test set: Average loss: 0.0526, Accuracy: 9825/10000 (98%)\n",
            "\n",
            "Epoch: 15\n"
          ]
        },
        {
          "output_type": "stream",
          "name": "stderr",
          "text": [
            "Training phase: batch_id=59; total loss=2.311739206314087; mnist loss=0.06730280816555023; adder loss=2.244436502456665; epoch_mnist_correct=58934/60000; epoch_sum_correct=8992/60000: 100%|██████████| 60/60 [00:09<00:00,  6.49it/s]\n"
          ]
        },
        {
          "output_type": "stream",
          "name": "stdout",
          "text": [
            "Training set: Average mnist loss: 0.0001; mnist Accuracy: 58934/60000   98.2233%; adder Accuracy: 8992/60000   14.9867%\n"
          ]
        },
        {
          "output_type": "stream",
          "name": "stderr",
          "text": [
            "Testing phase: total_test_loss=22891.091480255127; total_correct=9836/10000; total_sum_correct=1590/10000: 100%|██████████| 10/10 [00:01<00:00,  6.77it/s]\n"
          ]
        },
        {
          "output_type": "stream",
          "name": "stdout",
          "text": [
            "Test set: Average loss: 0.0631, Accuracy: 9836/10000 (98%)\n",
            "\n",
            "Epoch: 16\n"
          ]
        },
        {
          "output_type": "stream",
          "name": "stderr",
          "text": [
            "Training phase: batch_id=59; total loss=2.110215425491333; mnist loss=0.0634538009762764; adder loss=2.0467615127563477; epoch_mnist_correct=58862/60000; epoch_sum_correct=11172/60000: 100%|██████████| 60/60 [00:09<00:00,  6.35it/s]\n"
          ]
        },
        {
          "output_type": "stream",
          "name": "stdout",
          "text": [
            "Training set: Average mnist loss: 0.0001; mnist Accuracy: 58862/60000   98.1033%; adder Accuracy: 11172/60000   18.6200%\n"
          ]
        },
        {
          "output_type": "stream",
          "name": "stderr",
          "text": [
            "Testing phase: total_test_loss=21469.94655227661; total_correct=9827/10000; total_sum_correct=1955/10000: 100%|██████████| 10/10 [00:01<00:00,  6.16it/s]\n"
          ]
        },
        {
          "output_type": "stream",
          "name": "stdout",
          "text": [
            "Test set: Average loss: 0.0586, Accuracy: 9827/10000 (98%)\n",
            "\n",
            "Epoch: 17\n"
          ]
        },
        {
          "output_type": "stream",
          "name": "stderr",
          "text": [
            "Training phase: batch_id=59; total loss=2.170610189437866; mnist loss=0.16569776833057404; adder loss=2.0049123764038086; epoch_mnist_correct=58364/60000; epoch_sum_correct=12972/60000: 100%|██████████| 60/60 [00:08<00:00,  6.76it/s]\n"
          ]
        },
        {
          "output_type": "stream",
          "name": "stdout",
          "text": [
            "Training set: Average mnist loss: 0.0001; mnist Accuracy: 58364/60000   97.2733%; adder Accuracy: 12972/60000   21.6200%\n"
          ]
        },
        {
          "output_type": "stream",
          "name": "stderr",
          "text": [
            "Testing phase: total_test_loss=21565.44468688965; total_correct=9488/10000; total_sum_correct=2278/10000: 100%|██████████| 10/10 [00:01<00:00,  6.02it/s]\n"
          ]
        },
        {
          "output_type": "stream",
          "name": "stdout",
          "text": [
            "Test set: Average loss: 0.1638, Accuracy: 9488/10000 (95%)\n",
            "\n",
            "Epoch: 18\n"
          ]
        },
        {
          "output_type": "stream",
          "name": "stderr",
          "text": [
            "Training phase: batch_id=59; total loss=1.8650119304656982; mnist loss=0.04980031028389931; adder loss=1.8152116537094116; epoch_mnist_correct=58481/60000; epoch_sum_correct=15638/60000: 100%|██████████| 60/60 [00:08<00:00,  6.83it/s]\n"
          ]
        },
        {
          "output_type": "stream",
          "name": "stdout",
          "text": [
            "Training set: Average mnist loss: 0.0001; mnist Accuracy: 58481/60000   97.4683%; adder Accuracy: 15638/60000   26.0633%\n"
          ]
        },
        {
          "output_type": "stream",
          "name": "stderr",
          "text": [
            "Testing phase: total_test_loss=18219.26974105835; total_correct=9795/10000; total_sum_correct=3016/10000: 100%|██████████| 10/10 [00:01<00:00,  6.82it/s]\n"
          ]
        },
        {
          "output_type": "stream",
          "name": "stdout",
          "text": [
            "Test set: Average loss: 0.0629, Accuracy: 9795/10000 (98%)\n",
            "\n",
            "Epoch: 19\n"
          ]
        },
        {
          "output_type": "stream",
          "name": "stderr",
          "text": [
            "Training phase: batch_id=59; total loss=1.7391365766525269; mnist loss=0.06340493261814117; adder loss=1.6757316589355469; epoch_mnist_correct=58814/60000; epoch_sum_correct=19066/60000: 100%|██████████| 60/60 [00:09<00:00,  6.48it/s]\n"
          ]
        },
        {
          "output_type": "stream",
          "name": "stdout",
          "text": [
            "Training set: Average mnist loss: 0.0001; mnist Accuracy: 58814/60000   98.0233%; adder Accuracy: 19066/60000   31.7767%\n"
          ]
        },
        {
          "output_type": "stream",
          "name": "stderr",
          "text": [
            "Testing phase: total_test_loss=16722.648513793945; total_correct=9832/10000; total_sum_correct=3714/10000: 100%|██████████| 10/10 [00:01<00:00,  6.20it/s]\n"
          ]
        },
        {
          "output_type": "stream",
          "name": "stdout",
          "text": [
            "Test set: Average loss: 0.0582, Accuracy: 9832/10000 (98%)\n",
            "\n",
            "Epoch: 20\n"
          ]
        },
        {
          "output_type": "stream",
          "name": "stderr",
          "text": [
            "Training phase: batch_id=59; total loss=1.5815694332122803; mnist loss=0.06491206586360931; adder loss=1.5166573524475098; epoch_mnist_correct=58919/60000; epoch_sum_correct=21482/60000: 100%|██████████| 60/60 [00:08<00:00,  6.76it/s]\n"
          ]
        },
        {
          "output_type": "stream",
          "name": "stdout",
          "text": [
            "Training set: Average mnist loss: 0.0001; mnist Accuracy: 58919/60000   98.1983%; adder Accuracy: 21482/60000   35.8033%\n"
          ]
        },
        {
          "output_type": "stream",
          "name": "stderr",
          "text": [
            "Testing phase: total_test_loss=15942.993171691895; total_correct=9849/10000; total_sum_correct=3828/10000: 100%|██████████| 10/10 [00:01<00:00,  6.17it/s]\n"
          ]
        },
        {
          "output_type": "stream",
          "name": "stdout",
          "text": [
            "Test set: Average loss: 0.0542, Accuracy: 9849/10000 (98%)\n",
            "\n",
            "Epoch: 21\n"
          ]
        },
        {
          "output_type": "stream",
          "name": "stderr",
          "text": [
            "Training phase: batch_id=59; total loss=1.5266388654708862; mnist loss=0.07744936645030975; adder loss=1.44918954372406; epoch_mnist_correct=59004/60000; epoch_sum_correct=24278/60000: 100%|██████████| 60/60 [00:09<00:00,  6.22it/s]\n"
          ]
        },
        {
          "output_type": "stream",
          "name": "stdout",
          "text": [
            "Training set: Average mnist loss: 0.0001; mnist Accuracy: 59004/60000   98.3400%; adder Accuracy: 24278/60000   40.4633%\n"
          ]
        },
        {
          "output_type": "stream",
          "name": "stderr",
          "text": [
            "Testing phase: total_test_loss=14801.585063934326; total_correct=9851/10000; total_sum_correct=4636/10000: 100%|██████████| 10/10 [00:01<00:00,  6.25it/s]\n"
          ]
        },
        {
          "output_type": "stream",
          "name": "stdout",
          "text": [
            "Test set: Average loss: 0.0485, Accuracy: 9851/10000 (99%)\n",
            "\n",
            "Epoch: 22\n"
          ]
        },
        {
          "output_type": "stream",
          "name": "stderr",
          "text": [
            "Training phase: batch_id=59; total loss=1.5846022367477417; mnist loss=0.057727131992578506; adder loss=1.5268751382827759; epoch_mnist_correct=59030/60000; epoch_sum_correct=25164/60000: 100%|██████████| 60/60 [00:08<00:00,  6.93it/s]\n"
          ]
        },
        {
          "output_type": "stream",
          "name": "stdout",
          "text": [
            "Training set: Average mnist loss: 0.0001; mnist Accuracy: 59030/60000   98.3833%; adder Accuracy: 25164/60000   41.9400%\n"
          ]
        },
        {
          "output_type": "stream",
          "name": "stderr",
          "text": [
            "Testing phase: total_test_loss=14565.554122924805; total_correct=9860/10000; total_sum_correct=4314/10000: 100%|██████████| 10/10 [00:01<00:00,  6.10it/s]\n"
          ]
        },
        {
          "output_type": "stream",
          "name": "stdout",
          "text": [
            "Test set: Average loss: 0.0456, Accuracy: 9860/10000 (99%)\n",
            "\n",
            "Epoch: 23\n"
          ]
        },
        {
          "output_type": "stream",
          "name": "stderr",
          "text": [
            "Training phase: batch_id=59; total loss=1.369261384010315; mnist loss=0.060866259038448334; adder loss=1.3083951473236084; epoch_mnist_correct=59094/60000; epoch_sum_correct=28047/60000: 100%|██████████| 60/60 [00:09<00:00,  6.50it/s]\n"
          ]
        },
        {
          "output_type": "stream",
          "name": "stdout",
          "text": [
            "Training set: Average mnist loss: 0.0001; mnist Accuracy: 59094/60000   98.4900%; adder Accuracy: 28047/60000   46.7450%\n"
          ]
        },
        {
          "output_type": "stream",
          "name": "stderr",
          "text": [
            "Testing phase: total_test_loss=13909.999572753906; total_correct=9866/10000; total_sum_correct=4488/10000: 100%|██████████| 10/10 [00:01<00:00,  6.72it/s]\n"
          ]
        },
        {
          "output_type": "stream",
          "name": "stdout",
          "text": [
            "Test set: Average loss: 0.0447, Accuracy: 9866/10000 (99%)\n",
            "\n",
            "Epoch: 24\n"
          ]
        },
        {
          "output_type": "stream",
          "name": "stderr",
          "text": [
            "Training phase: batch_id=59; total loss=1.3670861721038818; mnist loss=0.06324081867933273; adder loss=1.3038454055786133; epoch_mnist_correct=59123/60000; epoch_sum_correct=30201/60000: 100%|██████████| 60/60 [00:08<00:00,  6.69it/s]\n"
          ]
        },
        {
          "output_type": "stream",
          "name": "stdout",
          "text": [
            "Training set: Average mnist loss: 0.0000; mnist Accuracy: 59123/60000   98.5383%; adder Accuracy: 30201/60000   50.3350%\n"
          ]
        },
        {
          "output_type": "stream",
          "name": "stderr",
          "text": [
            "Testing phase: total_test_loss=12607.989051818848; total_correct=9882/10000; total_sum_correct=5665/10000: 100%|██████████| 10/10 [00:01<00:00,  6.70it/s]\n"
          ]
        },
        {
          "output_type": "stream",
          "name": "stdout",
          "text": [
            "Test set: Average loss: 0.0379, Accuracy: 9882/10000 (99%)\n",
            "\n",
            "Epoch: 25\n"
          ]
        },
        {
          "output_type": "stream",
          "name": "stderr",
          "text": [
            "Training phase: batch_id=59; total loss=1.2973943948745728; mnist loss=0.04069456085562706; adder loss=1.256699800491333; epoch_mnist_correct=58926/60000; epoch_sum_correct=29665/60000: 100%|██████████| 60/60 [00:09<00:00,  6.31it/s]\n"
          ]
        },
        {
          "output_type": "stream",
          "name": "stdout",
          "text": [
            "Training set: Average mnist loss: 0.0001; mnist Accuracy: 58926/60000   98.2100%; adder Accuracy: 29665/60000   49.4417%\n"
          ]
        },
        {
          "output_type": "stream",
          "name": "stderr",
          "text": [
            "Testing phase: total_test_loss=12634.441759109497; total_correct=9881/10000; total_sum_correct=5429/10000: 100%|██████████| 10/10 [00:01<00:00,  6.24it/s]\n"
          ]
        },
        {
          "output_type": "stream",
          "name": "stdout",
          "text": [
            "Test set: Average loss: 0.0404, Accuracy: 9881/10000 (99%)\n",
            "\n",
            "Epoch: 26\n"
          ]
        },
        {
          "output_type": "stream",
          "name": "stderr",
          "text": [
            "Training phase: batch_id=59; total loss=1.207728624343872; mnist loss=0.026545856148004532; adder loss=1.1811827421188354; epoch_mnist_correct=59212/60000; epoch_sum_correct=33161/60000: 100%|██████████| 60/60 [00:08<00:00,  6.92it/s]\n"
          ]
        },
        {
          "output_type": "stream",
          "name": "stdout",
          "text": [
            "Training set: Average mnist loss: 0.0000; mnist Accuracy: 59212/60000   98.6867%; adder Accuracy: 33161/60000   55.2683%\n"
          ]
        },
        {
          "output_type": "stream",
          "name": "stderr",
          "text": [
            "Testing phase: total_test_loss=11952.767959594727; total_correct=9879/10000; total_sum_correct=5738/10000: 100%|██████████| 10/10 [00:01<00:00,  6.75it/s]\n"
          ]
        },
        {
          "output_type": "stream",
          "name": "stdout",
          "text": [
            "Test set: Average loss: 0.0367, Accuracy: 9879/10000 (99%)\n",
            "\n",
            "Epoch: 27\n"
          ]
        },
        {
          "output_type": "stream",
          "name": "stderr",
          "text": [
            "Training phase: batch_id=59; total loss=1.1628540754318237; mnist loss=0.06471217423677444; adder loss=1.0981419086456299; epoch_mnist_correct=59210/60000; epoch_sum_correct=33852/60000: 100%|██████████| 60/60 [00:09<00:00,  6.65it/s]\n"
          ]
        },
        {
          "output_type": "stream",
          "name": "stdout",
          "text": [
            "Training set: Average mnist loss: 0.0000; mnist Accuracy: 59210/60000   98.6833%; adder Accuracy: 33852/60000   56.4200%\n"
          ]
        },
        {
          "output_type": "stream",
          "name": "stderr",
          "text": [
            "Testing phase: total_test_loss=11390.06300163269; total_correct=9883/10000; total_sum_correct=6184/10000: 100%|██████████| 10/10 [00:01<00:00,  6.16it/s]\n"
          ]
        },
        {
          "output_type": "stream",
          "name": "stdout",
          "text": [
            "Test set: Average loss: 0.0361, Accuracy: 9883/10000 (99%)\n",
            "\n",
            "Epoch: 28\n"
          ]
        },
        {
          "output_type": "stream",
          "name": "stderr",
          "text": [
            "Training phase: batch_id=59; total loss=1.1298460960388184; mnist loss=0.040894765406847; adder loss=1.0889513492584229; epoch_mnist_correct=59259/60000; epoch_sum_correct=34657/60000: 100%|██████████| 60/60 [00:08<00:00,  6.69it/s]\n"
          ]
        },
        {
          "output_type": "stream",
          "name": "stdout",
          "text": [
            "Training set: Average mnist loss: 0.0000; mnist Accuracy: 59259/60000   98.7650%; adder Accuracy: 34657/60000   57.7617%\n"
          ]
        },
        {
          "output_type": "stream",
          "name": "stderr",
          "text": [
            "Testing phase: total_test_loss=11282.928716659546; total_correct=9888/10000; total_sum_correct=5871/10000: 100%|██████████| 10/10 [00:01<00:00,  6.87it/s]\n"
          ]
        },
        {
          "output_type": "stream",
          "name": "stdout",
          "text": [
            "Test set: Average loss: 0.0355, Accuracy: 9888/10000 (99%)\n",
            "\n",
            "Epoch: 29\n"
          ]
        },
        {
          "output_type": "stream",
          "name": "stderr",
          "text": [
            "Training phase: batch_id=59; total loss=1.0669151544570923; mnist loss=0.018599729984998703; adder loss=1.048315405845642; epoch_mnist_correct=59244/60000; epoch_sum_correct=36478/60000: 100%|██████████| 60/60 [00:08<00:00,  6.76it/s]\n"
          ]
        },
        {
          "output_type": "stream",
          "name": "stdout",
          "text": [
            "Training set: Average mnist loss: 0.0000; mnist Accuracy: 59244/60000   98.7400%; adder Accuracy: 36478/60000   60.7967%\n"
          ]
        },
        {
          "output_type": "stream",
          "name": "stderr",
          "text": [
            "Testing phase: total_test_loss=10856.132549285889; total_correct=9890/10000; total_sum_correct=6190/10000: 100%|██████████| 10/10 [00:01<00:00,  6.60it/s]\n"
          ]
        },
        {
          "output_type": "stream",
          "name": "stdout",
          "text": [
            "Test set: Average loss: 0.0338, Accuracy: 9890/10000 (99%)\n",
            "\n",
            "Epoch: 30\n"
          ]
        },
        {
          "output_type": "stream",
          "name": "stderr",
          "text": [
            "Training phase: batch_id=59; total loss=1.0403482913970947; mnist loss=0.024560514837503433; adder loss=1.0157877206802368; epoch_mnist_correct=59259/60000; epoch_sum_correct=37074/60000: 100%|██████████| 60/60 [00:09<00:00,  6.37it/s]\n"
          ]
        },
        {
          "output_type": "stream",
          "name": "stdout",
          "text": [
            "Training set: Average mnist loss: 0.0000; mnist Accuracy: 59259/60000   98.7650%; adder Accuracy: 37074/60000   61.7900%\n"
          ]
        },
        {
          "output_type": "stream",
          "name": "stderr",
          "text": [
            "Testing phase: total_test_loss=10612.42657661438; total_correct=9900/10000; total_sum_correct=6527/10000: 100%|██████████| 10/10 [00:01<00:00,  6.40it/s]\n"
          ]
        },
        {
          "output_type": "stream",
          "name": "stdout",
          "text": [
            "Test set: Average loss: 0.0316, Accuracy: 9900/10000 (99%)\n",
            "\n",
            "Epoch: 31\n"
          ]
        },
        {
          "output_type": "stream",
          "name": "stderr",
          "text": [
            "Training phase: batch_id=59; total loss=1.063405990600586; mnist loss=0.05133190378546715; adder loss=1.0120741128921509; epoch_mnist_correct=59259/60000; epoch_sum_correct=37237/60000: 100%|██████████| 60/60 [00:09<00:00,  6.47it/s]\n"
          ]
        },
        {
          "output_type": "stream",
          "name": "stdout",
          "text": [
            "Training set: Average mnist loss: 0.0000; mnist Accuracy: 59259/60000   98.7650%; adder Accuracy: 37237/60000   62.0617%\n"
          ]
        },
        {
          "output_type": "stream",
          "name": "stderr",
          "text": [
            "Testing phase: total_test_loss=10288.537576675415; total_correct=9903/10000; total_sum_correct=6724/10000: 100%|██████████| 10/10 [00:01<00:00,  6.07it/s]\n"
          ]
        },
        {
          "output_type": "stream",
          "name": "stdout",
          "text": [
            "Test set: Average loss: 0.0332, Accuracy: 9903/10000 (99%)\n",
            "\n",
            "Epoch: 32\n"
          ]
        },
        {
          "output_type": "stream",
          "name": "stderr",
          "text": [
            "Training phase: batch_id=59; total loss=0.9486233592033386; mnist loss=0.017300235107541084; adder loss=0.9313231110572815; epoch_mnist_correct=59287/60000; epoch_sum_correct=40576/60000: 100%|██████████| 60/60 [00:09<00:00,  6.45it/s]\n"
          ]
        },
        {
          "output_type": "stream",
          "name": "stdout",
          "text": [
            "Training set: Average mnist loss: 0.0000; mnist Accuracy: 59287/60000   98.8117%; adder Accuracy: 40576/60000   67.6267%\n"
          ]
        },
        {
          "output_type": "stream",
          "name": "stderr",
          "text": [
            "Testing phase: total_test_loss=10209.2251663208; total_correct=9895/10000; total_sum_correct=6491/10000: 100%|██████████| 10/10 [00:01<00:00,  6.21it/s]\n"
          ]
        },
        {
          "output_type": "stream",
          "name": "stdout",
          "text": [
            "Test set: Average loss: 0.0321, Accuracy: 9895/10000 (99%)\n",
            "\n",
            "Epoch: 33\n"
          ]
        },
        {
          "output_type": "stream",
          "name": "stderr",
          "text": [
            "Training phase: batch_id=59; total loss=0.988315761089325; mnist loss=0.04092254489660263; adder loss=0.9473932385444641; epoch_mnist_correct=59306/60000; epoch_sum_correct=39796/60000: 100%|██████████| 60/60 [00:09<00:00,  6.60it/s]\n"
          ]
        },
        {
          "output_type": "stream",
          "name": "stdout",
          "text": [
            "Training set: Average mnist loss: 0.0000; mnist Accuracy: 59306/60000   98.8433%; adder Accuracy: 39796/60000   66.3267%\n"
          ]
        },
        {
          "output_type": "stream",
          "name": "stderr",
          "text": [
            "Testing phase: total_test_loss=9565.6236038208; total_correct=9906/10000; total_sum_correct=7076/10000: 100%|██████████| 10/10 [00:01<00:00,  6.28it/s]\n"
          ]
        },
        {
          "output_type": "stream",
          "name": "stdout",
          "text": [
            "Test set: Average loss: 0.0309, Accuracy: 9906/10000 (99%)\n",
            "\n",
            "Epoch: 34\n"
          ]
        },
        {
          "output_type": "stream",
          "name": "stderr",
          "text": [
            "Training phase: batch_id=59; total loss=0.9245458841323853; mnist loss=0.03620292246341705; adder loss=0.8883429765701294; epoch_mnist_correct=59344/60000; epoch_sum_correct=40426/60000: 100%|██████████| 60/60 [00:08<00:00,  6.69it/s]\n"
          ]
        },
        {
          "output_type": "stream",
          "name": "stdout",
          "text": [
            "Training set: Average mnist loss: 0.0000; mnist Accuracy: 59344/60000   98.9067%; adder Accuracy: 40426/60000   67.3767%\n"
          ]
        },
        {
          "output_type": "stream",
          "name": "stderr",
          "text": [
            "Testing phase: total_test_loss=9358.193574905396; total_correct=9901/10000; total_sum_correct=7459/10000: 100%|██████████| 10/10 [00:01<00:00,  6.37it/s]\n"
          ]
        },
        {
          "output_type": "stream",
          "name": "stdout",
          "text": [
            "Test set: Average loss: 0.0322, Accuracy: 9901/10000 (99%)\n",
            "\n",
            "Epoch: 35\n"
          ]
        },
        {
          "output_type": "stream",
          "name": "stderr",
          "text": [
            "Training phase: batch_id=59; total loss=0.9937388300895691; mnist loss=0.045829180628061295; adder loss=0.9479096531867981; epoch_mnist_correct=59346/60000; epoch_sum_correct=40604/60000: 100%|██████████| 60/60 [00:09<00:00,  6.58it/s]\n"
          ]
        },
        {
          "output_type": "stream",
          "name": "stdout",
          "text": [
            "Training set: Average mnist loss: 0.0000; mnist Accuracy: 59346/60000   98.9100%; adder Accuracy: 40604/60000   67.6733%\n"
          ]
        },
        {
          "output_type": "stream",
          "name": "stderr",
          "text": [
            "Testing phase: total_test_loss=9018.349870681763; total_correct=9901/10000; total_sum_correct=7842/10000: 100%|██████████| 10/10 [00:01<00:00,  6.51it/s]\n"
          ]
        },
        {
          "output_type": "stream",
          "name": "stdout",
          "text": [
            "Test set: Average loss: 0.0318, Accuracy: 9901/10000 (99%)\n",
            "\n",
            "Epoch: 36\n"
          ]
        },
        {
          "output_type": "stream",
          "name": "stderr",
          "text": [
            "Training phase: batch_id=59; total loss=0.8956624865531921; mnist loss=0.020486807450652122; adder loss=0.8751756548881531; epoch_mnist_correct=59373/60000; epoch_sum_correct=43221/60000: 100%|██████████| 60/60 [00:09<00:00,  6.31it/s]\n"
          ]
        },
        {
          "output_type": "stream",
          "name": "stdout",
          "text": [
            "Training set: Average mnist loss: 0.0000; mnist Accuracy: 59373/60000   98.9550%; adder Accuracy: 43221/60000   72.0350%\n"
          ]
        },
        {
          "output_type": "stream",
          "name": "stderr",
          "text": [
            "Testing phase: total_test_loss=9874.459199905396; total_correct=9903/10000; total_sum_correct=6500/10000: 100%|██████████| 10/10 [00:01<00:00,  6.42it/s]\n"
          ]
        },
        {
          "output_type": "stream",
          "name": "stdout",
          "text": [
            "Test set: Average loss: 0.0318, Accuracy: 9903/10000 (99%)\n",
            "\n",
            "Epoch: 37\n"
          ]
        },
        {
          "output_type": "stream",
          "name": "stderr",
          "text": [
            "Training phase: batch_id=59; total loss=0.8180762529373169; mnist loss=0.021472280845046043; adder loss=0.7966039776802063; epoch_mnist_correct=59395/60000; epoch_sum_correct=42944/60000: 100%|██████████| 60/60 [00:09<00:00,  6.27it/s]\n"
          ]
        },
        {
          "output_type": "stream",
          "name": "stdout",
          "text": [
            "Training set: Average mnist loss: 0.0000; mnist Accuracy: 59395/60000   98.9917%; adder Accuracy: 42944/60000   71.5733%\n"
          ]
        },
        {
          "output_type": "stream",
          "name": "stderr",
          "text": [
            "Testing phase: total_test_loss=9080.949062347412; total_correct=9905/10000; total_sum_correct=6986/10000: 100%|██████████| 10/10 [00:01<00:00,  6.07it/s]\n"
          ]
        },
        {
          "output_type": "stream",
          "name": "stdout",
          "text": [
            "Test set: Average loss: 0.0313, Accuracy: 9905/10000 (99%)\n",
            "\n",
            "Epoch: 38\n"
          ]
        },
        {
          "output_type": "stream",
          "name": "stderr",
          "text": [
            "Training phase: batch_id=59; total loss=0.8598161339759827; mnist loss=0.04037434235215187; adder loss=0.8194417953491211; epoch_mnist_correct=59386/60000; epoch_sum_correct=44671/60000: 100%|██████████| 60/60 [00:09<00:00,  6.27it/s]\n"
          ]
        },
        {
          "output_type": "stream",
          "name": "stdout",
          "text": [
            "Training set: Average mnist loss: 0.0000; mnist Accuracy: 59386/60000   98.9767%; adder Accuracy: 44671/60000   74.4517%\n"
          ]
        },
        {
          "output_type": "stream",
          "name": "stderr",
          "text": [
            "Testing phase: total_test_loss=8352.162942886353; total_correct=9900/10000; total_sum_correct=7975/10000: 100%|██████████| 10/10 [00:01<00:00,  6.18it/s]\n"
          ]
        },
        {
          "output_type": "stream",
          "name": "stdout",
          "text": [
            "Test set: Average loss: 0.0304, Accuracy: 9900/10000 (99%)\n",
            "\n",
            "Epoch: 39\n"
          ]
        },
        {
          "output_type": "stream",
          "name": "stderr",
          "text": [
            "Training phase: batch_id=59; total loss=0.8380240201950073; mnist loss=0.019301261752843857; adder loss=0.8187227845191956; epoch_mnist_correct=59401/60000; epoch_sum_correct=44685/60000: 100%|██████████| 60/60 [00:09<00:00,  6.55it/s]\n"
          ]
        },
        {
          "output_type": "stream",
          "name": "stdout",
          "text": [
            "Training set: Average mnist loss: 0.0000; mnist Accuracy: 59401/60000   99.0017%; adder Accuracy: 44685/60000   74.4750%\n"
          ]
        },
        {
          "output_type": "stream",
          "name": "stderr",
          "text": [
            "Testing phase: total_test_loss=8098.865300178528; total_correct=9913/10000; total_sum_correct=8058/10000: 100%|██████████| 10/10 [00:01<00:00,  6.67it/s]\n"
          ]
        },
        {
          "output_type": "stream",
          "name": "stdout",
          "text": [
            "Test set: Average loss: 0.0280, Accuracy: 9913/10000 (99%)\n",
            "\n",
            "Epoch: 40\n"
          ]
        },
        {
          "output_type": "stream",
          "name": "stderr",
          "text": [
            "Training phase: batch_id=59; total loss=0.8143793344497681; mnist loss=0.03075818531215191; adder loss=0.7836211323738098; epoch_mnist_correct=59406/60000; epoch_sum_correct=44250/60000: 100%|██████████| 60/60 [00:09<00:00,  6.41it/s]\n"
          ]
        },
        {
          "output_type": "stream",
          "name": "stdout",
          "text": [
            "Training set: Average mnist loss: 0.0000; mnist Accuracy: 59406/60000   99.0100%; adder Accuracy: 44250/60000   73.7500%\n"
          ]
        },
        {
          "output_type": "stream",
          "name": "stderr",
          "text": [
            "Testing phase: total_test_loss=9008.14441871643; total_correct=9904/10000; total_sum_correct=6972/10000: 100%|██████████| 10/10 [00:01<00:00,  5.96it/s]\n"
          ]
        },
        {
          "output_type": "stream",
          "name": "stdout",
          "text": [
            "Test set: Average loss: 0.0314, Accuracy: 9904/10000 (99%)\n",
            "\n",
            "Epoch: 41\n"
          ]
        },
        {
          "output_type": "stream",
          "name": "stderr",
          "text": [
            "Training phase: batch_id=59; total loss=0.9594010710716248; mnist loss=0.022278180345892906; adder loss=0.9371228814125061; epoch_mnist_correct=59431/60000; epoch_sum_correct=46140/60000: 100%|██████████| 60/60 [00:09<00:00,  6.02it/s]\n"
          ]
        },
        {
          "output_type": "stream",
          "name": "stdout",
          "text": [
            "Training set: Average mnist loss: 0.0000; mnist Accuracy: 59431/60000   99.0517%; adder Accuracy: 46140/60000   76.9000%\n"
          ]
        },
        {
          "output_type": "stream",
          "name": "stderr",
          "text": [
            "Testing phase: total_test_loss=10468.297428131104; total_correct=9898/10000; total_sum_correct=5270/10000: 100%|██████████| 10/10 [00:01<00:00,  6.51it/s]\n"
          ]
        },
        {
          "output_type": "stream",
          "name": "stdout",
          "text": [
            "Test set: Average loss: 0.0310, Accuracy: 9898/10000 (99%)\n",
            "\n",
            "Epoch: 42\n"
          ]
        },
        {
          "output_type": "stream",
          "name": "stderr",
          "text": [
            "Training phase: batch_id=59; total loss=0.7698681354522705; mnist loss=0.038799822330474854; adder loss=0.7310683131217957; epoch_mnist_correct=59437/60000; epoch_sum_correct=46018/60000: 100%|██████████| 60/60 [00:09<00:00,  6.50it/s]\n"
          ]
        },
        {
          "output_type": "stream",
          "name": "stdout",
          "text": [
            "Training set: Average mnist loss: 0.0000; mnist Accuracy: 59437/60000   99.0617%; adder Accuracy: 46018/60000   76.6967%\n"
          ]
        },
        {
          "output_type": "stream",
          "name": "stderr",
          "text": [
            "Testing phase: total_test_loss=8155.880090713501; total_correct=9904/10000; total_sum_correct=7645/10000: 100%|██████████| 10/10 [00:01<00:00,  6.13it/s]\n"
          ]
        },
        {
          "output_type": "stream",
          "name": "stdout",
          "text": [
            "Test set: Average loss: 0.0316, Accuracy: 9904/10000 (99%)\n",
            "\n",
            "Epoch: 43\n"
          ]
        },
        {
          "output_type": "stream",
          "name": "stderr",
          "text": [
            "Training phase: batch_id=59; total loss=0.6810898184776306; mnist loss=0.026327082887291908; adder loss=0.6547627449035645; epoch_mnist_correct=59443/60000; epoch_sum_correct=47761/60000: 100%|██████████| 60/60 [00:08<00:00,  6.71it/s]\n"
          ]
        },
        {
          "output_type": "stream",
          "name": "stdout",
          "text": [
            "Training set: Average mnist loss: 0.0000; mnist Accuracy: 59443/60000   99.0717%; adder Accuracy: 47761/60000   79.6017%\n"
          ]
        },
        {
          "output_type": "stream",
          "name": "stderr",
          "text": [
            "Testing phase: total_test_loss=7448.09090423584; total_correct=9906/10000; total_sum_correct=8244/10000: 100%|██████████| 10/10 [00:01<00:00,  6.55it/s]\n"
          ]
        },
        {
          "output_type": "stream",
          "name": "stdout",
          "text": [
            "Test set: Average loss: 0.0303, Accuracy: 9906/10000 (99%)\n",
            "\n",
            "Epoch: 44\n"
          ]
        },
        {
          "output_type": "stream",
          "name": "stderr",
          "text": [
            "Training phase: batch_id=59; total loss=0.7371728420257568; mnist loss=0.02509966492652893; adder loss=0.7120731472969055; epoch_mnist_correct=59474/60000; epoch_sum_correct=46654/60000: 100%|██████████| 60/60 [00:08<00:00,  6.76it/s]\n"
          ]
        },
        {
          "output_type": "stream",
          "name": "stdout",
          "text": [
            "Training set: Average mnist loss: 0.0000; mnist Accuracy: 59474/60000   99.1233%; adder Accuracy: 46654/60000   77.7567%\n"
          ]
        },
        {
          "output_type": "stream",
          "name": "stderr",
          "text": [
            "Testing phase: total_test_loss=7882.026327133179; total_correct=9910/10000; total_sum_correct=7714/10000: 100%|██████████| 10/10 [00:01<00:00,  6.74it/s]\n"
          ]
        },
        {
          "output_type": "stream",
          "name": "stdout",
          "text": [
            "Test set: Average loss: 0.0293, Accuracy: 9910/10000 (99%)\n",
            "\n",
            "Epoch: 45\n"
          ]
        },
        {
          "output_type": "stream",
          "name": "stderr",
          "text": [
            "Training phase: batch_id=59; total loss=0.7135998010635376; mnist loss=0.023764394223690033; adder loss=0.6898354291915894; epoch_mnist_correct=59490/60000; epoch_sum_correct=47711/60000: 100%|██████████| 60/60 [00:09<00:00,  6.26it/s]\n"
          ]
        },
        {
          "output_type": "stream",
          "name": "stdout",
          "text": [
            "Training set: Average mnist loss: 0.0000; mnist Accuracy: 59490/60000   99.1500%; adder Accuracy: 47711/60000   79.5183%\n"
          ]
        },
        {
          "output_type": "stream",
          "name": "stderr",
          "text": [
            "Testing phase: total_test_loss=7124.137277603149; total_correct=9903/10000; total_sum_correct=8338/10000: 100%|██████████| 10/10 [00:01<00:00,  6.30it/s]\n"
          ]
        },
        {
          "output_type": "stream",
          "name": "stdout",
          "text": [
            "Test set: Average loss: 0.0305, Accuracy: 9903/10000 (99%)\n",
            "\n",
            "Epoch: 46\n"
          ]
        },
        {
          "output_type": "stream",
          "name": "stderr",
          "text": [
            "Training phase: batch_id=59; total loss=0.7234764695167542; mnist loss=0.025073574855923653; adder loss=0.6984028816223145; epoch_mnist_correct=59484/60000; epoch_sum_correct=47590/60000: 100%|██████████| 60/60 [00:09<00:00,  6.50it/s]\n"
          ]
        },
        {
          "output_type": "stream",
          "name": "stdout",
          "text": [
            "Training set: Average mnist loss: 0.0000; mnist Accuracy: 59484/60000   99.1400%; adder Accuracy: 47590/60000   79.3167%\n"
          ]
        },
        {
          "output_type": "stream",
          "name": "stderr",
          "text": [
            "Testing phase: total_test_loss=7174.257961273193; total_correct=9900/10000; total_sum_correct=8114/10000: 100%|██████████| 10/10 [00:01<00:00,  6.65it/s]\n"
          ]
        },
        {
          "output_type": "stream",
          "name": "stdout",
          "text": [
            "Test set: Average loss: 0.0318, Accuracy: 9900/10000 (99%)\n",
            "\n",
            "Epoch: 47\n"
          ]
        },
        {
          "output_type": "stream",
          "name": "stderr",
          "text": [
            "Training phase: batch_id=59; total loss=0.6633104085922241; mnist loss=0.022915363311767578; adder loss=0.6403950452804565; epoch_mnist_correct=59491/60000; epoch_sum_correct=49699/60000: 100%|██████████| 60/60 [00:08<00:00,  6.67it/s]\n"
          ]
        },
        {
          "output_type": "stream",
          "name": "stdout",
          "text": [
            "Training set: Average mnist loss: 0.0000; mnist Accuracy: 59491/60000   99.1517%; adder Accuracy: 49699/60000   82.8317%\n"
          ]
        },
        {
          "output_type": "stream",
          "name": "stderr",
          "text": [
            "Testing phase: total_test_loss=6809.178539276123; total_correct=9903/10000; total_sum_correct=8525/10000: 100%|██████████| 10/10 [00:01<00:00,  6.13it/s]\n"
          ]
        },
        {
          "output_type": "stream",
          "name": "stdout",
          "text": [
            "Test set: Average loss: 0.0326, Accuracy: 9903/10000 (99%)\n",
            "\n",
            "Epoch: 48\n"
          ]
        },
        {
          "output_type": "stream",
          "name": "stderr",
          "text": [
            "Training phase: batch_id=59; total loss=0.626013994216919; mnist loss=0.019810525700449944; adder loss=0.6062034964561462; epoch_mnist_correct=59494/60000; epoch_sum_correct=48451/60000: 100%|██████████| 60/60 [00:09<00:00,  6.50it/s]\n"
          ]
        },
        {
          "output_type": "stream",
          "name": "stdout",
          "text": [
            "Training set: Average mnist loss: 0.0000; mnist Accuracy: 59494/60000   99.1567%; adder Accuracy: 48451/60000   80.7517%\n"
          ]
        },
        {
          "output_type": "stream",
          "name": "stderr",
          "text": [
            "Testing phase: total_test_loss=6663.613422393799; total_correct=9903/10000; total_sum_correct=8509/10000: 100%|██████████| 10/10 [00:01<00:00,  5.78it/s]\n"
          ]
        },
        {
          "output_type": "stream",
          "name": "stdout",
          "text": [
            "Test set: Average loss: 0.0302, Accuracy: 9903/10000 (99%)\n",
            "\n",
            "Epoch: 49\n"
          ]
        },
        {
          "output_type": "stream",
          "name": "stderr",
          "text": [
            "Training phase: batch_id=59; total loss=0.6100873351097107; mnist loss=0.027809469029307365; adder loss=0.5822778940200806; epoch_mnist_correct=59487/60000; epoch_sum_correct=50136/60000: 100%|██████████| 60/60 [00:09<00:00,  6.31it/s]\n"
          ]
        },
        {
          "output_type": "stream",
          "name": "stdout",
          "text": [
            "Training set: Average mnist loss: 0.0000; mnist Accuracy: 59487/60000   99.1450%; adder Accuracy: 50136/60000   83.5600%\n"
          ]
        },
        {
          "output_type": "stream",
          "name": "stderr",
          "text": [
            "Testing phase: total_test_loss=6342.051759719849; total_correct=9906/10000; total_sum_correct=8619/10000: 100%|██████████| 10/10 [00:01<00:00,  5.96it/s]\n"
          ]
        },
        {
          "output_type": "stream",
          "name": "stdout",
          "text": [
            "Test set: Average loss: 0.0301, Accuracy: 9906/10000 (99%)\n",
            "\n",
            "Epoch: 50\n"
          ]
        },
        {
          "output_type": "stream",
          "name": "stderr",
          "text": [
            "Training phase: batch_id=59; total loss=0.6480192542076111; mnist loss=0.028612012043595314; adder loss=0.6194072365760803; epoch_mnist_correct=59535/60000; epoch_sum_correct=51093/60000: 100%|██████████| 60/60 [00:08<00:00,  6.83it/s]\n"
          ]
        },
        {
          "output_type": "stream",
          "name": "stdout",
          "text": [
            "Training set: Average mnist loss: 0.0000; mnist Accuracy: 59535/60000   99.2250%; adder Accuracy: 51093/60000   85.1550%\n"
          ]
        },
        {
          "output_type": "stream",
          "name": "stderr",
          "text": [
            "Testing phase: total_test_loss=6982.227521896362; total_correct=9909/10000; total_sum_correct=8256/10000: 100%|██████████| 10/10 [00:01<00:00,  6.47it/s]"
          ]
        },
        {
          "output_type": "stream",
          "name": "stdout",
          "text": [
            "Test set: Average loss: 0.0311, Accuracy: 9909/10000 (99%)\n",
            "\n"
          ]
        },
        {
          "output_type": "stream",
          "name": "stderr",
          "text": [
            "\n"
          ]
        }
      ]
    }
  ]
}