{
  "nbformat": 4,
  "nbformat_minor": 0,
  "metadata": {
    "colab": {
      "name": "session_3_assignment_digit_recognition_addition.ipynb",
      "provenance": [],
      "collapsed_sections": [],
      "include_colab_link": true
    },
    "kernelspec": {
      "name": "python3",
      "display_name": "Python 3"
    },
    "language_info": {
      "name": "python"
    },
    "accelerator": "GPU"
  },
  "cells": [
    {
      "cell_type": "markdown",
      "metadata": {
        "id": "view-in-github",
        "colab_type": "text"
      },
      "source": [
        "<a href=\"https://colab.research.google.com/github/software-artisan/tsai_end3/blob/main/session_2_5_pytorch_101/session_3_assignment_digit_recognition_addition.ipynb\" target=\"_parent\"><img src=\"https://colab.research.google.com/assets/colab-badge.svg\" alt=\"Open In Colab\"/></a>"
      ]
    },
    {
      "cell_type": "markdown",
      "metadata": {
        "id": "jelURTVrLCkl"
      },
      "source": [
        "# Handwritten digit Recognition and adder network\n",
        "\n"
      ]
    },
    {
      "cell_type": "code",
      "metadata": {
        "id": "fdlZYQeUquvJ",
        "colab": {
          "base_uri": "https://localhost:8080/"
        },
        "outputId": "93adba56-a93f-4749-8cf6-8045f1ab2eef"
      },
      "source": [
        "from __future__ import print_function\n",
        "import torch\n",
        "import torch.nn as nn\n",
        "import torch.nn.functional as F\n",
        "import torch.optim as optim\n",
        "from torchvision import datasets, transforms\n",
        "\n",
        "torch.__version__\n",
        "torch.cuda.get_device_name()\n",
        "torch.cuda.get_device_properties('cuda:0')"
      ],
      "execution_count": 37,
      "outputs": [
        {
          "output_type": "execute_result",
          "data": {
            "text/plain": [
              "_CudaDeviceProperties(name='Tesla P100-PCIE-16GB', major=6, minor=0, total_memory=16280MB, multi_processor_count=56)"
            ]
          },
          "metadata": {},
          "execution_count": 37
        }
      ]
    },
    {
      "cell_type": "code",
      "metadata": {
        "id": "h7utJRVXv7uX"
      },
      "source": [
        "once = True\n",
        "\n",
        "# this class defines the CNN or convulational neural network\n",
        "class Net(nn.Module):\n",
        "    def __init__(self):\n",
        "        super(Net, self).__init__()\n",
        "        # shown below are the definitions of the layers of the network\n",
        "\n",
        "        # input = 28x28x1 | kernels = (3x3x1)x8 | output = 28x28x8  | RF = 3x3\n",
        "        self.conv1 = nn.Conv2d(in_channels=1, out_channels=8, kernel_size=3, padding=1) #input -? OUtput? RF\n",
        "        \n",
        "        # input = 28x28x8 (padding=1) | kernels = (3x3x32)x16 | output = 28x28x16 | RF = 5x5\n",
        "        self.conv2 = nn.Conv2d(in_channels=8, out_channels=16, kernel_size=3, padding=1)\n",
        "        \n",
        "        # input = 28x28x16 | maxpool = 2x2 | output = 14x14x16 | RF = 10x10\n",
        "        self.pool1 = nn.MaxPool2d(kernel_size=2, stride=2)\n",
        "        \n",
        "        # input = 14x14x16 (padding=1) | kernels = (3x3x64)16 | output = 14x14x16 | RF = 12x12\n",
        "        self.conv3 = nn.Conv2d(in_channels=16, out_channels=16, kernel_size=3, padding=1)\n",
        "        \n",
        "        # input = 14x14x16 (padding=1) | kernels = (3x3x128)x16 | output = 14x14x16 | RF = 14x14\n",
        "        self.conv4 = nn.Conv2d(in_channels=16, out_channels=16, kernel_size=3, padding=1)\n",
        "        \n",
        "        # input = 14x14x16 | maxpool = 2x2 | output = 7x7x16 | RF = 28x28\n",
        "        self.pool2 = nn.MaxPool2d(kernel_size=2, stride=2)\n",
        "        \n",
        "        # # input = 7x7x64 | kernel = (3x3x256)x128 | output = 5x5x128 | RF=30x30\n",
        "        # self.conv5 = nn.Conv2d(in_channels=16, out_channels=16, kernel_size=3)\n",
        "        \n",
        "        # # input = 5x5x128 | kernel = (3x3x512)x256 | output = 3x3x256 | RF=32x32\n",
        "        # self.conv6 = nn.Conv2d(in_channels=16, out_channels=16, kernel_size=3)\n",
        "        \n",
        "        # # input = 3x3x256 | kernel = (3x3x1024)x10 | output = 1x1x10 | RF=34x34\n",
        "        # self.conv7 = nn.Conv2d(in_channels=16, out_channels=10, kernel_size=3)\n",
        "\n",
        "        # input = 794 | output = 120 \n",
        "        self.fc1 = nn.Linear(in_features=7*7*16 + 10, out_features=120)\n",
        "        # input = 120 | output = 60\n",
        "        self.fc2 = nn.Linear(in_features=120, out_features=60)\n",
        "\n",
        "        # this is the output layer for mnist\n",
        "        # input = 60 | output = 10\n",
        "        self.out_mnist = nn.Linear(in_features=60, out_features=10)\n",
        "\n",
        "        # this is the output layer for the adder\n",
        "        # input=60 | output=19 (max sum of two digits=18)\n",
        "        self.out_adder = nn.Linear(in_features=60, out_features=19)\n",
        "\n",
        "    def forward(self, mnist, num):\n",
        "        global once\n",
        "\n",
        "        # seems to define the forward propogation of the neural network\n",
        "        mnist = self.pool1(F.relu(self.conv2(F.relu(self.conv1(mnist)))))\n",
        "        mnist = self.pool2(F.relu(self.conv4(F.relu(self.conv3(mnist)))))\n",
        "\n",
        "        # x = F.relu(self.conv6(F.relu(self.conv5(x))))\n",
        "        # #x = F.relu(self.conv7(x))\n",
        "        # x = self.conv7(x)\n",
        "        # x = x.view(-1, 10)\n",
        "        # return F.log_softmax(x)\n",
        "\n",
        "        #if once: print(f\"mnist.shape after maxpool2={mnist.shape}\")\n",
        "        mnist = mnist.reshape(-1, 7*7*16)\n",
        "        # Concatenating one hot encoding of input2 digit to FC layer\n",
        "        mnist_and_num = torch.cat((mnist, num), dim=1) \n",
        "        #if once: print(f\"mnist_and_num.shape after torch.cat()={mnist_and_num.shape}\")\n",
        "        # hidden fc1 linear layer\n",
        "        mnist_and_num = F.relu(self.fc1(mnist_and_num))\n",
        "\n",
        "        # hidden fc2 linear layer\n",
        "        mnist_and_num = F.relu(self.fc2(mnist_and_num))\n",
        "\n",
        "        # output linear layer\n",
        "        mnist = self.out_mnist(mnist_and_num)\n",
        "        mnist_num_sum = self.out_adder(mnist_and_num)\n",
        "\n",
        "        return F.log_softmax(mnist), F.log_softmax(mnist_num_sum)\n",
        "        #return mnist, mnist_num_sum"
      ],
      "execution_count": 26,
      "outputs": []
    },
    {
      "cell_type": "code",
      "metadata": {
        "colab": {
          "base_uri": "https://localhost:8080/"
        },
        "id": "ZkepUAjwwQy7",
        "outputId": "1cf4983e-d09a-42d2-dfc5-c56b8e7e665b"
      },
      "source": [
        "!pip install torchsummary\n",
        "from torchsummary import summary\n",
        "use_cuda = torch.cuda.is_available()\n",
        "device = torch.device(\"cuda\" if use_cuda else \"cpu\")\n",
        "model = Net().to(device)\n",
        "# print a summary of the model for an input of size 28x28x1 (l x w xchannels)\n",
        "#summary(model, input_size=[(1, 28, 28),(1,10)])\n",
        "print(model)"
      ],
      "execution_count": 34,
      "outputs": [
        {
          "output_type": "stream",
          "name": "stdout",
          "text": [
            "Requirement already satisfied: torchsummary in /usr/local/lib/python3.7/dist-packages (1.5.1)\n",
            "Net(\n",
            "  (conv1): Conv2d(1, 8, kernel_size=(3, 3), stride=(1, 1), padding=(1, 1))\n",
            "  (conv2): Conv2d(8, 16, kernel_size=(3, 3), stride=(1, 1), padding=(1, 1))\n",
            "  (pool1): MaxPool2d(kernel_size=2, stride=2, padding=0, dilation=1, ceil_mode=False)\n",
            "  (conv3): Conv2d(16, 16, kernel_size=(3, 3), stride=(1, 1), padding=(1, 1))\n",
            "  (conv4): Conv2d(16, 16, kernel_size=(3, 3), stride=(1, 1), padding=(1, 1))\n",
            "  (pool2): MaxPool2d(kernel_size=2, stride=2, padding=0, dilation=1, ceil_mode=False)\n",
            "  (fc1): Linear(in_features=794, out_features=120, bias=True)\n",
            "  (fc2): Linear(in_features=120, out_features=60, bias=True)\n",
            "  (out_mnist): Linear(in_features=60, out_features=10, bias=True)\n",
            "  (out_adder): Linear(in_features=60, out_features=19, bias=True)\n",
            ")\n"
          ]
        }
      ]
    },
    {
      "cell_type": "code",
      "metadata": {
        "id": "CPjIspYjwSNG"
      },
      "source": [
        "\n",
        "torch.manual_seed(1)\n",
        "batch_size = 1000\n",
        "\n",
        "kwargs = {'num_workers': 1, 'pin_memory': True} if use_cuda else {}\n",
        "# data loader for training ???.  download=True means download the dataset (training images and labels for images) if the dataset wasn't downloaded already\n",
        "train_loader = torch.utils.data.DataLoader(\n",
        "    datasets.MNIST('../data', train=True, download=True,\n",
        "                    transform=transforms.Compose([\n",
        "                        transforms.ToTensor(),\n",
        "                        transforms.Normalize((0.1307,), (0.3081,))  # need to understand why we normalize?  even without normalization, accuracy was still 97%\n",
        "                    ])),\n",
        "    batch_size=batch_size, shuffle=True, **kwargs)\n",
        "# data loader for testing???  download=True means download the dataset (training images and labels for images) if the dataset wasn't downloaded already\n",
        "test_loader = torch.utils.data.DataLoader(\n",
        "    datasets.MNIST('../data', train=False, transform=transforms.Compose([\n",
        "                        transforms.ToTensor(),\n",
        "                        transforms.Normalize((0.1307,), (0.3081,))\n",
        "                    ])),\n",
        "    batch_size=batch_size, shuffle=True, **kwargs)\n"
      ],
      "execution_count": 18,
      "outputs": []
    },
    {
      "cell_type": "code",
      "metadata": {
        "id": "TASiRqwAwazW"
      },
      "source": [
        "# Decorate an iterable object, returning an iterator which acts exactly like the original iterable, but prints a dynamically updating progressbar every time a value is requested.\n",
        "from tqdm import tqdm\n",
        "import IPython.core.debugger\n",
        "\n",
        "# this is the function that trains the specified 'model' using the 'train_loader', optimizer and others\n",
        "def train(model, device, train_loader, optimizer, epoch):\n",
        "    model.train()\n",
        "    pbar = tqdm(train_loader)\n",
        "    epoch_loss = 0; epoch_correct = 0; epoch_adder_loss=0; epoch_sum_correct = 0; epoch_mnist_loss=0; epoch_mnist_correct=0\n",
        "    for batch_idx, (data, target) in enumerate(pbar):  # target is the 'label' for this image..\n",
        "        data, target = data.to(device), target.to(device)\n",
        "\n",
        "        # generate random ints\n",
        "        # Returns a tensor filled with random integers generated uniformly between low (inclusive) and high (exclusive).\n",
        "        rand_digits = torch.randint(low=0, high=10, size=(batch_size,)) # batch_size rand ints\n",
        "        # Takes LongTensor with index values of shape (*) and returns a tensor of shape (*, num_classes) that have zeros everywhere except where the index of last dimension matches the corresponding value of the input tensor, in which case it will be 1.\n",
        "        rand_digits_one = F.one_hot(rand_digits, num_classes=10) # one hot encoding\n",
        "        rand_digits_one = rand_digits_one.to(device)\n",
        "        rand_digits = rand_digits.to(device)        \n",
        "\n",
        "        optimizer.zero_grad()  # for each batch, zero the gradient (from processing of prior batch)\n",
        "        \n",
        "        output, summation = model(data, rand_digits_one)   # predict using the model for the given data (batch); for each batch, output.shape=torch.Size([128, 10]); for last batch it is output.shape=torch.Size([96, 10])\n",
        "        \n",
        "        #if (batch_idx in (0, 468)): \n",
        "        #  print(f\"\\noutput.shape={output.shape}; prediction for first image in batch: output[0]={output[0]}\")  #print 'output' from 1st and last\n",
        "        \n",
        "        # The negative log likelihood loss.  The negative log likelihood loss. It is useful to train a classification problem with C classes. \n",
        "        # https://pytorch.org/docs/master/generated/torch.nn.functional.nll_loss.html\n",
        "        mnist_loss = F.nll_loss(output, target)  # compute the loss\n",
        "        adder_loss = F.nll_loss(summation, rand_digits + target) # Calculate Loss\n",
        "        #mnist_loss = F.cross_entropy(output, target)  # compute the loss\n",
        "        #adder_loss = F.cross_entropy(summation, rand_digits + target) # Calculate Loss\n",
        "\n",
        "        loss = mnist_loss + adder_loss\n",
        "\n",
        "        loss.backward()   # do backward propogation; update gradients of tensors in dynamic computation graph, starting from 'loss' node in the graph..\n",
        "        \n",
        "        optimizer.step()  # use the updated gradients to adjust the weight of each kernel\n",
        "        \n",
        "        pred_mnist = output.argmax(dim=1, keepdim=True)  # get the index of the max log-probability using argmax(); this index represents the predicted digit\n",
        "        #  get the correct number of predictions for this batch\n",
        "        mnist_correct = pred_mnist.eq(target.view_as(pred_mnist)).sum().item()   # tensor.eq() method: computes if one element of a tensor is equal to the corresponding element of another tensor;\n",
        "\n",
        "        pred_sum = summation.argmax(dim=1, keepdim=True) # get the index of the max log-probability using argmax(); this index represents the sum of the two numbers\n",
        "        sum_correct = pred_sum.eq((rand_digits + target).view_as(pred_sum)).sum().item()   # tensor.eq() method: computes if one element of a tensor is equal to the corresponding element of another tensor;  \n",
        "        #IPython.core.debugger.set_trace()\n",
        "\n",
        "        epoch_mnist_loss += mnist_loss\n",
        "        epoch_mnist_correct += mnist_correct\n",
        "        epoch_adder_loss += adder_loss\n",
        "        epoch_sum_correct += sum_correct\n",
        "\n",
        "        pbar.set_description(desc= f'Training phase: batch_id={batch_idx}; total loss={loss.item()}; mnist loss={mnist_loss.item()}; adder loss={adder_loss.item()}; epoch_mnist_correct={epoch_mnist_correct}/{len(train_loader.dataset)}; epoch_sum_correct={epoch_sum_correct}/{len(train_loader.dataset)}')\n",
        "\n",
        "    print(f'Training set: Average mnist loss: {epoch_mnist_loss/len(train_loader.dataset):.4f}; mnist Accuracy: {epoch_mnist_correct}/{len(train_loader.dataset)}   {100. * epoch_mnist_correct / len(train_loader.dataset):.4f}%; adder Accuracy: {epoch_sum_correct}/{len(train_loader.dataset)}   {100. * epoch_sum_correct / len(train_loader.dataset):.4f}%')\n",
        "\n",
        "# this functions tests the trained model 'model' by comparing the predictions done by the trained model with the label for the image in the test data\n",
        "def test(model, device, test_loader):\n",
        "    model.eval()\n",
        "    test_loss = 0; test_sum_loss = 0\n",
        "    correct = 0; sum_correct = 0\n",
        "    pbar = tqdm(test_loader)\n",
        "    with torch.no_grad():   # during testing/inferencing, backprop is not needed; so disable autograd.\n",
        "        for data, target in pbar:   # target is the 'label' for this image..\n",
        "            data, target = data.to(device), target.to(device)\n",
        "\n",
        "            # generate random ints\n",
        "            # Returns a tensor filled with random integers generated uniformly between low (inclusive) and high (exclusive).\n",
        "            rand_digits = torch.randint(low=0, high=10, size=(batch_size,)) # batch_size rand ints\n",
        "            # Takes LongTensor with index values of shape (*) and returns a tensor of shape (*, num_classes) that have zeros everywhere except where the index of last dimension matches the corresponding value of the input tensor, in which case it will be 1.\n",
        "            rand_digits_one = F.one_hot(rand_digits, num_classes=10) # one hot encoding\n",
        "            rand_digits_one = rand_digits_one.to(device)\n",
        "            rand_digits = rand_digits.to(device)        \n",
        "\n",
        "            output, summation = model(data, rand_digits_one)   # make the prediction for the given test data\n",
        "            \n",
        "            test_loss += F.nll_loss(output, target, reduction='sum').item()  # sum up batch loss\n",
        "            test_sum_loss += F.nll_loss(summation, rand_digits + target, reduction='sum').item()\n",
        "\n",
        "            pred = output.argmax(dim=1, keepdim=True)  # get the index of the max log-probability using argmax(); this index represents the predicted digit\n",
        "            pred_sum = summation.argmax(dim=1, keepdim=True)  # get the index of the max log-probability using argmax(); this index represents the predicted digit\n",
        "\n",
        "            #  get the correct number of predictions for this batch\n",
        "            correct += pred.eq(target.view_as(pred)).sum().item()   # tensor.eq() method: computes if one element of a tensor is equal to the corresponding element of another tensor;\n",
        "            sum_correct += pred_sum.eq((rand_digits + target).view_as(pred_sum)).sum().item()   # tensor.eq() method: computes if one element of a tensor is equal to the corresponding element of another tensor;  \n",
        "\n",
        "            pbar.set_description(desc=f'Testing phase: total_test_loss={test_loss + test_sum_loss}; total_correct={correct}/{len(test_loader.dataset)}; total_sum_correct={sum_correct}/{len(test_loader.dataset)}')\n",
        "\n",
        "    test_loss /= len(test_loader.dataset)\n",
        "\n",
        "    print('Test set: Average loss: {:.4f}, Accuracy: {}/{} ({:.0f}%)\\n'.format(\n",
        "        test_loss, correct, len(test_loader.dataset),\n",
        "        100. * correct / len(test_loader.dataset)))"
      ],
      "execution_count": 27,
      "outputs": []
    },
    {
      "cell_type": "code",
      "metadata": {
        "id": "HQfJu3S2weZ2",
        "colab": {
          "base_uri": "https://localhost:8080/"
        },
        "outputId": "defbae50-28e3-42b1-ee1c-be39bbf53f78"
      },
      "source": [
        "\n",
        "model = Net().to(device)\n",
        "optimizer = optim.SGD(model.parameters(), lr=0.01, momentum=0.9)\n",
        "#optimizer = optim.Adam(model.parameters(), lr=0.005)\n",
        "\n",
        "\n",
        "once=True\n",
        "for epoch in range(50):\n",
        "    print(f\"Epoch: {epoch+1}\" )\n",
        "    train(model, device, train_loader, optimizer, epoch)\n",
        "    test(model, device, test_loader)\n",
        "    once=False\n"
      ],
      "execution_count": 28,
      "outputs": [
        {
          "output_type": "stream",
          "name": "stdout",
          "text": [
            "Epoch: 1\n"
          ]
        },
        {
          "output_type": "stream",
          "name": "stderr",
          "text": [
            "  0%|          | 0/60 [00:00<?, ?it/s]/usr/local/lib/python3.7/dist-packages/ipykernel_launcher.py:69: UserWarning: Implicit dimension choice for log_softmax has been deprecated. Change the call to include dim=X as an argument.\n",
            "Training phase: batch_id=59; total loss=5.173794746398926; mnist loss=2.3016982078552246; adder loss=2.872096538543701; epoch_mnist_correct=6742/60000; epoch_sum_correct=5561/60000: 100%|██████████| 60/60 [00:08<00:00,  6.90it/s]\n"
          ]
        },
        {
          "output_type": "stream",
          "name": "stdout",
          "text": [
            "Training set: Average mnist loss: 0.0023; mnist Accuracy: 6742/60000   11.2367%; adder Accuracy: 5561/60000   9.2683%\n"
          ]
        },
        {
          "output_type": "stream",
          "name": "stderr",
          "text": [
            "Testing phase: total_test_loss=51676.59521484375; total_correct=1135/10000; total_sum_correct=1002/10000: 100%|██████████| 10/10 [00:01<00:00,  6.51it/s]\n"
          ]
        },
        {
          "output_type": "stream",
          "name": "stdout",
          "text": [
            "Test set: Average loss: 2.3011, Accuracy: 1135/10000 (11%)\n",
            "\n",
            "Epoch: 2\n"
          ]
        },
        {
          "output_type": "stream",
          "name": "stderr",
          "text": [
            "Training phase: batch_id=59; total loss=5.022570610046387; mnist loss=2.263780355453491; adder loss=2.7587902545928955; epoch_mnist_correct=8722/60000; epoch_sum_correct=5987/60000: 100%|██████████| 60/60 [00:08<00:00,  6.75it/s]\n"
          ]
        },
        {
          "output_type": "stream",
          "name": "stdout",
          "text": [
            "Training set: Average mnist loss: 0.0023; mnist Accuracy: 8722/60000   14.5367%; adder Accuracy: 5987/60000   9.9783%\n"
          ]
        },
        {
          "output_type": "stream",
          "name": "stderr",
          "text": [
            "Testing phase: total_test_loss=50598.424560546875; total_correct=2335/10000; total_sum_correct=1012/10000: 100%|██████████| 10/10 [00:01<00:00,  6.87it/s]\n"
          ]
        },
        {
          "output_type": "stream",
          "name": "stdout",
          "text": [
            "Test set: Average loss: 2.2610, Accuracy: 2335/10000 (23%)\n",
            "\n",
            "Epoch: 3\n"
          ]
        },
        {
          "output_type": "stream",
          "name": "stderr",
          "text": [
            "Training phase: batch_id=59; total loss=3.1084725856781006; mnist loss=0.4770277142524719; adder loss=2.6314449310302734; epoch_mnist_correct=34875/60000; epoch_sum_correct=5783/60000: 100%|██████████| 60/60 [00:08<00:00,  6.79it/s]\n"
          ]
        },
        {
          "output_type": "stream",
          "name": "stdout",
          "text": [
            "Training set: Average mnist loss: 0.0014; mnist Accuracy: 34875/60000   58.1250%; adder Accuracy: 5783/60000   9.6383%\n"
          ]
        },
        {
          "output_type": "stream",
          "name": "stderr",
          "text": [
            "Testing phase: total_test_loss=31463.779846191406; total_correct=8478/10000; total_sum_correct=954/10000: 100%|██████████| 10/10 [00:01<00:00,  6.64it/s]\n"
          ]
        },
        {
          "output_type": "stream",
          "name": "stdout",
          "text": [
            "Test set: Average loss: 0.4943, Accuracy: 8478/10000 (85%)\n",
            "\n",
            "Epoch: 4\n"
          ]
        },
        {
          "output_type": "stream",
          "name": "stderr",
          "text": [
            "Training phase: batch_id=59; total loss=2.783463716506958; mnist loss=0.2962043881416321; adder loss=2.4872593879699707; epoch_mnist_correct=53109/60000; epoch_sum_correct=5816/60000: 100%|██████████| 60/60 [00:08<00:00,  6.76it/s]\n"
          ]
        },
        {
          "output_type": "stream",
          "name": "stdout",
          "text": [
            "Training set: Average mnist loss: 0.0004; mnist Accuracy: 53109/60000   88.5150%; adder Accuracy: 5816/60000   9.6933%\n"
          ]
        },
        {
          "output_type": "stream",
          "name": "stderr",
          "text": [
            "Testing phase: total_test_loss=27332.950958251953; total_correct=9216/10000; total_sum_correct=1035/10000: 100%|██████████| 10/10 [00:01<00:00,  6.86it/s]\n"
          ]
        },
        {
          "output_type": "stream",
          "name": "stdout",
          "text": [
            "Test set: Average loss: 0.2565, Accuracy: 9216/10000 (92%)\n",
            "\n",
            "Epoch: 5\n"
          ]
        },
        {
          "output_type": "stream",
          "name": "stderr",
          "text": [
            "Training phase: batch_id=59; total loss=2.5851283073425293; mnist loss=0.15113674104213715; adder loss=2.4339916706085205; epoch_mnist_correct=56170/60000; epoch_sum_correct=6111/60000: 100%|██████████| 60/60 [00:08<00:00,  6.77it/s]\n"
          ]
        },
        {
          "output_type": "stream",
          "name": "stdout",
          "text": [
            "Training set: Average mnist loss: 0.0002; mnist Accuracy: 56170/60000   93.6167%; adder Accuracy: 6111/60000   10.1850%\n"
          ]
        },
        {
          "output_type": "stream",
          "name": "stderr",
          "text": [
            "Testing phase: total_test_loss=25720.28359222412; total_correct=9541/10000; total_sum_correct=1055/10000: 100%|██████████| 10/10 [00:01<00:00,  6.70it/s]\n"
          ]
        },
        {
          "output_type": "stream",
          "name": "stdout",
          "text": [
            "Test set: Average loss: 0.1468, Accuracy: 9541/10000 (95%)\n",
            "\n",
            "Epoch: 6\n"
          ]
        },
        {
          "output_type": "stream",
          "name": "stderr",
          "text": [
            "Training phase: batch_id=59; total loss=2.5317816734313965; mnist loss=0.13415315747261047; adder loss=2.3976285457611084; epoch_mnist_correct=57529/60000; epoch_sum_correct=6126/60000: 100%|██████████| 60/60 [00:08<00:00,  6.77it/s]\n"
          ]
        },
        {
          "output_type": "stream",
          "name": "stdout",
          "text": [
            "Training set: Average mnist loss: 0.0001; mnist Accuracy: 57529/60000   95.8817%; adder Accuracy: 6126/60000   10.2100%\n"
          ]
        },
        {
          "output_type": "stream",
          "name": "stderr",
          "text": [
            "Testing phase: total_test_loss=25248.069366455078; total_correct=9651/10000; total_sum_correct=1003/10000: 100%|██████████| 10/10 [00:01<00:00,  6.54it/s]\n"
          ]
        },
        {
          "output_type": "stream",
          "name": "stdout",
          "text": [
            "Test set: Average loss: 0.1082, Accuracy: 9651/10000 (97%)\n",
            "\n",
            "Epoch: 7\n"
          ]
        },
        {
          "output_type": "stream",
          "name": "stderr",
          "text": [
            "Training phase: batch_id=59; total loss=2.492763042449951; mnist loss=0.09969289600849152; adder loss=2.3930702209472656; epoch_mnist_correct=58032/60000; epoch_sum_correct=6106/60000: 100%|██████████| 60/60 [00:08<00:00,  6.79it/s]\n"
          ]
        },
        {
          "output_type": "stream",
          "name": "stdout",
          "text": [
            "Training set: Average mnist loss: 0.0001; mnist Accuracy: 58032/60000   96.7200%; adder Accuracy: 6106/60000   10.1767%\n"
          ]
        },
        {
          "output_type": "stream",
          "name": "stderr",
          "text": [
            "Testing phase: total_test_loss=24739.07160949707; total_correct=9732/10000; total_sum_correct=998/10000: 100%|██████████| 10/10 [00:01<00:00,  6.69it/s]\n"
          ]
        },
        {
          "output_type": "stream",
          "name": "stdout",
          "text": [
            "Test set: Average loss: 0.0852, Accuracy: 9732/10000 (97%)\n",
            "\n",
            "Epoch: 8\n"
          ]
        },
        {
          "output_type": "stream",
          "name": "stderr",
          "text": [
            "Training phase: batch_id=59; total loss=2.476905345916748; mnist loss=0.08426901698112488; adder loss=2.392636299133301; epoch_mnist_correct=58349/60000; epoch_sum_correct=6084/60000: 100%|██████████| 60/60 [00:08<00:00,  6.87it/s]\n"
          ]
        },
        {
          "output_type": "stream",
          "name": "stdout",
          "text": [
            "Training set: Average mnist loss: 0.0001; mnist Accuracy: 58349/60000   97.2483%; adder Accuracy: 6084/60000   10.1400%\n"
          ]
        },
        {
          "output_type": "stream",
          "name": "stderr",
          "text": [
            "Testing phase: total_test_loss=24633.574657440186; total_correct=9770/10000; total_sum_correct=1031/10000: 100%|██████████| 10/10 [00:01<00:00,  6.83it/s]\n"
          ]
        },
        {
          "output_type": "stream",
          "name": "stdout",
          "text": [
            "Test set: Average loss: 0.0739, Accuracy: 9770/10000 (98%)\n",
            "\n",
            "Epoch: 9\n"
          ]
        },
        {
          "output_type": "stream",
          "name": "stderr",
          "text": [
            "Training phase: batch_id=59; total loss=2.4744372367858887; mnist loss=0.09755083173513412; adder loss=2.3768863677978516; epoch_mnist_correct=58605/60000; epoch_sum_correct=6136/60000: 100%|██████████| 60/60 [00:08<00:00,  6.71it/s]\n"
          ]
        },
        {
          "output_type": "stream",
          "name": "stdout",
          "text": [
            "Training set: Average mnist loss: 0.0001; mnist Accuracy: 58605/60000   97.6750%; adder Accuracy: 6136/60000   10.2267%\n"
          ]
        },
        {
          "output_type": "stream",
          "name": "stderr",
          "text": [
            "Testing phase: total_test_loss=24426.932220458984; total_correct=9796/10000; total_sum_correct=1024/10000: 100%|██████████| 10/10 [00:01<00:00,  6.59it/s]\n"
          ]
        },
        {
          "output_type": "stream",
          "name": "stdout",
          "text": [
            "Test set: Average loss: 0.0660, Accuracy: 9796/10000 (98%)\n",
            "\n",
            "Epoch: 10\n"
          ]
        },
        {
          "output_type": "stream",
          "name": "stderr",
          "text": [
            "Training phase: batch_id=59; total loss=2.4423787593841553; mnist loss=0.05511258915066719; adder loss=2.387266159057617; epoch_mnist_correct=58773/60000; epoch_sum_correct=6278/60000: 100%|██████████| 60/60 [00:08<00:00,  6.87it/s]\n"
          ]
        },
        {
          "output_type": "stream",
          "name": "stdout",
          "text": [
            "Training set: Average mnist loss: 0.0001; mnist Accuracy: 58773/60000   97.9550%; adder Accuracy: 6278/60000   10.4633%\n"
          ]
        },
        {
          "output_type": "stream",
          "name": "stderr",
          "text": [
            "Testing phase: total_test_loss=24323.77222442627; total_correct=9816/10000; total_sum_correct=1020/10000: 100%|██████████| 10/10 [00:01<00:00,  6.86it/s]\n"
          ]
        },
        {
          "output_type": "stream",
          "name": "stdout",
          "text": [
            "Test set: Average loss: 0.0588, Accuracy: 9816/10000 (98%)\n",
            "\n",
            "Epoch: 11\n"
          ]
        },
        {
          "output_type": "stream",
          "name": "stderr",
          "text": [
            "Training phase: batch_id=59; total loss=2.4294891357421875; mnist loss=0.06159986928105354; adder loss=2.367889165878296; epoch_mnist_correct=58934/60000; epoch_sum_correct=6253/60000: 100%|██████████| 60/60 [00:08<00:00,  6.85it/s]\n"
          ]
        },
        {
          "output_type": "stream",
          "name": "stdout",
          "text": [
            "Training set: Average mnist loss: 0.0001; mnist Accuracy: 58934/60000   98.2233%; adder Accuracy: 6253/60000   10.4217%\n"
          ]
        },
        {
          "output_type": "stream",
          "name": "stderr",
          "text": [
            "Testing phase: total_test_loss=24199.3712310791; total_correct=9851/10000; total_sum_correct=1043/10000: 100%|██████████| 10/10 [00:01<00:00,  6.82it/s]\n"
          ]
        },
        {
          "output_type": "stream",
          "name": "stdout",
          "text": [
            "Test set: Average loss: 0.0524, Accuracy: 9851/10000 (99%)\n",
            "\n",
            "Epoch: 12\n"
          ]
        },
        {
          "output_type": "stream",
          "name": "stderr",
          "text": [
            "Training phase: batch_id=59; total loss=2.4121241569519043; mnist loss=0.04655783250927925; adder loss=2.3655662536621094; epoch_mnist_correct=58952/60000; epoch_sum_correct=6210/60000: 100%|██████████| 60/60 [00:08<00:00,  6.74it/s]\n"
          ]
        },
        {
          "output_type": "stream",
          "name": "stdout",
          "text": [
            "Training set: Average mnist loss: 0.0001; mnist Accuracy: 58952/60000   98.2533%; adder Accuracy: 6210/60000   10.3500%\n"
          ]
        },
        {
          "output_type": "stream",
          "name": "stderr",
          "text": [
            "Testing phase: total_test_loss=24141.940502166748; total_correct=9853/10000; total_sum_correct=1017/10000: 100%|██████████| 10/10 [00:01<00:00,  6.65it/s]\n"
          ]
        },
        {
          "output_type": "stream",
          "name": "stdout",
          "text": [
            "Test set: Average loss: 0.0499, Accuracy: 9853/10000 (99%)\n",
            "\n",
            "Epoch: 13\n"
          ]
        },
        {
          "output_type": "stream",
          "name": "stderr",
          "text": [
            "Training phase: batch_id=59; total loss=2.4372594356536865; mnist loss=0.05527159944176674; adder loss=2.3819878101348877; epoch_mnist_correct=59072/60000; epoch_sum_correct=6203/60000: 100%|██████████| 60/60 [00:08<00:00,  6.84it/s]\n"
          ]
        },
        {
          "output_type": "stream",
          "name": "stdout",
          "text": [
            "Training set: Average mnist loss: 0.0001; mnist Accuracy: 59072/60000   98.4533%; adder Accuracy: 6203/60000   10.3383%\n"
          ]
        },
        {
          "output_type": "stream",
          "name": "stderr",
          "text": [
            "Testing phase: total_test_loss=24161.696170806885; total_correct=9832/10000; total_sum_correct=1038/10000: 100%|██████████| 10/10 [00:01<00:00,  6.83it/s]\n"
          ]
        },
        {
          "output_type": "stream",
          "name": "stdout",
          "text": [
            "Test set: Average loss: 0.0537, Accuracy: 9832/10000 (98%)\n",
            "\n",
            "Epoch: 14\n"
          ]
        },
        {
          "output_type": "stream",
          "name": "stderr",
          "text": [
            "Training phase: batch_id=59; total loss=2.3993871212005615; mnist loss=0.04257349669933319; adder loss=2.356813669204712; epoch_mnist_correct=59123/60000; epoch_sum_correct=6184/60000: 100%|██████████| 60/60 [00:08<00:00,  6.80it/s]\n"
          ]
        },
        {
          "output_type": "stream",
          "name": "stdout",
          "text": [
            "Training set: Average mnist loss: 0.0000; mnist Accuracy: 59123/60000   98.5383%; adder Accuracy: 6184/60000   10.3067%\n"
          ]
        },
        {
          "output_type": "stream",
          "name": "stderr",
          "text": [
            "Testing phase: total_test_loss=24052.57509994507; total_correct=9846/10000; total_sum_correct=988/10000: 100%|██████████| 10/10 [00:01<00:00,  6.72it/s]\n"
          ]
        },
        {
          "output_type": "stream",
          "name": "stdout",
          "text": [
            "Test set: Average loss: 0.0496, Accuracy: 9846/10000 (98%)\n",
            "\n",
            "Epoch: 15\n"
          ]
        },
        {
          "output_type": "stream",
          "name": "stderr",
          "text": [
            "Training phase: batch_id=59; total loss=2.386643409729004; mnist loss=0.031900547444820404; adder loss=2.3547427654266357; epoch_mnist_correct=59191/60000; epoch_sum_correct=6244/60000: 100%|██████████| 60/60 [00:08<00:00,  6.74it/s]\n"
          ]
        },
        {
          "output_type": "stream",
          "name": "stdout",
          "text": [
            "Training set: Average mnist loss: 0.0000; mnist Accuracy: 59191/60000   98.6517%; adder Accuracy: 6244/60000   10.4067%\n"
          ]
        },
        {
          "output_type": "stream",
          "name": "stderr",
          "text": [
            "Testing phase: total_test_loss=24033.291118621826; total_correct=9863/10000; total_sum_correct=983/10000: 100%|██████████| 10/10 [00:01<00:00,  6.64it/s]\n"
          ]
        },
        {
          "output_type": "stream",
          "name": "stdout",
          "text": [
            "Test set: Average loss: 0.0442, Accuracy: 9863/10000 (99%)\n",
            "\n",
            "Epoch: 16\n"
          ]
        },
        {
          "output_type": "stream",
          "name": "stderr",
          "text": [
            "Training phase: batch_id=59; total loss=2.3876893520355225; mnist loss=0.035931456834077835; adder loss=2.3517580032348633; epoch_mnist_correct=59272/60000; epoch_sum_correct=6212/60000: 100%|██████████| 60/60 [00:08<00:00,  6.74it/s]\n"
          ]
        },
        {
          "output_type": "stream",
          "name": "stdout",
          "text": [
            "Training set: Average mnist loss: 0.0000; mnist Accuracy: 59272/60000   98.7867%; adder Accuracy: 6212/60000   10.3533%\n"
          ]
        },
        {
          "output_type": "stream",
          "name": "stderr",
          "text": [
            "Testing phase: total_test_loss=23899.405807495117; total_correct=9862/10000; total_sum_correct=1062/10000: 100%|██████████| 10/10 [00:01<00:00,  6.83it/s]\n"
          ]
        },
        {
          "output_type": "stream",
          "name": "stdout",
          "text": [
            "Test set: Average loss: 0.0429, Accuracy: 9862/10000 (99%)\n",
            "\n",
            "Epoch: 17\n"
          ]
        },
        {
          "output_type": "stream",
          "name": "stderr",
          "text": [
            "Training phase: batch_id=59; total loss=2.3950533866882324; mnist loss=0.041085146367549896; adder loss=2.3539681434631348; epoch_mnist_correct=59319/60000; epoch_sum_correct=6245/60000: 100%|██████████| 60/60 [00:08<00:00,  6.72it/s]\n"
          ]
        },
        {
          "output_type": "stream",
          "name": "stdout",
          "text": [
            "Training set: Average mnist loss: 0.0000; mnist Accuracy: 59319/60000   98.8650%; adder Accuracy: 6245/60000   10.4083%\n"
          ]
        },
        {
          "output_type": "stream",
          "name": "stderr",
          "text": [
            "Testing phase: total_test_loss=23964.97843170166; total_correct=9858/10000; total_sum_correct=1017/10000: 100%|██████████| 10/10 [00:01<00:00,  6.51it/s]\n"
          ]
        },
        {
          "output_type": "stream",
          "name": "stdout",
          "text": [
            "Test set: Average loss: 0.0450, Accuracy: 9858/10000 (99%)\n",
            "\n",
            "Epoch: 18\n"
          ]
        },
        {
          "output_type": "stream",
          "name": "stderr",
          "text": [
            "Training phase: batch_id=59; total loss=2.3664634227752686; mnist loss=0.024942336603999138; adder loss=2.3415210247039795; epoch_mnist_correct=59358/60000; epoch_sum_correct=6278/60000: 100%|██████████| 60/60 [00:08<00:00,  6.76it/s]\n"
          ]
        },
        {
          "output_type": "stream",
          "name": "stdout",
          "text": [
            "Training set: Average mnist loss: 0.0000; mnist Accuracy: 59358/60000   98.9300%; adder Accuracy: 6278/60000   10.4633%\n"
          ]
        },
        {
          "output_type": "stream",
          "name": "stderr",
          "text": [
            "Testing phase: total_test_loss=23826.99182701111; total_correct=9881/10000; total_sum_correct=1058/10000: 100%|██████████| 10/10 [00:01<00:00,  6.80it/s]\n"
          ]
        },
        {
          "output_type": "stream",
          "name": "stdout",
          "text": [
            "Test set: Average loss: 0.0402, Accuracy: 9881/10000 (99%)\n",
            "\n",
            "Epoch: 19\n"
          ]
        },
        {
          "output_type": "stream",
          "name": "stderr",
          "text": [
            "Training phase: batch_id=59; total loss=2.3538033962249756; mnist loss=0.020663335919380188; adder loss=2.3331401348114014; epoch_mnist_correct=59350/60000; epoch_sum_correct=6455/60000: 100%|██████████| 60/60 [00:08<00:00,  6.73it/s]\n"
          ]
        },
        {
          "output_type": "stream",
          "name": "stdout",
          "text": [
            "Training set: Average mnist loss: 0.0000; mnist Accuracy: 59350/60000   98.9167%; adder Accuracy: 6455/60000   10.7583%\n"
          ]
        },
        {
          "output_type": "stream",
          "name": "stderr",
          "text": [
            "Testing phase: total_test_loss=23851.091793060303; total_correct=9867/10000; total_sum_correct=1069/10000: 100%|██████████| 10/10 [00:01<00:00,  6.76it/s]\n"
          ]
        },
        {
          "output_type": "stream",
          "name": "stdout",
          "text": [
            "Test set: Average loss: 0.0397, Accuracy: 9867/10000 (99%)\n",
            "\n",
            "Epoch: 20\n"
          ]
        },
        {
          "output_type": "stream",
          "name": "stderr",
          "text": [
            "Training phase: batch_id=59; total loss=2.3814945220947266; mnist loss=0.04371173307299614; adder loss=2.337782859802246; epoch_mnist_correct=59409/60000; epoch_sum_correct=6413/60000: 100%|██████████| 60/60 [00:08<00:00,  6.73it/s]\n"
          ]
        },
        {
          "output_type": "stream",
          "name": "stdout",
          "text": [
            "Training set: Average mnist loss: 0.0000; mnist Accuracy: 59409/60000   99.0150%; adder Accuracy: 6413/60000   10.6883%\n"
          ]
        },
        {
          "output_type": "stream",
          "name": "stderr",
          "text": [
            "Testing phase: total_test_loss=23792.540048599243; total_correct=9864/10000; total_sum_correct=1103/10000: 100%|██████████| 10/10 [00:01<00:00,  6.76it/s]\n"
          ]
        },
        {
          "output_type": "stream",
          "name": "stdout",
          "text": [
            "Test set: Average loss: 0.0430, Accuracy: 9864/10000 (99%)\n",
            "\n",
            "Epoch: 21\n"
          ]
        },
        {
          "output_type": "stream",
          "name": "stderr",
          "text": [
            "Training phase: batch_id=59; total loss=2.3714029788970947; mnist loss=0.03716318681836128; adder loss=2.3342397212982178; epoch_mnist_correct=59429/60000; epoch_sum_correct=6586/60000: 100%|██████████| 60/60 [00:08<00:00,  6.71it/s]\n"
          ]
        },
        {
          "output_type": "stream",
          "name": "stdout",
          "text": [
            "Training set: Average mnist loss: 0.0000; mnist Accuracy: 59429/60000   99.0483%; adder Accuracy: 6586/60000   10.9767%\n"
          ]
        },
        {
          "output_type": "stream",
          "name": "stderr",
          "text": [
            "Testing phase: total_test_loss=23754.934301376343; total_correct=9888/10000; total_sum_correct=1085/10000: 100%|██████████| 10/10 [00:01<00:00,  6.70it/s]\n"
          ]
        },
        {
          "output_type": "stream",
          "name": "stdout",
          "text": [
            "Test set: Average loss: 0.0379, Accuracy: 9888/10000 (99%)\n",
            "\n",
            "Epoch: 22\n"
          ]
        },
        {
          "output_type": "stream",
          "name": "stderr",
          "text": [
            "Training phase: batch_id=59; total loss=2.3678364753723145; mnist loss=0.02661270648241043; adder loss=2.34122371673584; epoch_mnist_correct=59448/60000; epoch_sum_correct=6710/60000: 100%|██████████| 60/60 [00:09<00:00,  6.63it/s]\n"
          ]
        },
        {
          "output_type": "stream",
          "name": "stdout",
          "text": [
            "Training set: Average mnist loss: 0.0000; mnist Accuracy: 59448/60000   99.0800%; adder Accuracy: 6710/60000   11.1833%\n"
          ]
        },
        {
          "output_type": "stream",
          "name": "stderr",
          "text": [
            "Testing phase: total_test_loss=23694.72494506836; total_correct=9884/10000; total_sum_correct=1108/10000: 100%|██████████| 10/10 [00:01<00:00,  6.63it/s]\n"
          ]
        },
        {
          "output_type": "stream",
          "name": "stdout",
          "text": [
            "Test set: Average loss: 0.0373, Accuracy: 9884/10000 (99%)\n",
            "\n",
            "Epoch: 23\n"
          ]
        },
        {
          "output_type": "stream",
          "name": "stderr",
          "text": [
            "Training phase: batch_id=59; total loss=2.3320090770721436; mnist loss=0.019580906257033348; adder loss=2.3124282360076904; epoch_mnist_correct=59489/60000; epoch_sum_correct=6852/60000: 100%|██████████| 60/60 [00:08<00:00,  6.79it/s]\n"
          ]
        },
        {
          "output_type": "stream",
          "name": "stdout",
          "text": [
            "Training set: Average mnist loss: 0.0000; mnist Accuracy: 59489/60000   99.1483%; adder Accuracy: 6852/60000   11.4200%\n"
          ]
        },
        {
          "output_type": "stream",
          "name": "stderr",
          "text": [
            "Testing phase: total_test_loss=23557.510734558105; total_correct=9879/10000; total_sum_correct=1167/10000: 100%|██████████| 10/10 [00:01<00:00,  6.61it/s]\n"
          ]
        },
        {
          "output_type": "stream",
          "name": "stdout",
          "text": [
            "Test set: Average loss: 0.0373, Accuracy: 9879/10000 (99%)\n",
            "\n",
            "Epoch: 24\n"
          ]
        },
        {
          "output_type": "stream",
          "name": "stderr",
          "text": [
            "Training phase: batch_id=59; total loss=2.3429291248321533; mnist loss=0.03633960336446762; adder loss=2.3065896034240723; epoch_mnist_correct=59501/60000; epoch_sum_correct=7211/60000: 100%|██████████| 60/60 [00:08<00:00,  6.75it/s]\n"
          ]
        },
        {
          "output_type": "stream",
          "name": "stdout",
          "text": [
            "Training set: Average mnist loss: 0.0000; mnist Accuracy: 59501/60000   99.1683%; adder Accuracy: 7211/60000   12.0183%\n"
          ]
        },
        {
          "output_type": "stream",
          "name": "stderr",
          "text": [
            "Testing phase: total_test_loss=23493.49760055542; total_correct=9887/10000; total_sum_correct=1227/10000: 100%|██████████| 10/10 [00:01<00:00,  6.52it/s]\n"
          ]
        },
        {
          "output_type": "stream",
          "name": "stdout",
          "text": [
            "Test set: Average loss: 0.0357, Accuracy: 9887/10000 (99%)\n",
            "\n",
            "Epoch: 25\n"
          ]
        },
        {
          "output_type": "stream",
          "name": "stderr",
          "text": [
            "Training phase: batch_id=59; total loss=2.3241002559661865; mnist loss=0.031593818217515945; adder loss=2.292506456375122; epoch_mnist_correct=59484/60000; epoch_sum_correct=7266/60000: 100%|██████████| 60/60 [00:08<00:00,  6.69it/s]\n"
          ]
        },
        {
          "output_type": "stream",
          "name": "stdout",
          "text": [
            "Training set: Average mnist loss: 0.0000; mnist Accuracy: 59484/60000   99.1400%; adder Accuracy: 7266/60000   12.1100%\n"
          ]
        },
        {
          "output_type": "stream",
          "name": "stderr",
          "text": [
            "Testing phase: total_test_loss=23320.59010887146; total_correct=9888/10000; total_sum_correct=1253/10000: 100%|██████████| 10/10 [00:01<00:00,  6.65it/s]\n"
          ]
        },
        {
          "output_type": "stream",
          "name": "stdout",
          "text": [
            "Test set: Average loss: 0.0349, Accuracy: 9888/10000 (99%)\n",
            "\n",
            "Epoch: 26\n"
          ]
        },
        {
          "output_type": "stream",
          "name": "stderr",
          "text": [
            "Training phase: batch_id=59; total loss=2.2902255058288574; mnist loss=0.033931076526641846; adder loss=2.2562944889068604; epoch_mnist_correct=59524/60000; epoch_sum_correct=8390/60000: 100%|██████████| 60/60 [00:08<00:00,  6.77it/s]\n"
          ]
        },
        {
          "output_type": "stream",
          "name": "stdout",
          "text": [
            "Training set: Average mnist loss: 0.0000; mnist Accuracy: 59524/60000   99.2067%; adder Accuracy: 8390/60000   13.9833%\n"
          ]
        },
        {
          "output_type": "stream",
          "name": "stderr",
          "text": [
            "Testing phase: total_test_loss=22942.993768692017; total_correct=9884/10000; total_sum_correct=1477/10000: 100%|██████████| 10/10 [00:01<00:00,  6.67it/s]\n"
          ]
        },
        {
          "output_type": "stream",
          "name": "stdout",
          "text": [
            "Test set: Average loss: 0.0376, Accuracy: 9884/10000 (99%)\n",
            "\n",
            "Epoch: 27\n"
          ]
        },
        {
          "output_type": "stream",
          "name": "stderr",
          "text": [
            "Training phase: batch_id=59; total loss=2.322251558303833; mnist loss=0.036940962076187134; adder loss=2.2853105068206787; epoch_mnist_correct=59443/60000; epoch_sum_correct=9664/60000: 100%|██████████| 60/60 [00:08<00:00,  6.73it/s]\n"
          ]
        },
        {
          "output_type": "stream",
          "name": "stdout",
          "text": [
            "Training set: Average mnist loss: 0.0000; mnist Accuracy: 59443/60000   99.0717%; adder Accuracy: 9664/60000   16.1067%\n"
          ]
        },
        {
          "output_type": "stream",
          "name": "stderr",
          "text": [
            "Testing phase: total_test_loss=24047.07745361328; total_correct=9854/10000; total_sum_correct=1192/10000: 100%|██████████| 10/10 [00:01<00:00,  6.71it/s]\n"
          ]
        },
        {
          "output_type": "stream",
          "name": "stdout",
          "text": [
            "Test set: Average loss: 0.0451, Accuracy: 9854/10000 (99%)\n",
            "\n",
            "Epoch: 28\n"
          ]
        },
        {
          "output_type": "stream",
          "name": "stderr",
          "text": [
            "Training phase: batch_id=59; total loss=2.1190590858459473; mnist loss=0.047306887805461884; adder loss=2.0717523097991943; epoch_mnist_correct=59234/60000; epoch_sum_correct=11344/60000: 100%|██████████| 60/60 [00:09<00:00,  6.62it/s]\n"
          ]
        },
        {
          "output_type": "stream",
          "name": "stdout",
          "text": [
            "Training set: Average mnist loss: 0.0000; mnist Accuracy: 59234/60000   98.7233%; adder Accuracy: 11344/60000   18.9067%\n"
          ]
        },
        {
          "output_type": "stream",
          "name": "stderr",
          "text": [
            "Testing phase: total_test_loss=20916.691871643066; total_correct=9870/10000; total_sum_correct=2493/10000: 100%|██████████| 10/10 [00:01<00:00,  6.68it/s]\n"
          ]
        },
        {
          "output_type": "stream",
          "name": "stdout",
          "text": [
            "Test set: Average loss: 0.0472, Accuracy: 9870/10000 (99%)\n",
            "\n",
            "Epoch: 29\n"
          ]
        },
        {
          "output_type": "stream",
          "name": "stderr",
          "text": [
            "Training phase: batch_id=59; total loss=1.9644734859466553; mnist loss=0.05323578789830208; adder loss=1.9112377166748047; epoch_mnist_correct=58837/60000; epoch_sum_correct=13253/60000: 100%|██████████| 60/60 [00:08<00:00,  6.69it/s]\n"
          ]
        },
        {
          "output_type": "stream",
          "name": "stdout",
          "text": [
            "Training set: Average mnist loss: 0.0001; mnist Accuracy: 58837/60000   98.0617%; adder Accuracy: 13253/60000   22.0883%\n"
          ]
        },
        {
          "output_type": "stream",
          "name": "stderr",
          "text": [
            "Testing phase: total_test_loss=19612.06130218506; total_correct=9827/10000; total_sum_correct=2601/10000: 100%|██████████| 10/10 [00:01<00:00,  6.73it/s]\n"
          ]
        },
        {
          "output_type": "stream",
          "name": "stdout",
          "text": [
            "Test set: Average loss: 0.0532, Accuracy: 9827/10000 (98%)\n",
            "\n",
            "Epoch: 30\n"
          ]
        },
        {
          "output_type": "stream",
          "name": "stderr",
          "text": [
            "Training phase: batch_id=59; total loss=1.7818599939346313; mnist loss=0.0424034520983696; adder loss=1.7394565343856812; epoch_mnist_correct=58924/60000; epoch_sum_correct=16623/60000: 100%|██████████| 60/60 [00:08<00:00,  6.75it/s]\n"
          ]
        },
        {
          "output_type": "stream",
          "name": "stdout",
          "text": [
            "Training set: Average mnist loss: 0.0001; mnist Accuracy: 58924/60000   98.2067%; adder Accuracy: 16623/60000   27.7050%\n"
          ]
        },
        {
          "output_type": "stream",
          "name": "stderr",
          "text": [
            "Testing phase: total_test_loss=17731.670921325684; total_correct=9841/10000; total_sum_correct=3187/10000: 100%|██████████| 10/10 [00:01<00:00,  6.32it/s]\n"
          ]
        },
        {
          "output_type": "stream",
          "name": "stdout",
          "text": [
            "Test set: Average loss: 0.0483, Accuracy: 9841/10000 (98%)\n",
            "\n",
            "Epoch: 31\n"
          ]
        },
        {
          "output_type": "stream",
          "name": "stderr",
          "text": [
            "Training phase: batch_id=59; total loss=1.652111530303955; mnist loss=0.05546499043703079; adder loss=1.5966465473175049; epoch_mnist_correct=58886/60000; epoch_sum_correct=18675/60000: 100%|██████████| 60/60 [00:09<00:00,  6.64it/s]\n"
          ]
        },
        {
          "output_type": "stream",
          "name": "stdout",
          "text": [
            "Training set: Average mnist loss: 0.0001; mnist Accuracy: 58886/60000   98.1433%; adder Accuracy: 18675/60000   31.1250%\n"
          ]
        },
        {
          "output_type": "stream",
          "name": "stderr",
          "text": [
            "Testing phase: total_test_loss=16496.897232055664; total_correct=9855/10000; total_sum_correct=3642/10000: 100%|██████████| 10/10 [00:01<00:00,  6.38it/s]\n"
          ]
        },
        {
          "output_type": "stream",
          "name": "stdout",
          "text": [
            "Test set: Average loss: 0.0470, Accuracy: 9855/10000 (99%)\n",
            "\n",
            "Epoch: 32\n"
          ]
        },
        {
          "output_type": "stream",
          "name": "stderr",
          "text": [
            "Training phase: batch_id=59; total loss=1.576848030090332; mnist loss=0.05380044877529144; adder loss=1.5230475664138794; epoch_mnist_correct=59110/60000; epoch_sum_correct=21775/60000: 100%|██████████| 60/60 [00:08<00:00,  6.72it/s]\n"
          ]
        },
        {
          "output_type": "stream",
          "name": "stdout",
          "text": [
            "Training set: Average mnist loss: 0.0001; mnist Accuracy: 59110/60000   98.5167%; adder Accuracy: 21775/60000   36.2917%\n"
          ]
        },
        {
          "output_type": "stream",
          "name": "stderr",
          "text": [
            "Testing phase: total_test_loss=16240.31718826294; total_correct=9853/10000; total_sum_correct=3365/10000: 100%|██████████| 10/10 [00:01<00:00,  6.66it/s]\n"
          ]
        },
        {
          "output_type": "stream",
          "name": "stdout",
          "text": [
            "Test set: Average loss: 0.0504, Accuracy: 9853/10000 (99%)\n",
            "\n",
            "Epoch: 33\n"
          ]
        },
        {
          "output_type": "stream",
          "name": "stderr",
          "text": [
            "Training phase: batch_id=59; total loss=1.4514415264129639; mnist loss=0.04111718758940697; adder loss=1.4103243350982666; epoch_mnist_correct=59200/60000; epoch_sum_correct=25014/60000: 100%|██████████| 60/60 [00:08<00:00,  6.71it/s]\n"
          ]
        },
        {
          "output_type": "stream",
          "name": "stdout",
          "text": [
            "Training set: Average mnist loss: 0.0000; mnist Accuracy: 59200/60000   98.6667%; adder Accuracy: 25014/60000   41.6900%\n"
          ]
        },
        {
          "output_type": "stream",
          "name": "stderr",
          "text": [
            "Testing phase: total_test_loss=15129.82808303833; total_correct=9866/10000; total_sum_correct=3775/10000: 100%|██████████| 10/10 [00:01<00:00,  6.78it/s]\n"
          ]
        },
        {
          "output_type": "stream",
          "name": "stdout",
          "text": [
            "Test set: Average loss: 0.0443, Accuracy: 9866/10000 (99%)\n",
            "\n",
            "Epoch: 34\n"
          ]
        },
        {
          "output_type": "stream",
          "name": "stderr",
          "text": [
            "Training phase: batch_id=59; total loss=1.4912123680114746; mnist loss=0.040997229516506195; adder loss=1.4502151012420654; epoch_mnist_correct=59246/60000; epoch_sum_correct=25852/60000: 100%|██████████| 60/60 [00:08<00:00,  6.78it/s]\n"
          ]
        },
        {
          "output_type": "stream",
          "name": "stdout",
          "text": [
            "Training set: Average mnist loss: 0.0000; mnist Accuracy: 59246/60000   98.7433%; adder Accuracy: 25852/60000   43.0867%\n"
          ]
        },
        {
          "output_type": "stream",
          "name": "stderr",
          "text": [
            "Testing phase: total_test_loss=14278.312549591064; total_correct=9869/10000; total_sum_correct=4311/10000: 100%|██████████| 10/10 [00:01<00:00,  6.25it/s]\n"
          ]
        },
        {
          "output_type": "stream",
          "name": "stdout",
          "text": [
            "Test set: Average loss: 0.0440, Accuracy: 9869/10000 (99%)\n",
            "\n",
            "Epoch: 35\n"
          ]
        },
        {
          "output_type": "stream",
          "name": "stderr",
          "text": [
            "Training phase: batch_id=59; total loss=1.3032138347625732; mnist loss=0.04726008325815201; adder loss=1.2559537887573242; epoch_mnist_correct=59249/60000; epoch_sum_correct=28681/60000: 100%|██████████| 60/60 [00:08<00:00,  6.70it/s]\n"
          ]
        },
        {
          "output_type": "stream",
          "name": "stdout",
          "text": [
            "Training set: Average mnist loss: 0.0000; mnist Accuracy: 59249/60000   98.7483%; adder Accuracy: 28681/60000   47.8017%\n"
          ]
        },
        {
          "output_type": "stream",
          "name": "stderr",
          "text": [
            "Testing phase: total_test_loss=13003.251094818115; total_correct=9885/10000; total_sum_correct=5777/10000: 100%|██████████| 10/10 [00:01<00:00,  6.75it/s]\n"
          ]
        },
        {
          "output_type": "stream",
          "name": "stdout",
          "text": [
            "Test set: Average loss: 0.0393, Accuracy: 9885/10000 (99%)\n",
            "\n",
            "Epoch: 36\n"
          ]
        },
        {
          "output_type": "stream",
          "name": "stderr",
          "text": [
            "Training phase: batch_id=59; total loss=1.2536394596099854; mnist loss=0.0329086072742939; adder loss=1.2207309007644653; epoch_mnist_correct=59279/60000; epoch_sum_correct=30367/60000: 100%|██████████| 60/60 [00:08<00:00,  6.78it/s]\n"
          ]
        },
        {
          "output_type": "stream",
          "name": "stdout",
          "text": [
            "Training set: Average mnist loss: 0.0000; mnist Accuracy: 59279/60000   98.7983%; adder Accuracy: 30367/60000   50.6117%\n"
          ]
        },
        {
          "output_type": "stream",
          "name": "stderr",
          "text": [
            "Testing phase: total_test_loss=12404.60633277893; total_correct=9886/10000; total_sum_correct=5275/10000: 100%|██████████| 10/10 [00:01<00:00,  6.63it/s]\n"
          ]
        },
        {
          "output_type": "stream",
          "name": "stdout",
          "text": [
            "Test set: Average loss: 0.0356, Accuracy: 9886/10000 (99%)\n",
            "\n",
            "Epoch: 37\n"
          ]
        },
        {
          "output_type": "stream",
          "name": "stderr",
          "text": [
            "Training phase: batch_id=59; total loss=1.3067444562911987; mnist loss=0.056838132441043854; adder loss=1.249906301498413; epoch_mnist_correct=59272/60000; epoch_sum_correct=30277/60000: 100%|██████████| 60/60 [00:08<00:00,  6.72it/s]\n"
          ]
        },
        {
          "output_type": "stream",
          "name": "stdout",
          "text": [
            "Training set: Average mnist loss: 0.0000; mnist Accuracy: 59272/60000   98.7867%; adder Accuracy: 30277/60000   50.4617%\n"
          ]
        },
        {
          "output_type": "stream",
          "name": "stderr",
          "text": [
            "Testing phase: total_test_loss=12534.731176376343; total_correct=9869/10000; total_sum_correct=5657/10000: 100%|██████████| 10/10 [00:01<00:00,  6.61it/s]\n"
          ]
        },
        {
          "output_type": "stream",
          "name": "stdout",
          "text": [
            "Test set: Average loss: 0.0451, Accuracy: 9869/10000 (99%)\n",
            "\n",
            "Epoch: 38\n"
          ]
        },
        {
          "output_type": "stream",
          "name": "stderr",
          "text": [
            "Training phase: batch_id=59; total loss=1.1521775722503662; mnist loss=0.03173784166574478; adder loss=1.1204397678375244; epoch_mnist_correct=59302/60000; epoch_sum_correct=34412/60000: 100%|██████████| 60/60 [00:08<00:00,  6.75it/s]\n"
          ]
        },
        {
          "output_type": "stream",
          "name": "stdout",
          "text": [
            "Training set: Average mnist loss: 0.0000; mnist Accuracy: 59302/60000   98.8367%; adder Accuracy: 34412/60000   57.3533%\n"
          ]
        },
        {
          "output_type": "stream",
          "name": "stderr",
          "text": [
            "Testing phase: total_test_loss=11324.577535629272; total_correct=9892/10000; total_sum_correct=6374/10000: 100%|██████████| 10/10 [00:01<00:00,  6.81it/s]\n"
          ]
        },
        {
          "output_type": "stream",
          "name": "stdout",
          "text": [
            "Test set: Average loss: 0.0359, Accuracy: 9892/10000 (99%)\n",
            "\n",
            "Epoch: 39\n"
          ]
        },
        {
          "output_type": "stream",
          "name": "stderr",
          "text": [
            "Training phase: batch_id=59; total loss=1.1539160013198853; mnist loss=0.02204318717122078; adder loss=1.1318727731704712; epoch_mnist_correct=59364/60000; epoch_sum_correct=35954/60000: 100%|██████████| 60/60 [00:08<00:00,  6.75it/s]\n"
          ]
        },
        {
          "output_type": "stream",
          "name": "stdout",
          "text": [
            "Training set: Average mnist loss: 0.0000; mnist Accuracy: 59364/60000   98.9400%; adder Accuracy: 35954/60000   59.9233%\n"
          ]
        },
        {
          "output_type": "stream",
          "name": "stderr",
          "text": [
            "Testing phase: total_test_loss=10901.953783035278; total_correct=9890/10000; total_sum_correct=6768/10000: 100%|██████████| 10/10 [00:01<00:00,  6.63it/s]\n"
          ]
        },
        {
          "output_type": "stream",
          "name": "stdout",
          "text": [
            "Test set: Average loss: 0.0365, Accuracy: 9890/10000 (99%)\n",
            "\n",
            "Epoch: 40\n"
          ]
        },
        {
          "output_type": "stream",
          "name": "stderr",
          "text": [
            "Training phase: batch_id=59; total loss=1.0667355060577393; mnist loss=0.04433060437440872; adder loss=1.0224049091339111; epoch_mnist_correct=59379/60000; epoch_sum_correct=36199/60000: 100%|██████████| 60/60 [00:08<00:00,  6.72it/s]\n"
          ]
        },
        {
          "output_type": "stream",
          "name": "stdout",
          "text": [
            "Training set: Average mnist loss: 0.0000; mnist Accuracy: 59379/60000   98.9650%; adder Accuracy: 36199/60000   60.3317%\n"
          ]
        },
        {
          "output_type": "stream",
          "name": "stderr",
          "text": [
            "Testing phase: total_test_loss=10668.744092941284; total_correct=9898/10000; total_sum_correct=6431/10000: 100%|██████████| 10/10 [00:01<00:00,  6.84it/s]\n"
          ]
        },
        {
          "output_type": "stream",
          "name": "stdout",
          "text": [
            "Test set: Average loss: 0.0336, Accuracy: 9898/10000 (99%)\n",
            "\n",
            "Epoch: 41\n"
          ]
        },
        {
          "output_type": "stream",
          "name": "stderr",
          "text": [
            "Training phase: batch_id=59; total loss=1.0058436393737793; mnist loss=0.036554671823978424; adder loss=0.9692889451980591; epoch_mnist_correct=59386/60000; epoch_sum_correct=37662/60000: 100%|██████████| 60/60 [00:08<00:00,  6.68it/s]\n"
          ]
        },
        {
          "output_type": "stream",
          "name": "stdout",
          "text": [
            "Training set: Average mnist loss: 0.0000; mnist Accuracy: 59386/60000   98.9767%; adder Accuracy: 37662/60000   62.7700%\n"
          ]
        },
        {
          "output_type": "stream",
          "name": "stderr",
          "text": [
            "Testing phase: total_test_loss=10362.231340408325; total_correct=9902/10000; total_sum_correct=6386/10000: 100%|██████████| 10/10 [00:01<00:00,  6.94it/s]\n"
          ]
        },
        {
          "output_type": "stream",
          "name": "stdout",
          "text": [
            "Test set: Average loss: 0.0330, Accuracy: 9902/10000 (99%)\n",
            "\n",
            "Epoch: 42\n"
          ]
        },
        {
          "output_type": "stream",
          "name": "stderr",
          "text": [
            "Training phase: batch_id=59; total loss=0.9292032122612; mnist loss=0.02427670545876026; adder loss=0.9049264788627625; epoch_mnist_correct=59407/60000; epoch_sum_correct=39319/60000: 100%|██████████| 60/60 [00:08<00:00,  6.71it/s]\n"
          ]
        },
        {
          "output_type": "stream",
          "name": "stdout",
          "text": [
            "Training set: Average mnist loss: 0.0000; mnist Accuracy: 59407/60000   99.0117%; adder Accuracy: 39319/60000   65.5317%\n"
          ]
        },
        {
          "output_type": "stream",
          "name": "stderr",
          "text": [
            "Testing phase: total_test_loss=9598.374032974243; total_correct=9905/10000; total_sum_correct=7490/10000: 100%|██████████| 10/10 [00:01<00:00,  6.61it/s]\n"
          ]
        },
        {
          "output_type": "stream",
          "name": "stdout",
          "text": [
            "Test set: Average loss: 0.0327, Accuracy: 9905/10000 (99%)\n",
            "\n",
            "Epoch: 43\n"
          ]
        },
        {
          "output_type": "stream",
          "name": "stderr",
          "text": [
            "Training phase: batch_id=59; total loss=1.0602824687957764; mnist loss=0.045327652245759964; adder loss=1.0149548053741455; epoch_mnist_correct=59407/60000; epoch_sum_correct=38615/60000: 100%|██████████| 60/60 [00:08<00:00,  6.75it/s]\n"
          ]
        },
        {
          "output_type": "stream",
          "name": "stdout",
          "text": [
            "Training set: Average mnist loss: 0.0000; mnist Accuracy: 59407/60000   99.0117%; adder Accuracy: 38615/60000   64.3583%\n"
          ]
        },
        {
          "output_type": "stream",
          "name": "stderr",
          "text": [
            "Testing phase: total_test_loss=9328.156694412231; total_correct=9903/10000; total_sum_correct=7409/10000: 100%|██████████| 10/10 [00:01<00:00,  6.76it/s]\n"
          ]
        },
        {
          "output_type": "stream",
          "name": "stdout",
          "text": [
            "Test set: Average loss: 0.0330, Accuracy: 9903/10000 (99%)\n",
            "\n",
            "Epoch: 44\n"
          ]
        },
        {
          "output_type": "stream",
          "name": "stderr",
          "text": [
            "Training phase: batch_id=59; total loss=0.8918147683143616; mnist loss=0.03399307653307915; adder loss=0.8578217029571533; epoch_mnist_correct=59472/60000; epoch_sum_correct=41764/60000: 100%|██████████| 60/60 [00:08<00:00,  6.76it/s]\n"
          ]
        },
        {
          "output_type": "stream",
          "name": "stdout",
          "text": [
            "Training set: Average mnist loss: 0.0000; mnist Accuracy: 59472/60000   99.1200%; adder Accuracy: 41764/60000   69.6067%\n"
          ]
        },
        {
          "output_type": "stream",
          "name": "stderr",
          "text": [
            "Testing phase: total_test_loss=10172.612203598022; total_correct=9908/10000; total_sum_correct=5741/10000: 100%|██████████| 10/10 [00:01<00:00,  6.47it/s]\n"
          ]
        },
        {
          "output_type": "stream",
          "name": "stdout",
          "text": [
            "Test set: Average loss: 0.0315, Accuracy: 9908/10000 (99%)\n",
            "\n",
            "Epoch: 45\n"
          ]
        },
        {
          "output_type": "stream",
          "name": "stderr",
          "text": [
            "Training phase: batch_id=59; total loss=0.9285699129104614; mnist loss=0.029996078461408615; adder loss=0.8985738158226013; epoch_mnist_correct=59451/60000; epoch_sum_correct=40985/60000: 100%|██████████| 60/60 [00:08<00:00,  6.75it/s]\n"
          ]
        },
        {
          "output_type": "stream",
          "name": "stdout",
          "text": [
            "Training set: Average mnist loss: 0.0000; mnist Accuracy: 59451/60000   99.0850%; adder Accuracy: 40985/60000   68.3083%\n"
          ]
        },
        {
          "output_type": "stream",
          "name": "stderr",
          "text": [
            "Testing phase: total_test_loss=9085.671007156372; total_correct=9905/10000; total_sum_correct=7131/10000: 100%|██████████| 10/10 [00:01<00:00,  6.64it/s]\n"
          ]
        },
        {
          "output_type": "stream",
          "name": "stdout",
          "text": [
            "Test set: Average loss: 0.0323, Accuracy: 9905/10000 (99%)\n",
            "\n",
            "Epoch: 46\n"
          ]
        },
        {
          "output_type": "stream",
          "name": "stderr",
          "text": [
            "Training phase: batch_id=59; total loss=0.8265974521636963; mnist loss=0.029581133276224136; adder loss=0.7970163226127625; epoch_mnist_correct=59471/60000; epoch_sum_correct=42646/60000: 100%|██████████| 60/60 [00:08<00:00,  6.68it/s]\n"
          ]
        },
        {
          "output_type": "stream",
          "name": "stdout",
          "text": [
            "Training set: Average mnist loss: 0.0000; mnist Accuracy: 59471/60000   99.1183%; adder Accuracy: 42646/60000   71.0767%\n"
          ]
        },
        {
          "output_type": "stream",
          "name": "stderr",
          "text": [
            "Testing phase: total_test_loss=8419.704275131226; total_correct=9903/10000; total_sum_correct=7812/10000: 100%|██████████| 10/10 [00:01<00:00,  6.28it/s]\n"
          ]
        },
        {
          "output_type": "stream",
          "name": "stdout",
          "text": [
            "Test set: Average loss: 0.0317, Accuracy: 9903/10000 (99%)\n",
            "\n",
            "Epoch: 47\n"
          ]
        },
        {
          "output_type": "stream",
          "name": "stderr",
          "text": [
            "Training phase: batch_id=59; total loss=0.8263429999351501; mnist loss=0.027625655755400658; adder loss=0.7987173199653625; epoch_mnist_correct=59486/60000; epoch_sum_correct=43884/60000: 100%|██████████| 60/60 [00:09<00:00,  6.58it/s]\n"
          ]
        },
        {
          "output_type": "stream",
          "name": "stdout",
          "text": [
            "Training set: Average mnist loss: 0.0000; mnist Accuracy: 59486/60000   99.1433%; adder Accuracy: 43884/60000   73.1400%\n"
          ]
        },
        {
          "output_type": "stream",
          "name": "stderr",
          "text": [
            "Testing phase: total_test_loss=8177.347946166992; total_correct=9913/10000; total_sum_correct=7809/10000: 100%|██████████| 10/10 [00:01<00:00,  6.62it/s]\n"
          ]
        },
        {
          "output_type": "stream",
          "name": "stdout",
          "text": [
            "Test set: Average loss: 0.0302, Accuracy: 9913/10000 (99%)\n",
            "\n",
            "Epoch: 48\n"
          ]
        },
        {
          "output_type": "stream",
          "name": "stderr",
          "text": [
            "Training phase: batch_id=59; total loss=0.8106864094734192; mnist loss=0.024420911446213722; adder loss=0.78626549243927; epoch_mnist_correct=59510/60000; epoch_sum_correct=43809/60000: 100%|██████████| 60/60 [00:08<00:00,  6.72it/s]\n"
          ]
        },
        {
          "output_type": "stream",
          "name": "stdout",
          "text": [
            "Training set: Average mnist loss: 0.0000; mnist Accuracy: 59510/60000   99.1833%; adder Accuracy: 43809/60000   73.0150%\n"
          ]
        },
        {
          "output_type": "stream",
          "name": "stderr",
          "text": [
            "Testing phase: total_test_loss=8517.124522209167; total_correct=9910/10000; total_sum_correct=7240/10000: 100%|██████████| 10/10 [00:01<00:00,  6.64it/s]\n"
          ]
        },
        {
          "output_type": "stream",
          "name": "stdout",
          "text": [
            "Test set: Average loss: 0.0304, Accuracy: 9910/10000 (99%)\n",
            "\n",
            "Epoch: 49\n"
          ]
        },
        {
          "output_type": "stream",
          "name": "stderr",
          "text": [
            "Training phase: batch_id=59; total loss=0.8316329121589661; mnist loss=0.019724559038877487; adder loss=0.8119083642959595; epoch_mnist_correct=59515/60000; epoch_sum_correct=46566/60000: 100%|██████████| 60/60 [00:08<00:00,  6.69it/s]\n"
          ]
        },
        {
          "output_type": "stream",
          "name": "stdout",
          "text": [
            "Training set: Average mnist loss: 0.0000; mnist Accuracy: 59515/60000   99.1917%; adder Accuracy: 46566/60000   77.6100%\n"
          ]
        },
        {
          "output_type": "stream",
          "name": "stderr",
          "text": [
            "Testing phase: total_test_loss=8539.1895236969; total_correct=9903/10000; total_sum_correct=6907/10000: 100%|██████████| 10/10 [00:01<00:00,  6.63it/s]\n"
          ]
        },
        {
          "output_type": "stream",
          "name": "stdout",
          "text": [
            "Test set: Average loss: 0.0323, Accuracy: 9903/10000 (99%)\n",
            "\n",
            "Epoch: 50\n"
          ]
        },
        {
          "output_type": "stream",
          "name": "stderr",
          "text": [
            "Training phase: batch_id=59; total loss=0.8966447114944458; mnist loss=0.02803477644920349; adder loss=0.8686099052429199; epoch_mnist_correct=59511/60000; epoch_sum_correct=44550/60000: 100%|██████████| 60/60 [00:09<00:00,  6.63it/s]\n"
          ]
        },
        {
          "output_type": "stream",
          "name": "stdout",
          "text": [
            "Training set: Average mnist loss: 0.0000; mnist Accuracy: 59511/60000   99.1850%; adder Accuracy: 44550/60000   74.2500%\n"
          ]
        },
        {
          "output_type": "stream",
          "name": "stderr",
          "text": [
            "Testing phase: total_test_loss=8044.346004486084; total_correct=9899/10000; total_sum_correct=7603/10000: 100%|██████████| 10/10 [00:01<00:00,  6.68it/s]"
          ]
        },
        {
          "output_type": "stream",
          "name": "stdout",
          "text": [
            "Test set: Average loss: 0.0338, Accuracy: 9899/10000 (99%)\n",
            "\n"
          ]
        },
        {
          "output_type": "stream",
          "name": "stderr",
          "text": [
            "\n"
          ]
        }
      ]
    }
  ]
}